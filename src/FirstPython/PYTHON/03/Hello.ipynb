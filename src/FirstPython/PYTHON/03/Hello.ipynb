{
 "cells": [
  {
   "cell_type": "code",
   "execution_count": null,
   "metadata": {},
   "outputs": [
    {
     "ename": "",
     "evalue": "",
     "output_type": "error",
     "traceback": [
      "\u001b[1;31mRunning cells with 'Python 3.12.6' requires the ipykernel package.\n",
      "\u001b[1;31mRun the following command to install 'ipykernel' into the Python environment. \n",
      "\u001b[1;31mCommand: 'c:/Users/user/AppData/Local/Programs/Python/Python312/python.exe -m pip install ipykernel -U --user --force-reinstall'"
     ]
    }
   ],
   "source": [
    "print('Hello')"
   ]
  },
  {
   "cell_type": "code",
   "execution_count": 1,
   "metadata": {},
   "outputs": [
    {
     "name": "stdout",
     "output_type": "stream",
     "text": [
      "2\n"
     ]
    }
   ],
   "source": [
    "print(1+1)"
   ]
  },
  {
   "cell_type": "code",
   "execution_count": 2,
   "metadata": {},
   "outputs": [
    {
     "name": "stdout",
     "output_type": "stream",
     "text": [
      "Hello World\n"
     ]
    }
   ],
   "source": [
    "print('Hello World')"
   ]
  },
  {
   "cell_type": "code",
   "execution_count": 23,
   "metadata": {},
   "outputs": [
    {
     "name": "stdout",
     "output_type": "stream",
     "text": [
      "HelloWorld\n",
      "Hello World\n",
      "\n",
      "구성순\n",
      "Hello WorldHello WorldHello World\n",
      "Hello World 3\n",
      "hello\"안녕하세요\"\n",
      "hello'안녕하세요'\n"
     ]
    }
   ],
   "source": [
    "print(\"Hello\" + \"World\", end=\"\\n\")\n",
    "print('Hello',\"World\")\n",
    "\n",
    "print() #자동으로 공백 문자 삽입 end ='\\n'\n",
    "print(\"구성순\")\n",
    "\n",
    "print(\"Hello World\"*3)\n",
    "print(\"Hello World\",3)\n",
    "#print(\"Hello World\"+3) #숫자와 문자열 연산 오류\n",
    "\n",
    "print('hello\"안녕하세요\"')\n",
    "print(\"hello'안녕하세요'\")"
   ]
  },
  {
   "cell_type": "code",
   "execution_count": 26,
   "metadata": {},
   "outputs": [
    {
     "name": "stdout",
     "output_type": "stream",
     "text": [
      "HelloWorldHello World\n"
     ]
    }
   ],
   "source": [
    "print(\"Hello\" + \"World\", end=\"\")\n",
    "print('Hello',\"World\")"
   ]
  },
  {
   "cell_type": "code",
   "execution_count": 31,
   "metadata": {},
   "outputs": [
    {
     "name": "stdout",
     "output_type": "stream",
     "text": [
      "PYTHON\n",
      "PY TON\n"
     ]
    }
   ],
   "source": [
    "print('P','Y','T','H','O','N',sep=\"\")\n",
    "print('PY','TON')"
   ]
  },
  {
   "cell_type": "code",
   "execution_count": 37,
   "metadata": {},
   "outputs": [
    {
     "name": "stdout",
     "output_type": "stream",
     "text": [
      "python Start!\n",
      "python\n",
      "      Start!\n",
      "python      Start!\n"
     ]
    }
   ],
   "source": [
    "print(\"\"\"python Start!\"\"\")\n",
    "print(\"\"\"python\n",
    "      Start!\"\"\")\n",
    "'''\n",
    "print(\"python\n",
    "      Start!\")\n",
    "문자열은 내려쓰기가 안됩니다.\n",
    "'''\n",
    "\n",
    "# // C 계열에서 주석 처리\n",
    "# C 계열에서 여러줄 주석처리 /* */\n",
    "\n",
    "print(\"\"\"python\\\n",
    "      Start!\"\"\")"
   ]
  },
  {
   "cell_type": "code",
   "execution_count": null,
   "metadata": {},
   "outputs": [],
   "source": []
  }
 ],
 "metadata": {
  "kernelspec": {
   "display_name": "Python 3",
   "language": "python",
   "name": "python3"
  },
  "language_info": {
   "codemirror_mode": {
    "name": "ipython",
    "version": 3
   },
   "file_extension": ".py",
   "mimetype": "text/x-python",
   "name": "python",
   "nbconvert_exporter": "python",
   "pygments_lexer": "ipython3",
   "version": "3.12.6"
  }
 },
 "nbformat": 4,
 "nbformat_minor": 2
}
