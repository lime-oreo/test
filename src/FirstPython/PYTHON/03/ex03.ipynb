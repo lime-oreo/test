{
 "cells": [
  {
   "cell_type": "code",
   "execution_count": 2,
   "metadata": {},
   "outputs": [
    {
     "name": "stdout",
     "output_type": "stream",
     "text": [
      "Hello, Python!\n"
     ]
    }
   ],
   "source": [
    "print(\"Hello, Python!\")"
   ]
  },
  {
   "cell_type": "code",
   "execution_count": 4,
   "metadata": {},
   "outputs": [
    {
     "name": "stdout",
     "output_type": "stream",
     "text": [
      "apple-banana-organge\n"
     ]
    }
   ],
   "source": [
    "print(\"apple\",\"banana\",\"organge\",sep=\"-\")"
   ]
  },
  {
   "cell_type": "code",
   "execution_count": 8,
   "metadata": {},
   "outputs": [
    {
     "name": "stdout",
     "output_type": "stream",
     "text": [
      "Hello, Python!\n"
     ]
    }
   ],
   "source": [
    "print(\"Hello,\",end=\" \")\n",
    "print(\"Python!\")"
   ]
  },
  {
   "cell_type": "code",
   "execution_count": 10,
   "metadata": {},
   "outputs": [
    {
     "name": "stdout",
     "output_type": "stream",
     "text": [
      "I love\n",
      "Python!\n"
     ]
    }
   ],
   "source": [
    "print(\"I love\\nPython!\")"
   ]
  },
  {
   "cell_type": "code",
   "execution_count": 12,
   "metadata": {},
   "outputs": [
    {
     "name": "stdout",
     "output_type": "stream",
     "text": [
      "This is the first line.\n",
      "This is the second line.\n"
     ]
    }
   ],
   "source": [
    "print(\"This is the first line.\\nThis is the second line.\")"
   ]
  },
  {
   "cell_type": "code",
   "execution_count": 15,
   "metadata": {},
   "outputs": [
    {
     "name": "stdout",
     "output_type": "stream",
     "text": [
      "Name:\tJohn\n",
      "Age:\t25\n"
     ]
    }
   ],
   "source": [
    "print(\"Name:\\tJohn\")\n",
    "print(\"Age:\\t25\")"
   ]
  },
  {
   "cell_type": "code",
   "execution_count": 16,
   "metadata": {},
   "outputs": [
    {
     "name": "stdout",
     "output_type": "stream",
     "text": [
      "Name:John\n",
      "Age:25\n"
     ]
    }
   ],
   "source": [
    "print(\"Name:John\")\n",
    "print(\"Age:25\")"
   ]
  },
  {
   "cell_type": "code",
   "execution_count": 24,
   "metadata": {},
   "outputs": [
    {
     "ename": "SyntaxError",
     "evalue": "unterminated string literal (detected at line 2) (3496574366.py, line 2)",
     "output_type": "error",
     "traceback": [
      "\u001b[1;36m  Cell \u001b[1;32mIn[24], line 2\u001b[1;36m\u001b[0m\n\u001b[1;33m    print(\"This is a backslash : \\\")\u001b[0m\n\u001b[1;37m          ^\u001b[0m\n\u001b[1;31mSyntaxError\u001b[0m\u001b[1;31m:\u001b[0m unterminated string literal (detected at line 2)\n"
     ]
    }
   ],
   "source": [
    "print(\"This is a backslash : \\\\\")\n",
    "print(\"This is a backslash : \\\")"
   ]
  },
  {
   "cell_type": "code",
   "execution_count": 22,
   "metadata": {},
   "outputs": [
    {
     "name": "stdout",
     "output_type": "stream",
     "text": [
      "He said,\"Hello.\"\n",
      "It's a nice day.\n"
     ]
    }
   ],
   "source": [
    "print(\"He said,\\\"Hello.\\\"\")\n",
    "print('It\\'s a nice day.')"
   ]
  },
  {
   "cell_type": "code",
   "execution_count": 25,
   "metadata": {},
   "outputs": [
    {
     "name": "stdout",
     "output_type": "stream",
     "text": [
      "Subjects:\n",
      "\t- Math\n",
      "\t- English\n",
      "\t- Science\n"
     ]
    }
   ],
   "source": [
    "print(\"Subjects:\\n\\t- Math\\n\\t- English\\n\\t- Science\")"
   ]
  },
  {
   "cell_type": "code",
   "execution_count": 28,
   "metadata": {},
   "outputs": [
    {
     "name": "stdout",
     "output_type": "stream",
     "text": [
      "Welcome To IT News Web Site\n",
      "Welcome To\n",
      "IT News\n",
      "Web Site\n"
     ]
    }
   ],
   "source": [
    "# end 옵션 사용\n",
    "# 기본은 end = \"\\n\"\n",
    "print('Welcome To', end=' ')\n",
    "print('IT News', end=' ')\n",
    "print('Web Site')\n",
    "# 줄바꿈을 없애버려서 줄바꿈이 안나오는것\n",
    "\n",
    "# end 옵션 사용\n",
    "# 기본은 end = \"\\n\"\n",
    "print('Welcome To')\n",
    "print('IT News')\n",
    "print('Web Site')"
   ]
  },
  {
   "cell_type": "code",
   "execution_count": 30,
   "metadata": {},
   "outputs": [
    {
     "name": "stdout",
     "output_type": "stream",
     "text": [
      "PYTHON\n",
      "010-7777-7777\n",
      "python@google.com\n"
     ]
    }
   ],
   "source": [
    "# separator 옵션 사용\n",
    "# 기본은 sep=\" \"\n",
    "print('P', 'Y', 'T', 'H','O','N', sep='') #sep가 없을때와 비교해서 확인\n",
    "print('010', '7777', '7777', sep='-')\n",
    "print('python', 'google.com', sep='@')"
   ]
  },
  {
   "cell_type": "code",
   "execution_count": 32,
   "metadata": {},
   "outputs": [
    {
     "name": "stdout",
     "output_type": "stream",
     "text": [
      "안녕하세요.\n",
      "만나서\t\t반갑습니다.\n"
     ]
    }
   ],
   "source": [
    "print(\"안녕하세요.\\n만나서\\t\\t반갑습니다.\")"
   ]
  },
  {
   "cell_type": "code",
   "execution_count": 34,
   "metadata": {},
   "outputs": [
    {
     "name": "stdout",
     "output_type": "stream",
     "text": [
      "신씨가 소리질렀다.\"도둑이야\".\n"
     ]
    }
   ],
   "source": [
    "print('신씨가 소리질렀다.\\\"도둑이야\\\".')"
   ]
  },
  {
   "cell_type": "code",
   "execution_count": 36,
   "metadata": {},
   "outputs": [
    {
     "name": "stdout",
     "output_type": "stream",
     "text": [
      "파이썬 공부가 재미있어요!\n",
      "프로그래밍은 재미있습니다.\n"
     ]
    }
   ],
   "source": [
    "print(\"파이썬 공부가 재미있어요!\")\n",
    "print(\"프로그래밍은 재미있습니다.\")"
   ]
  },
  {
   "cell_type": "code",
   "execution_count": 38,
   "metadata": {},
   "outputs": [
    {
     "name": "stdout",
     "output_type": "stream",
     "text": [
      "Hello!Hello!Hello!\n"
     ]
    }
   ],
   "source": [
    "print(\"Hello!\"*3)"
   ]
  },
  {
   "cell_type": "code",
   "execution_count": 44,
   "metadata": {},
   "outputs": [
    {
     "name": "stdout",
     "output_type": "stream",
     "text": [
      "Python Python Python\n"
     ]
    }
   ],
   "source": [
    "print(\"Python\",\"Python\",\"Python\")"
   ]
  },
  {
   "cell_type": "code",
   "execution_count": 6,
   "metadata": {},
   "outputs": [
    {
     "name": "stdout",
     "output_type": "stream",
     "text": [
      "파이썬프로그래밍\n",
      "파이썬 프로그래밍\n",
      "파이썬프로그래밍\n"
     ]
    }
   ],
   "source": [
    "print(\"파이썬\"+\"프로그래밍\")\n",
    "print(\"파이썬\",\"프로그래밍\")\n",
    "print(\"파이썬\",\"프로그래밍\",sep='')"
   ]
  },
  {
   "cell_type": "code",
   "execution_count": 7,
   "metadata": {},
   "outputs": [
    {
     "name": "stdout",
     "output_type": "stream",
     "text": [
      "Mary's consmetics\n"
     ]
    }
   ],
   "source": [
    "print(\"Mary\\'s consmetics\")"
   ]
  },
  {
   "cell_type": "code",
   "execution_count": 8,
   "metadata": {},
   "outputs": [
    {
     "name": "stdout",
     "output_type": "stream",
     "text": [
      "naver;kakao;samsung\n"
     ]
    }
   ],
   "source": [
    "print(\"naver;kakao;samsung\")"
   ]
  },
  {
   "cell_type": "code",
   "execution_count": 14,
   "metadata": {},
   "outputs": [
    {
     "ename": "SyntaxError",
     "evalue": "unexpected character after line continuation character (2452210146.py, line 4)",
     "output_type": "error",
     "traceback": [
      "\u001b[1;36m  Cell \u001b[1;32mIn[14], line 4\u001b[1;36m\u001b[0m\n\u001b[1;33m    print(\\n)\u001b[0m\n\u001b[1;37m           ^\u001b[0m\n\u001b[1;31mSyntaxError\u001b[0m\u001b[1;31m:\u001b[0m unexpected character after line continuation character\n"
     ]
    }
   ],
   "source": [
    "\n",
    "# 문제\n",
    "print(\"안녕하세요.\\n만나서 반갑습니다.\")\n",
    "# \\n 줄바꿈\n",
    "print(\"\\n\")\n",
    "print(\"안녕하세요.만나서\\t\\t반갑습니다.\")\n",
    "# \\t 탭 넣기. \\t\\t이므로 두번 탭이 들어감.\n",
    "#그러므로 결과는 아래와 같음.\n",
    "print(\"안녕하세요.\\n만나서\\t\\t반갑습니다.\")"
   ]
  },
  {
   "cell_type": "code",
   "execution_count": 2,
   "metadata": {},
   "outputs": [
    {
     "name": "stdout",
     "output_type": "stream",
     "text": [
      "78.5\n",
      "8.16\n"
     ]
    }
   ],
   "source": [
    "print(5*5*3.14)\n",
    "print((1+3)*(5-2)*(2-1.32))"
   ]
  },
  {
   "cell_type": "code",
   "execution_count": 4,
   "metadata": {},
   "outputs": [
    {
     "name": "stdout",
     "output_type": "stream",
     "text": [
      "To do list : 2020-10-15\n",
      "1. 도서관에서 가서 책 빌리기\n",
      "2.점심시간에 친구구를 만나 식사하기 \n",
      "3.파이썬 공부하기 \n",
      "4.아빠 가게에 가서 일 돕기 \n",
      "5.저녁에 남자친구와 데이트하기\n"
     ]
    }
   ],
   "source": [
    "print('To do list : 2020-10-15')\n",
    "print('1. 도서관에서 가서 책 빌리기\\n2.점심시간에 친구구를 만나 식사하기 \\n3.파이썬 공부하기 \\n4.아빠 가게에 가서 일 돕기 \\n5.저녁에 남자친구와 데이트하기')"
   ]
  }
 ],
 "metadata": {
  "kernelspec": {
   "display_name": "Python 3",
   "language": "python",
   "name": "python3"
  },
  "language_info": {
   "codemirror_mode": {
    "name": "ipython",
    "version": 3
   },
   "file_extension": ".py",
   "mimetype": "text/x-python",
   "name": "python",
   "nbconvert_exporter": "python",
   "pygments_lexer": "ipython3",
   "version": "3.12.6"
  }
 },
 "nbformat": 4,
 "nbformat_minor": 2
}
