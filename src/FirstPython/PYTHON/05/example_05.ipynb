{
 "cells": [
  {
   "cell_type": "code",
   "execution_count": 5,
   "metadata": {},
   "outputs": [
    {
     "name": "stdout",
     "output_type": "stream",
     "text": [
      "300\n",
      "<class 'int'>\n",
      "4.140000000000001\n",
      "<class 'float'>\n",
      "103.14\n",
      "<class 'float'>\n"
     ]
    }
   ],
   "source": [
    "#ch05_01 데이터 연산\n",
    "num1=100\n",
    "num2=200\n",
    "result = num1 + num2\n",
    "print(result)\n",
    "print(type(result))\n",
    "\n",
    "my_num1=3.14\n",
    "my_num2=1.0\n",
    "my_result=my_num1 + my_num2\n",
    "print(my_result)\n",
    "print(type(my_result))\n",
    "\n",
    "print(my_num1+num1)\n",
    "print(type(my_num1+num1))\n",
    "#실수와 정수를 연산했을 때 type은 float\n"
   ]
  },
  {
   "cell_type": "code",
   "execution_count": 6,
   "metadata": {},
   "outputs": [
    {
     "ename": "TypeError",
     "evalue": "sum() takes at most 2 arguments (3 given)",
     "output_type": "error",
     "traceback": [
      "\u001b[1;31m---------------------------------------------------------------------------\u001b[0m",
      "\u001b[1;31mTypeError\u001b[0m                                 Traceback (most recent call last)",
      "Cell \u001b[1;32mIn[6], line 6\u001b[0m\n\u001b[0;32m      4\u001b[0m sales3\u001b[38;5;241m=\u001b[39m\u001b[38;5;28mint\u001b[39m(\u001b[38;5;28minput\u001b[39m(\u001b[38;5;124m'\u001b[39m\u001b[38;5;124m3월 매출 :\u001b[39m\u001b[38;5;124m'\u001b[39m))\n\u001b[0;32m      5\u001b[0m total \u001b[38;5;241m=\u001b[39m sales1 \u001b[38;5;241m+\u001b[39m sales2 \u001b[38;5;241m+\u001b[39m sales3\n\u001b[1;32m----> 6\u001b[0m \u001b[38;5;28;43msum\u001b[39;49m\u001b[43m(\u001b[49m\u001b[43msales1\u001b[49m\u001b[43m,\u001b[49m\u001b[43msales2\u001b[49m\u001b[43m,\u001b[49m\u001b[43msales3\u001b[49m\u001b[43m)\u001b[49m\n\u001b[0;32m      7\u001b[0m \u001b[38;5;28mprint\u001b[39m(\u001b[38;5;124m'\u001b[39m\u001b[38;5;124m1분기의 전체 매출 :\u001b[39m\u001b[38;5;124m'\u001b[39m,total,\u001b[38;5;124m'\u001b[39m\u001b[38;5;124m원\u001b[39m\u001b[38;5;124m'\u001b[39m)\n\u001b[0;32m      8\u001b[0m \u001b[38;5;28mprint\u001b[39m(\u001b[38;5;124mf\u001b[39m\u001b[38;5;124m'\u001b[39m\u001b[38;5;124m1분기의 전체 매출 : \u001b[39m\u001b[38;5;132;01m{\u001b[39;00mtotal\u001b[38;5;132;01m}\u001b[39;00m\u001b[38;5;124m원\u001b[39m\u001b[38;5;124m'\u001b[39m)\n",
      "\u001b[1;31mTypeError\u001b[0m: sum() takes at most 2 arguments (3 given)"
     ]
    }
   ],
   "source": []
  },
  {
   "cell_type": "code",
   "execution_count": 7,
   "metadata": {},
   "outputs": [
    {
     "ename": "TypeError",
     "evalue": "unsupported operand type(s) for +: 'int' and 'str'",
     "output_type": "error",
     "traceback": [
      "\u001b[1;31m---------------------------------------------------------------------------\u001b[0m",
      "\u001b[1;31mTypeError\u001b[0m                                 Traceback (most recent call last)",
      "Cell \u001b[1;32mIn[7], line 1\u001b[0m\n\u001b[1;32m----> 1\u001b[0m \u001b[38;5;241;43m10\u001b[39;49m\u001b[38;5;241;43m+\u001b[39;49m\u001b[38;5;124;43m'\u001b[39;49m\u001b[38;5;124;43mabc\u001b[39;49m\u001b[38;5;124;43m'\u001b[39;49m\n",
      "\u001b[1;31mTypeError\u001b[0m: unsupported operand type(s) for +: 'int' and 'str'"
     ]
    }
   ],
   "source": [
    "10+'abc'"
   ]
  },
  {
   "cell_type": "code",
   "execution_count": 15,
   "metadata": {},
   "outputs": [
    {
     "name": "stdout",
     "output_type": "stream",
     "text": [
      "은평전자 1분기 매출은 5000원입니다.\n"
     ]
    }
   ],
   "source": [
    "totalSales=5000\n",
    "companyName='은평전자'\n",
    "priceunit='원'\n",
    "myResult= companyName + ' 1분기 매출은 '+ str(totalSales) + priceunit+'입니다.'\n",
    "print(myResult)\n",
    "\n",
    "#error확인, str과 int을 합할 순 없으니, total Sales를 int ->str로 변환하기."
   ]
  },
  {
   "cell_type": "code",
   "execution_count": 14,
   "metadata": {},
   "outputs": [
    {
     "name": "stdout",
     "output_type": "stream",
     "text": [
      "1\n",
      "0\n",
      "2\n"
     ]
    }
   ],
   "source": [
    "print(10%3)\n",
    "print(10%2)\n",
    "my_num1=10\n",
    "my_num2=4\n",
    "result=my_num1%my_num2\n",
    "print(result)\n",
    "#result=2"
   ]
  },
  {
   "cell_type": "code",
   "execution_count": 8,
   "metadata": {},
   "outputs": [
    {
     "name": "stdout",
     "output_type": "stream",
     "text": [
      "0\n"
     ]
    }
   ],
   "source": [
    "inputData=int(input('손 안의 동전의 개수'))\n",
    "result=inputData%2\n",
    "print(result)\n"
   ]
  },
  {
   "cell_type": "code",
   "execution_count": 10,
   "metadata": {},
   "outputs": [
    {
     "name": "stdout",
     "output_type": "stream",
     "text": [
      "최대로 나누어 줄 수 있는 빵의 개수 : 32\n",
      "남은 빵의 개수 : 1\n"
     ]
    }
   ],
   "source": [
    "bread=97\n",
    "count=3\n",
    "maxCount=bread//count # 몫을 계산\n",
    "leftBread=bread%count # 나머지 계산\n",
    "print(f'최대로 나누어 줄 수 있는 빵의 개수 : {maxCount}')\n",
    "print(f'남은 빵의 개수 : {leftBread}')"
   ]
  },
  {
   "cell_type": "code",
   "execution_count": 16,
   "metadata": {},
   "outputs": [
    {
     "data": {
      "text/plain": [
       "8"
      ]
     },
     "execution_count": 16,
     "metadata": {},
     "output_type": "execute_result"
    }
   ],
   "source": [
    "2**3"
   ]
  },
  {
   "cell_type": "code",
   "execution_count": 17,
   "metadata": {},
   "outputs": [
    {
     "name": "stdout",
     "output_type": "stream",
     "text": [
      "0\n"
     ]
    }
   ],
   "source": [
    "coinCount=int(input('손 안이 동전 개수 : '))\n",
    "leftCoin=coinCount%2\n",
    "print(leftCoin)"
   ]
  },
  {
   "cell_type": "code",
   "execution_count": 18,
   "metadata": {},
   "outputs": [
    {
     "name": "stdout",
     "output_type": "stream",
     "text": [
      "총 감염자 수 : 1073741824\n"
     ]
    }
   ],
   "source": [
    "confirmedCaseMan=2\n",
    "dayAfterIntection=int(input('확진후 경과일수: '))\n",
    "infectedMen=confirmedCaseMan**dayAfterIntection\n",
    "print(f'총 감염자 수 : {infectedMen}')"
   ]
  },
  {
   "cell_type": "code",
   "execution_count": 19,
   "metadata": {},
   "outputs": [
    {
     "data": {
      "text/plain": [
       "1"
      ]
     },
     "execution_count": 19,
     "metadata": {},
     "output_type": "execute_result"
    }
   ],
   "source": [
    "1000000**0"
   ]
  },
  {
   "cell_type": "code",
   "execution_count": 28,
   "metadata": {},
   "outputs": [
    {
     "name": "stdout",
     "output_type": "stream",
     "text": [
      "1000\n"
     ]
    }
   ],
   "source": [
    "num=10\n",
    "num**=3\n",
    "print(num)"
   ]
  },
  {
   "cell_type": "code",
   "execution_count": 42,
   "metadata": {},
   "outputs": [
    {
     "name": "stdout",
     "output_type": "stream",
     "text": [
      "6381407.8125원\n"
     ]
    }
   ],
   "source": [
    "myMoney=5000000\n",
    "rate=0.05\n",
    "for i in range (0,5) :\n",
    "    myMoney+=myMoney*rate\n",
    "    muMoney=int(myMoney) #왜 정수로 했는데, 안되징\n",
    "print(f'{myMoney}원')\n",
    "\n",
    "\n",
    "# or"
   ]
  },
  {
   "cell_type": "code",
   "execution_count": 39,
   "metadata": {},
   "outputs": [
    {
     "name": "stdout",
     "output_type": "stream",
     "text": [
      "이번 주 총 누적 걸음 수 : 5000 걸음\n"
     ]
    }
   ],
   "source": [
    "total=0\n",
    "mondayWalk=int(input('월요일 걸음 수:'))\n",
    "total+=mondayWalk\n",
    "\n",
    "tueWalk=int(input('화요일 걸음 수:'))\n",
    "total+=tueWalk\n",
    "\n",
    "wedWalk=int(input('수요일 걸음 수:'))\n",
    "total+=wedWalk\n",
    "\n",
    "thuWalk=int(input('목요일 걸음 수:'))\n",
    "total+=thuWalk\n",
    "\n",
    "friWalk=int(input('금요일 걸음 수:'))\n",
    "total+=friWalk\n",
    "\n",
    "print(f'이번 주 총 누적 걸음 수 : {total} 걸음')"
   ]
  },
  {
   "cell_type": "code",
   "execution_count": 46,
   "metadata": {},
   "outputs": [
    {
     "name": "stdout",
     "output_type": "stream",
     "text": [
      "116700.0 원\n"
     ]
    }
   ],
   "source": [
    "inputmoney=int(input('달러를 입력하세요:'))\n",
    "#리스트를 배우면 조건에 따라서 대응되는 변수를 불러와서 계산가능하다.\n",
    "dollor=1167\n",
    "yen=1.096\n",
    "eauro=1268\n",
    "wian=171\n",
    "# 조건: 달러일때 \n",
    "dollor * inputmoney\n",
    "dollorIntowon=dollrInput*convertWon\n",
    "print(float(dollorIntowon),'원') #소수점 두자리 수까지 출력?\n",
    "\n"
   ]
  },
  {
   "cell_type": "code",
   "execution_count": 47,
   "metadata": {},
   "outputs": [
    {
     "data": {
      "text/plain": [
       "False"
      ]
     },
     "execution_count": 47,
     "metadata": {},
     "output_type": "execute_result"
    }
   ],
   "source": [
    "num1=10\n",
    "num2=20\n",
    "num1==num2"
   ]
  },
  {
   "cell_type": "code",
   "execution_count": 48,
   "metadata": {},
   "outputs": [
    {
     "data": {
      "text/plain": [
       "True"
      ]
     },
     "execution_count": 48,
     "metadata": {},
     "output_type": "execute_result"
    }
   ],
   "source": [
    "num1!=num2"
   ]
  },
  {
   "cell_type": "code",
   "execution_count": 49,
   "metadata": {},
   "outputs": [
    {
     "data": {
      "text/plain": [
       "False"
      ]
     },
     "execution_count": 49,
     "metadata": {},
     "output_type": "execute_result"
    }
   ],
   "source": [
    "num1>num2"
   ]
  },
  {
   "cell_type": "code",
   "execution_count": 50,
   "metadata": {},
   "outputs": [
    {
     "data": {
      "text/plain": [
       "False"
      ]
     },
     "execution_count": 50,
     "metadata": {},
     "output_type": "execute_result"
    }
   ],
   "source": [
    "num1>=num2"
   ]
  },
  {
   "cell_type": "code",
   "execution_count": 51,
   "metadata": {},
   "outputs": [
    {
     "data": {
      "text/plain": [
       "True"
      ]
     },
     "execution_count": 51,
     "metadata": {},
     "output_type": "execute_result"
    }
   ],
   "source": [
    "num1<num2"
   ]
  },
  {
   "cell_type": "code",
   "execution_count": 52,
   "metadata": {},
   "outputs": [
    {
     "data": {
      "text/plain": [
       "True"
      ]
     },
     "execution_count": 52,
     "metadata": {},
     "output_type": "execute_result"
    }
   ],
   "source": [
    "num1<=num2"
   ]
  },
  {
   "cell_type": "code",
   "execution_count": 53,
   "metadata": {},
   "outputs": [
    {
     "name": "stdout",
     "output_type": "stream",
     "text": [
      "20\n"
     ]
    }
   ],
   "source": [
    "a=int(input('첫 번째 숫자 입력 :'))\n",
    "b=int(input('두 번째 숫자 입력 :'))\n",
    "print(a+b)"
   ]
  },
  {
   "cell_type": "code",
   "execution_count": 12,
   "metadata": {},
   "outputs": [
    {
     "name": "stdout",
     "output_type": "stream",
     "text": [
      "Welcome to Python 3.12's help utility! If this is your first time using\n",
      "Python, you should definitely check out the tutorial at\n",
      "https://docs.python.org/3.12/tutorial/.\n",
      "\n",
      "Enter the name of any module, keyword, or topic to get help on writing\n",
      "Python programs and using Python modules.  To get a list of available\n",
      "modules, keywords, symbols, or topics, enter \"modules\", \"keywords\",\n",
      "\"symbols\", or \"topics\".\n",
      "\n",
      "Each module also comes with a one-line summary of what it does; to list\n",
      "the modules whose name or summary contain a given string such as \"spam\",\n",
      "enter \"modules spam\".\n",
      "\n",
      "To quit this help utility and return to the interpreter,\n",
      "enter \"q\" or \"quit\".\n",
      "\n",
      "\n",
      "You are now leaving help and returning to the Python interpreter.\n",
      "If you want to ask for help on a particular object directly from the\n",
      "interpreter, you can type \"help(object)\".  Executing \"help('string')\"\n",
      "has the same effect as typing a particular string at the help> prompt.\n"
     ]
    }
   ],
   "source": [
    "#a=float(input('국어 점수 :'))\n",
    "#b=float(input('영어 점수 :'))\n",
    "#c=float(input('수학 점수 :'))\n",
    "\n",
    "#print (f'국어 점수 : {a}점\\n영어 점수 : {b}점\\n수학 점수 : {c}점')\n",
    "#medianScore=(a+b+c)/3\n",
    "#print(f'평균 점수 : {medianScore}점')\n",
    "\n",
    "from statistics import mean\n",
    "#list=[a,b,c]\n",
    "#mediscore=mean(list)\n",
    "help()\n",
    "\n",
    "#print(f'평균 점수 : {mediscore}점')\n"
   ]
  },
  {
   "cell_type": "code",
   "execution_count": 14,
   "metadata": {},
   "outputs": [
    {
     "name": "stdout",
     "output_type": "stream",
     "text": [
      "True\n"
     ]
    }
   ],
   "source": [
    "height=float(input('키 입력:'))\n",
    "print(height>=120)\n"
   ]
  },
  {
   "cell_type": "code",
   "execution_count": 15,
   "metadata": {},
   "outputs": [
    {
     "data": {
      "text/plain": [
       "True"
      ]
     },
     "execution_count": 15,
     "metadata": {},
     "output_type": "execute_result"
    }
   ],
   "source": [
    "num1=5\n",
    "num2=8\n",
    "num1!=num2\n",
    "#True"
   ]
  },
  {
   "cell_type": "code",
   "execution_count": 17,
   "metadata": {},
   "outputs": [
    {
     "data": {
      "text/plain": [
       "True"
      ]
     },
     "execution_count": 17,
     "metadata": {},
     "output_type": "execute_result"
    }
   ],
   "source": [
    "str1='a'\n",
    "str2='A'\n",
    "str1>str2"
   ]
  },
  {
   "cell_type": "code",
   "execution_count": 18,
   "metadata": {},
   "outputs": [
    {
     "data": {
      "text/plain": [
       "True"
      ]
     },
     "execution_count": 18,
     "metadata": {},
     "output_type": "execute_result"
    }
   ],
   "source": [
    "'p'<'y'\n"
   ]
  },
  {
   "cell_type": "code",
   "execution_count": 25,
   "metadata": {},
   "outputs": [
    {
     "name": "stdout",
     "output_type": "stream",
     "text": [
      "False\n",
      "True\n",
      "False\n",
      "True\n",
      "True\n",
      "False\n",
      "97\n",
      "98\n",
      "a\n"
     ]
    }
   ],
   "source": [
    "print('a'=='b')\n",
    "print('a'!='b')\n",
    "print('a'>='b')\n",
    "print('a'<='b')\n",
    "print('a'<'b')\n",
    "print('a'>'b')\n",
    "\n",
    "print(ord('a'))\n",
    "print(ord('b'))\n",
    "print(chr(97))"
   ]
  },
  {
   "cell_type": "code",
   "execution_count": 29,
   "metadata": {},
   "outputs": [
    {
     "data": {
      "text/plain": [
       "True"
      ]
     },
     "execution_count": 29,
     "metadata": {},
     "output_type": "execute_result"
    }
   ],
   "source": [
    "str1= 'python'\n",
    "str2= 'java'\n",
    "strr2= 'java'\n",
    "\n",
    "\n",
    "\n",
    "str1!=str2"
   ]
  },
  {
   "cell_type": "code",
   "execution_count": 30,
   "metadata": {},
   "outputs": [
    {
     "name": "stdout",
     "output_type": "stream",
     "text": [
      "===num===\n",
      "10진수: 256\n",
      "10진수: 256\n",
      "8진수: 400\n",
      "16진수: 100\n"
     ]
    }
   ],
   "source": [
    "num = 256\n",
    "print(\"===num===\")\n",
    "print('10진수:',format(num,'d'))\n",
    "print(\"10진수:\",format(num,'d'))\n",
    "print(\"8진수:\",format(num,'o'))\n",
    "print(\"16진수:\",format(num,'x'))"
   ]
  },
  {
   "cell_type": "code",
   "execution_count": 32,
   "metadata": {},
   "outputs": [
    {
     "name": "stdout",
     "output_type": "stream",
     "text": [
      "10진수:256\n",
      "10진수:256\n",
      "8진수:400\n",
      "16진수:100\n"
     ]
    },
    {
     "data": {
      "text/plain": [
       "'\\n2진수 : binary number\\n8진수 :\\xa0octal number\\n10진수 :\\xa0decimal number\\xa0\\n16진수 :\\xa0hexadecimal\\n\\n'"
      ]
     },
     "execution_count": 32,
     "metadata": {},
     "output_type": "execute_result"
    }
   ],
   "source": [
    "num=256\n",
    "print(\"10진수:{0:d}\".format(num))\n",
    "print(\"8진수:{0:o}\".format(num))\n",
    "print(\"16진수:{0:x}\".format(num))\n",
    "\n",
    "\"\"\"\n",
    "2진수 : binary number\n",
    "8진수 : octal number\n",
    "10진수 : decimal number \n",
    "16진수 : hexadecimal\n",
    "\n",
    "\"\"\""
   ]
  },
  {
   "cell_type": "code",
   "execution_count": 45,
   "metadata": {},
   "outputs": [
    {
     "name": "stdout",
     "output_type": "stream",
     "text": [
      "숫자1은 영어로one입니다.\n",
      "숫자1은 영어로twoone입니다.\n"
     ]
    }
   ],
   "source": [
    "#print('숫자 1은 영어로 %s입니다.' %('one'))\n",
    "#print('숫자 1은 영어로 %s %s입니다.' %('one','two'))\n",
    "\n",
    "#print('숫자1은 영어로{1}입니다.'.format('one'))\n",
    "#IndexError: replacment index 1 out of range for positional args tuple\n",
    "print('숫자1은 영어로{0}입니다.'.format('one'))\n",
    "print('숫자1은 영어로{1} {0}입니다.'.format('one','two'))\n",
    "\n"
   ]
  },
  {
   "cell_type": "code",
   "execution_count": 52,
   "metadata": {},
   "outputs": [
    {
     "name": "stdout",
     "output_type": "stream",
     "text": [
      "숫자1은 영어로 one입니다.\n",
      "    one   \n",
      "    one   \n"
     ]
    }
   ],
   "source": [
    "print(f'숫자1은 영어로 {'one'}입니다.')\n",
    "print(f'    {'one'}   ')\n",
    "print(f'    {\"one\"}   ') #error이 뜨지 않더라도 따옴표 구분해서 하는 습관화 가지기\n"
   ]
  },
  {
   "cell_type": "code",
   "execution_count": 58,
   "metadata": {},
   "outputs": [
    {
     "name": "stdout",
     "output_type": "stream",
     "text": [
      "-      nice-\n",
      "-      nice-\n",
      "-nice      -\n"
     ]
    }
   ],
   "source": [
    "#%s\n",
    "print('-%10s-'% ('nice'))\n",
    "print('-{:>10}-'.format('nice'))\n",
    "print('-{:>:<10}-'.format('nice'))\n",
    "\n"
   ]
  },
  {
   "cell_type": "code",
   "execution_count": null,
   "metadata": {},
   "outputs": [],
   "source": []
  }
 ],
 "metadata": {
  "kernelspec": {
   "display_name": "Python 3",
   "language": "python",
   "name": "python3"
  },
  "language_info": {
   "codemirror_mode": {
    "name": "ipython",
    "version": 3
   },
   "file_extension": ".py",
   "mimetype": "text/x-python",
   "name": "python",
   "nbconvert_exporter": "python",
   "pygments_lexer": "ipython3",
   "version": "3.12.6"
  }
 },
 "nbformat": 4,
 "nbformat_minor": 2
}
