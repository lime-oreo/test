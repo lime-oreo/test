{
 "cells": [
  {
   "cell_type": "code",
   "execution_count": 1,
   "metadata": {},
   "outputs": [
    {
     "name": "stdout",
     "output_type": "stream",
     "text": [
      "\n"
     ]
    }
   ],
   "source": [
    "\n"
   ]
  },
  {
   "cell_type": "code",
   "execution_count": 3,
   "metadata": {},
   "outputs": [
    {
     "ename": "NameError",
     "evalue": "name 'sumPlus' is not defined",
     "output_type": "error",
     "traceback": [
      "\u001b[1;31m---------------------------------------------------------------------------\u001b[0m",
      "\u001b[1;31mNameError\u001b[0m                                 Traceback (most recent call last)",
      "Cell \u001b[1;32mIn[3], line 1\u001b[0m\n\u001b[1;32m----> 1\u001b[0m \u001b[43msumPlus\u001b[49m\u001b[38;5;241m+\u001b[39m\u001b[38;5;241m=\u001b[39m\u001b[38;5;241m1\u001b[39m\n\u001b[0;32m      2\u001b[0m \u001b[38;5;28mprint\u001b[39m(sumPlus)\n",
      "\u001b[1;31mNameError\u001b[0m: name 'sumPlus' is not defined"
     ]
    }
   ],
   "source": [
    "sumPlus+=1\n",
    "print(sumPlus)"
   ]
  },
  {
   "cell_type": "code",
   "execution_count": 8,
   "metadata": {},
   "outputs": [
    {
     "name": "stdout",
     "output_type": "stream",
     "text": [
      "123\n",
      "123\n"
     ]
    }
   ],
   "source": [
    "var1=123\n",
    "var2=var1\n",
    "print(var1)\n",
    "print(var2)"
   ]
  },
  {
   "cell_type": "code",
   "execution_count": 10,
   "metadata": {},
   "outputs": [
    {
     "name": "stdout",
     "output_type": "stream",
     "text": [
      "321\n",
      "123\n"
     ]
    }
   ],
   "source": [
    "var1=321\n",
    "print(var1)\n",
    "print(var2)\n"
   ]
  },
  {
   "cell_type": "code",
   "execution_count": 14,
   "metadata": {},
   "outputs": [
    {
     "name": "stdout",
     "output_type": "stream",
     "text": [
      "140727126202616\n",
      "140727126202616\n",
      "123\n",
      "2738998689728\n"
     ]
    }
   ],
   "source": [
    "var1=123 #정수형으로 시작\n",
    "var1=var2 #var2 정수형 값이 들어감.\n",
    "\n",
    "print(id(var1))\n",
    "print(id(var2))\n",
    "\n",
    "var2='123'  # 문자열으로 변형된 var2\n",
    "            # 메모리 차지하는 정도가 문자열일때, 정수일때 달라지게 됨.\n",
    "print(var2)\n",
    "print(id(var2)) #메모리주소 달라짐.\n"
   ]
  },
  {
   "cell_type": "code",
   "execution_count": 17,
   "metadata": {},
   "outputs": [
    {
     "name": "stdout",
     "output_type": "stream",
     "text": [
      "dd\n"
     ]
    }
   ],
   "source": [
    "message=input('입력하세요')\n",
    "print(message)"
   ]
  },
  {
   "cell_type": "code",
   "execution_count": 3,
   "metadata": {},
   "outputs": [
    {
     "name": "stdout",
     "output_type": "stream",
     "text": [
      "20\n",
      "10\n"
     ]
    }
   ],
   "source": [
    "var1=10\n",
    "var2=20\n",
    "varChange=var1\n",
    "var1=var2\n",
    "var2=varChange\n",
    "\"\"\"\n",
    "a=b\n",
    "b=c\n",
    "c=a\n",
    "\"\"\"\n",
    "\n",
    "print(var1)\n",
    "print(var2)\n",
    "\n"
   ]
  },
  {
   "cell_type": "code",
   "execution_count": 2,
   "metadata": {},
   "outputs": [
    {
     "name": "stdout",
     "output_type": "stream",
     "text": [
      "My name is Alice and I am 25 years old.\n"
     ]
    }
   ],
   "source": [
    "#문장열 포맷팅 - 이름과 나이\n",
    "name = \"Alice\"\n",
    "age = 25\n",
    "print(f'My name is {name} and I am {25} years old.')"
   ]
  },
  {
   "cell_type": "code",
   "execution_count": 8,
   "metadata": {},
   "outputs": [
    {
     "name": "stdout",
     "output_type": "stream",
     "text": [
      "You bought 3 apple for $2.500 each.\n"
     ]
    }
   ],
   "source": [
    "\"\"\"\n",
    "여러 변수 포맷팅\n",
    "변수 item에 \"apple\", quantity에 3, price에 2.5를 저장한 후,\n",
    " \"You bought 3 apples for $2.50 each.\"라는 문장을 f-string을 사용해 출력하시오.\n",
    "(가격은 소수점 둘째 자리까지 출력)\n",
    "\"\"\"\n",
    "\n",
    "item = \"apple\"\n",
    "quantity = 3\n",
    "price =2.5\n",
    "print(f\"You bought {quantity} {item} for ${price:.3f} each.\")"
   ]
  },
  {
   "cell_type": "code",
   "execution_count": 10,
   "metadata": {},
   "outputs": [
    {
     "name": "stdout",
     "output_type": "stream",
     "text": [
      "-left      -\n",
      "-  center  -\n",
      "-     right-\n"
     ]
    }
   ],
   "source": [
    "\"\"\"\n",
    "정렬을 사용한 포맷팅\n",
    " 변수 `left`에 \"left\", `center`에 \"center\", `right`에 \"right\"를 저장한 후,\n",
    "   이를 각각 왼쪽, 가운데, 오른쪽 정렬로 출력하시오. (각 단어는 10칸의 공간 내에서 정렬)\n",
    "\"\"\"\n",
    "\n",
    "left=\"left\"\n",
    "center='center'\n",
    "right='right'\n",
    "print(f\"-{left:<10}-\")\n",
    "print(f'-{center:^10}-')\n",
    "print(f'-{right:>10}-')"
   ]
  },
  {
   "cell_type": "code",
   "execution_count": 12,
   "metadata": {},
   "outputs": [
    {
     "name": "stdout",
     "output_type": "stream",
     "text": [
      "I love python because python is fun.\n"
     ]
    }
   ],
   "source": [
    "\"\"\"\"\n",
    "1. 변수 재사용\n",
    "    \n",
    "    변수 `subject`에 \"Python\"을 저장하고, 두 번 `subject`를 사용하는 문장을 **f-string**으로 출력하시오.\n",
    "    \n",
    "    예: `\"I love Python because Python is fun.\"`\n",
    "    \"\"\"\n",
    "\n",
    "subject='python'\n",
    "print(f'I love {subject} because {subject} is fun.')\n"
   ]
  },
  {
   "cell_type": "code",
   "execution_count": 3,
   "metadata": {},
   "outputs": [
    {
     "name": "stdout",
     "output_type": "stream",
     "text": [
      "00042\n"
     ]
    }
   ],
   "source": [
    "\"\"\"\n",
    ". 자리 수 채우기\n",
    "    \n",
    "    변수 `num`에 42를 저장하고, 이를 5자리 숫자로 만들기 위해 앞에 0을 채워 출력하시오.\n",
    "    \n",
    "    출력 예: `\"00042\"`\n",
    "\n",
    "num:05\n",
    "\"\"\"\n",
    "num=42\n",
    "print(f'{num:0>5}')"
   ]
  },
  {
   "cell_type": "code",
   "execution_count": 27,
   "metadata": {},
   "outputs": [
    {
     "name": "stdout",
     "output_type": "stream",
     "text": [
      "30\n",
      "HelloWorld or Hello World\n",
      "30= 10 + 20\n",
      "30 = 10 + 20\n",
      "20 = 10 + 30\n",
      "Hello World = Hello + World\n",
      "Hello World = Hello + World\n"
     ]
    }
   ],
   "source": [
    "\"\"\"\n",
    "숫자 10, 20을 각각 변수에 할당\n",
    "화면에 출력 ; + 연산자를 이용해서 출력\n",
    "\n",
    "\"\"\"\n",
    "\n",
    "num1=10\n",
    "num2=20\n",
    "\n",
    "\"\"\"\n",
    "Hello와 World를 각각 변수에 할당 .+ 연산자를이용해 출력\n",
    "\"\"\"\n",
    "\n",
    "a='Hello'\n",
    "b='World'\n",
    "\n",
    "# print (a+b)와 print(a,b)의 출력방식은 다르다.\n",
    "# 기본적으로 , comma사이에 sepearator \" \"이 작동하고 있다.\n",
    "\n",
    "\"\"\"\n",
    "1번과 2번을 f-string을 이용해서 변경해주세요.\n",
    "각 변수도 출력하기\n",
    "\"\"\"\n",
    "print(num1 + num2)\n",
    "print(a+b, 'or',a, b)\n",
    "print(f'{num1+num2}= {num1} + {num2}')\n",
    "print('{} = {} + {}'.format(num1+num2, num1,num2))\n",
    "print('{2} = {1} + {0}'.format(num1+num2,num1,num2)) #index을 넣어서 순서를 바꿀 수도 있음\n",
    "print(f'{a} {b} = {a} + {b}')\n",
    "print('{} = {} + {}'.format(a +' '+ b, a,b))\n",
    "\n",
    "\n",
    "\n",
    "# 공백채우기 복습\n",
    "#print(f'{a:0>10}') \n",
    "#print(f'{a:0^11}')\n"
   ]
  },
  {
   "cell_type": "code",
   "execution_count": 3,
   "metadata": {},
   "outputs": [
    {
     "name": "stdout",
     "output_type": "stream",
     "text": [
      "HelloWorld\n"
     ]
    }
   ],
   "source": []
  },
  {
   "cell_type": "code",
   "execution_count": null,
   "metadata": {},
   "outputs": [],
   "source": []
  }
 ],
 "metadata": {
  "kernelspec": {
   "display_name": "Python 3",
   "language": "python",
   "name": "python3"
  },
  "language_info": {
   "codemirror_mode": {
    "name": "ipython",
    "version": 3
   },
   "file_extension": ".py",
   "mimetype": "text/x-python",
   "name": "python",
   "nbconvert_exporter": "python",
   "pygments_lexer": "ipython3",
   "version": "3.12.7"
  }
 },
 "nbformat": 4,
 "nbformat_minor": 2
}
