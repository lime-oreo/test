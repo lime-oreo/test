{
 "cells": [
  {
   "cell_type": "code",
   "execution_count": 17,
   "metadata": {},
   "outputs": [
    {
     "name": "stdout",
     "output_type": "stream",
     "text": [
      "n은 1보다 크다.\n",
      "두번째 줄\n",
      "n은 1보다 크다.\n",
      "두번째 줄\n"
     ]
    }
   ],
   "source": [
    "#들여쓰기 하지 않았을 때, if절 안에 들어가지 않으면 두번째 줄만 나옴.\n",
    "n=int(input('숫자 입력:'))\n",
    "if n >1 :\n",
    "    print('n은 1보다 크다.')\n",
    "print('두번째 줄')\n",
    "\n",
    "#들여스기 하기\n",
    "n=int(input('숫자 입력:'))\n",
    "if n >1 :\n",
    "    print('n은 1보다 크다.')\n",
    "    print('두번째 줄')\n",
    "\n"
   ]
  },
  {
   "cell_type": "code",
   "execution_count": 26,
   "metadata": {},
   "outputs": [
    {
     "name": "stdout",
     "output_type": "stream",
     "text": [
      "num은 20보다 크다.\n",
      "num : 30\n",
      "num은 20보다 크다.\n",
      "num : 30\n"
     ]
    }
   ],
   "source": [
    "num = int(input('숫자를 입력하세요'))\n",
    "\n",
    "if num > 20 :\n",
    "  pass\n",
    "  print('num은 20보다 크다.')\n",
    "  print('num :',num)\n",
    "\n",
    "  \n",
    "if num > 20 : print('num은 20보다 크다.'), print('num :',num)"
   ]
  },
  {
   "cell_type": "code",
   "execution_count": 15,
   "metadata": {},
   "outputs": [
    {
     "ename": "SyntaxError",
     "evalue": "invalid syntax (3616055331.py, line 5)",
     "output_type": "error",
     "traceback": [
      "\u001b[1;36m  Cell \u001b[1;32mIn[16], line 5\u001b[1;36m\u001b[0m\n\u001b[1;33m    else:\u001b[0m\n\u001b[1;37m    ^\u001b[0m\n\u001b[1;31mSyntaxError\u001b[0m\u001b[1;31m:\u001b[0m invalid syntax\n"
     ]
    }
   ],
   "source": [
    "\n",
    "carSpeed=int(input('자동차의 현재 손도는 :'))\n",
    "\n",
    "if carSpeed >=50:\n",
    "    print('속도 위반!')\n",
    "else: \n",
    "    print('속도를 위반하지 않았습니다.')"
   ]
  },
  {
   "cell_type": "code",
   "execution_count": 29,
   "metadata": {},
   "outputs": [
    {
     "name": "stdout",
     "output_type": "stream",
     "text": [
      "fail\n"
     ]
    }
   ],
   "source": [
    "num=int(input('점수를 입력하세요'))\n",
    "\n",
    "\n",
    "if num > 60:\n",
    "    print ('pass')\n",
    "else :\n",
    "    print ('fail')\n",
    "#if num <= 60 :\n",
    "   # print ('Fail')"
   ]
  },
  {
   "cell_type": "code",
   "execution_count": 30,
   "metadata": {},
   "outputs": [
    {
     "name": "stdout",
     "output_type": "stream",
     "text": [
      "fan 중지\n"
     ]
    }
   ],
   "source": [
    "temp = int (input('기계 온도 입력 :'))\n",
    "\n",
    "if temp >= 40 :\n",
    "    print('fan 가동')\n",
    "else :\n",
    "    print('fan 중지')"
   ]
  },
  {
   "cell_type": "code",
   "execution_count": 32,
   "metadata": {},
   "outputs": [
    {
     "name": "stdout",
     "output_type": "stream",
     "text": [
      "F\n"
     ]
    }
   ],
   "source": [
    "score= int(input('점수 입력 :'))\n",
    "\n",
    "if score >= 90:\n",
    "    print('A')\n",
    "if score >= 80:\n",
    "    print('B')\n",
    "elif score >=70 :\n",
    "    print('C')\n",
    "elif score >=60 :\n",
    "    print ('D')\n",
    "else :\n",
    "    print ('F')"
   ]
  }
 ],
 "metadata": {
  "kernelspec": {
   "display_name": "Python 3",
   "language": "python",
   "name": "python3"
  },
  "language_info": {
   "codemirror_mode": {
    "name": "ipython",
    "version": 3
   },
   "file_extension": ".py",
   "mimetype": "text/x-python",
   "name": "python",
   "nbconvert_exporter": "python",
   "pygments_lexer": "ipython3",
   "version": "3.12.7"
  }
 },
 "nbformat": 4,
 "nbformat_minor": 2
}
