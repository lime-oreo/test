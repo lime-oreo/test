{
 "cells": [
  {
   "cell_type": "code",
   "execution_count": 1,
   "id": "71c630f3-844f-4499-9f60-b5080b5a7455",
   "metadata": {},
   "outputs": [],
   "source": [
    "sequence=\"ABCDEFG\""
   ]
  },
  {
   "cell_type": "code",
   "execution_count": 3,
   "id": "d735323d-750f-40a8-b47a-9be442b4fd5c",
   "metadata": {},
   "outputs": [
    {
     "name": "stdout",
     "output_type": "stream",
     "text": [
      "BCDE\n"
     ]
    }
   ],
   "source": [
    "print(sequence[1:5])"
   ]
  },
  {
   "cell_type": "code",
   "execution_count": 5,
   "id": "c394b981-bf47-4b85-9af3-ba596a435cff",
   "metadata": {},
   "outputs": [
    {
     "name": "stdout",
     "output_type": "stream",
     "text": [
      "ABCDEF\n"
     ]
    }
   ],
   "source": [
    "print(sequence[0:6])"
   ]
  },
  {
   "cell_type": "code",
   "execution_count": 7,
   "id": "ed06df7a-9433-4d56-8e0b-2413f48af6b9",
   "metadata": {},
   "outputs": [
    {
     "name": "stdout",
     "output_type": "stream",
     "text": [
      "ACEG\n"
     ]
    }
   ],
   "source": [
    "print(sequence[0:7:2])"
   ]
  },
  {
   "cell_type": "code",
   "execution_count": 6,
   "id": "0fed21ac-8edb-4061-99ab-0a51d1f80691",
   "metadata": {},
   "outputs": [
    {
     "name": "stdout",
     "output_type": "stream",
     "text": [
      "num을 입력하세요. 19\n"
     ]
    },
    {
     "name": "stdout",
     "output_type": "stream",
     "text": [
      "num은 10보다 크다.\n"
     ]
    }
   ],
   "source": [
    "n=int(input('num을 입력하세요.'))\n",
    "if n > 1:\n",
    "    print ('num은 10보다 크다.')\n",
    "    "
   ]
  },
  {
   "cell_type": "code",
   "execution_count": 10,
   "id": "fc9f8eb5-635f-4da2-9785-b8ddb7ad2bd5",
   "metadata": {},
   "outputs": [
    {
     "name": "stdout",
     "output_type": "stream",
     "text": [
      "숫자를 입력하세요. 30\n"
     ]
    },
    {
     "name": "stdout",
     "output_type": "stream",
     "text": [
      "num은 20보다 크다.\n"
     ]
    }
   ],
   "source": [
    "num = int (input('숫자를 입력하세요.'))\n",
    "\n",
    "if num > 20 :\n",
    "    print('num은 20보다 크다.')\n"
   ]
  },
  {
   "cell_type": "code",
   "execution_count": 16,
   "id": "ca782dea-3a28-44fd-a41a-165571e65a7c",
   "metadata": {},
   "outputs": [
    {
     "name": "stdout",
     "output_type": "stream",
     "text": [
      "현재속도: 100\n"
     ]
    },
    {
     "name": "stdout",
     "output_type": "stream",
     "text": [
      "현재 속도는 100km/h이며, 속도 위반를 위반하지 않았습니다.\n"
     ]
    }
   ],
   "source": [
    "\"\"\" 제한속도 < 100km/h인 고속도로, 속도위반 자동차 경고 프로그램 만들기\"\"\"\n",
    "speedInput=int(input('현재속도:'))\n",
    "if speedInput > 100 : \n",
    "    print (f'현재 속도는 {speedInput}km/h이며, 속도 위반입니다.')\n",
    "else:\n",
    "    print (f'현재 속도는 {speedInput}km/h이며, 속도 위반를 위반하지 않았습니다.')"
   ]
  },
  {
   "cell_type": "code",
   "execution_count": 18,
   "id": "eb3a75b2-6f80-4d29-8776-46df356bc869",
   "metadata": {},
   "outputs": [
    {
     "name": "stdout",
     "output_type": "stream",
     "text": [
      "파이썬 점수를 입력 : 60\n"
     ]
    },
    {
     "name": "stdout",
     "output_type": "stream",
     "text": [
      "파이썬 점수는 60점이며, 불합격하였습니다.\n"
     ]
    }
   ],
   "source": [
    "#문제 : 파이썬 점수 60점 이상 : 합격, 미만은 불합격 출력하기\n",
    "\n",
    "pythonScore=int(input('파이썬 점수를 입력 :'))\n",
    "\n",
    "if pythonScore > 60 :\n",
    "    print (f'파이썬 점수는 {pythonScore}점이며, 합격하였습니다.')\n",
    "else:\n",
    "    print (f'파이썬 점수는 {pythonScore}점이며, 불합격하였습니다.')\n",
    "\n",
    "    "
   ]
  },
  {
   "cell_type": "code",
   "execution_count": 22,
   "id": "7ca3dbc4-3819-4dfd-8507-f6f6219014a9",
   "metadata": {},
   "outputs": [
    {
     "name": "stdout",
     "output_type": "stream",
     "text": [
      " 18\n"
     ]
    },
    {
     "name": "stdout",
     "output_type": "stream",
     "text": [
      "짝수\n"
     ]
    }
   ],
   "source": [
    "\"\"\" 홀수 짝수 구별하기 \"\"\"\n",
    "\n",
    "user =input(\"\")\n",
    "if(int(user))%2 == 0 :\n",
    "    print('짝수')\n",
    "else:\n",
    "    print ('홀수')\n",
    "    "
   ]
  },
  {
   "cell_type": "code",
   "execution_count": 28,
   "id": "802f1541-ddd7-40a3-bae3-77aa6c6f7c82",
   "metadata": {},
   "outputs": [
    {
     "name": "stdout",
     "output_type": "stream",
     "text": [
      " 256\n"
     ]
    },
    {
     "name": "stdout",
     "output_type": "stream",
     "text": [
      "255\n"
     ]
    }
   ],
   "source": [
    "\"\"\"\n",
    "- 사용자로부터 값을 입력받은 후 해당 값에 20을 더한 값을 출력하라. \n",
    "단 사용자가 입력한 값과 20을 더한 계산 값이 255를 초과하는 경우 255를 출력해야 한다.\n",
    "    \n",
    "> 입력값: 240\n",
    "출력값: 255\n",
    "\"\"\"\n",
    "\n",
    "user=int(input(''))\n",
    "\n",
    "if user < 255 : \n",
    "         print (user+20)\n",
    "else:\n",
    "    print(255)\n"
   ]
  },
  {
   "cell_type": "code",
   "execution_count": 30,
   "id": "608d3383-14fe-4e91-b5e5-88b582988a16",
   "metadata": {},
   "outputs": [
    {
     "name": "stdout",
     "output_type": "stream",
     "text": [
      "입력값 :  20\n"
     ]
    },
    {
     "name": "stdout",
     "output_type": "stream",
     "text": [
      "40\n"
     ]
    }
   ],
   "source": [
    "user = input('입력값 : ')\n",
    "result = 20+int(user)\n",
    "if result > 255 :\n",
    "    print(255)\n",
    "else:\n",
    "    print(result)"
   ]
  },
  {
   "cell_type": "code",
   "execution_count": 36,
   "id": "90efb53a-f48e-4d29-bdca-0a9ebe267311",
   "metadata": {},
   "outputs": [
    {
     "name": "stdout",
     "output_type": "stream",
     "text": [
      "값 입력 : -10\n"
     ]
    },
    {
     "name": "stdout",
     "output_type": "stream",
     "text": [
      "음수 \n"
     ]
    }
   ],
   "source": [
    "# 양수, 음수, 0 구별하기\n",
    "\n",
    "n= int(input('값 입력 :'))\n",
    "\n",
    "if n > 0 :\n",
    "    print ('양수')\n",
    "elif n < 0:\n",
    "    print( '음수 ')\n",
    "else :\n",
    "    print (0)"
   ]
  },
  {
   "cell_type": "code",
   "execution_count": 40,
   "id": "120aacc0-6b81-427b-b09b-87c928876d00",
   "metadata": {},
   "outputs": [
    {
     "name": "stdout",
     "output_type": "stream",
     "text": [
      "메뉴를 입력해주세요>  5\n"
     ]
    },
    {
     "name": "stdout",
     "output_type": "stream",
     "text": [
      "1 ~ 3까지만 입력 가능!\n"
     ]
    }
   ],
   "source": [
    "menu = int(input('메뉴를 입력해주세요> '))\n",
    " \n",
    "match menu:\n",
    "    case 1:\n",
    "        print('커피')\n",
    "    case 2:\n",
    "        print('에이드')\n",
    "    case 3:\n",
    "        print('우유')\n",
    "    case _:\n",
    "        print('1 ~ 3까지만 입력 가능!')"
   ]
  },
  {
   "cell_type": "code",
   "execution_count": 64,
   "id": "0607b9b9-3608-4375-9720-196b9ff281f3",
   "metadata": {},
   "outputs": [
    {
     "name": "stdout",
     "output_type": "stream",
     "text": [
      "['apple']\n",
      "['홍길동', '이순신']\n",
      "['1']\n",
      "a\n"
     ]
    }
   ],
   "source": [
    "# 시퀀스, OR, 캡쳐\n",
    "examples = [\n",
    "    ['apple'],\n",
    "    ['홍길동', '이순신'],\n",
    "    ['1'],\n",
    "    ['a', 'b','c'],\n",
    "    ['score', 95, 82, 77]\n",
    "]\n",
    " \n",
    "for x in examples:\n",
    "    match x:\n",
    "        case ['apple']:           \n",
    "            print(x)\n",
    "        case ['홍길동', '이순신']:   \n",
    "            print(x)\n",
    "        case ['1'] | ['2']:       \n",
    "            print(x)\n",
    "        case [z, 'b','c']:          \n",
    "            print(z)\n",
    "        case [95,'score', *z]:        \n",
    "            print(z)"
   ]
  },
  {
   "cell_type": "code",
   "execution_count": 8,
   "id": "97c6c43f-226e-4449-8b54-101e35959cd3",
   "metadata": {},
   "outputs": [
    {
     "name": "stdout",
     "output_type": "stream",
     "text": [
      "점수를 입력하세요 75\n"
     ]
    },
    {
     "name": "stdout",
     "output_type": "stream",
     "text": [
      "C\n"
     ]
    }
   ],
   "source": [
    "score = int (input('점수를 입력하세요'))\n",
    "\"\"\"\n",
    "if score >=60:\n",
    "    print ('D')\n",
    "elif socre >=80:\n",
    "    print ('B')\n",
    "elif score >=70:\n",
    "    print ('C')\n",
    "elif score >=90:\n",
    "    print('A')\n",
    "else:\n",
    "    print('F')\n",
    "\"\"\"\n",
    "if score >=60 and score < 70:\n",
    "    print ('D')\n",
    "elif score >=80 and score <90:\n",
    "    print ('B')\n",
    "elif score >=70 and score <80:\n",
    "    print ('C')\n",
    "elif score >=90:\n",
    "    print('A')\n",
    "else:\n",
    "    print('F')\n",
    "            "
   ]
  },
  {
   "cell_type": "code",
   "execution_count": 14,
   "id": "867f56df-cb60-408e-8b8a-12033a1f4d2b",
   "metadata": {},
   "outputs": [
    {
     "name": "stdout",
     "output_type": "stream",
     "text": [
      "점수 입력 : 75\n"
     ]
    },
    {
     "name": "stdout",
     "output_type": "stream",
     "text": [
      "C\n"
     ]
    }
   ],
   "source": [
    "score= int(input('점수 입력 :'))\n",
    "\n",
    "if score >= 90 :\n",
    "    print('A')\n",
    "elif score >= 80:\n",
    "    print('B')\n",
    "elif score >=70 :\n",
    "    print('C')\n",
    "elif score >=60 :\n",
    "    print ('D')\n",
    "else :\n",
    "    print ('F')"
   ]
  },
  {
   "cell_type": "code",
   "execution_count": 24,
   "id": "b48b1483-e34b-4d3c-a2cc-c29fcba9b0e9",
   "metadata": {},
   "outputs": [
    {
     "name": "stdout",
     "output_type": "stream",
     "text": [
      "메가커피 자동주문\n",
      "1번 : 아메리카노\n",
      "2번 : 아이스 아메리카노\n",
      "3번 : 따뜻한 라떼\n",
      "4번 : 아이스라떼\n"
     ]
    },
    {
     "name": "stdout",
     "output_type": "stream",
     "text": [
      "번호를 입력하세요. 4\n"
     ]
    },
    {
     "name": "stdout",
     "output_type": "stream",
     "text": [
      "아이스 라떼를 주문하셨습니다.\n"
     ]
    }
   ],
   "source": [
    "\"\"\"\n",
    "메가커피 키오스크 자동 주문 프로그램 \n",
    "1번 : 아메리카노\n",
    "2번 : 아이스 아메리카노\n",
    "3번 : 따뜻한 라떼\n",
    "4번 : 아이스라떼\n",
    "를 주문하는 프로그램 만들기\n",
    "\"\"\"\n",
    "\n",
    "print (\"메가커피 자동주문\\n1번 : 아메리카노\\n2번 : 아이스 아메리카노\\n3번 : 따뜻한 라떼\\n4번 : 아이스라떼\")\n",
    "pressButton = int(input('번호를 입력하세요.'))\n",
    "\n",
    "if pressButton == 1:\n",
    "    print ( '아메리카노를 주문하셨습니다.')\n",
    "if pressButton == 2:\n",
    "    print ( '아이스 아메리카노를 주문하셨습니다.')\n",
    "if pressButton == 3:\n",
    "    print ( '따뜻한라떼를 주문하셨습니다.')\n",
    "if pressButton == 4:\n",
    "    print ( '아이스 라떼를 주문하셨습니다.')\n",
    "    "
   ]
  },
  {
   "cell_type": "code",
   "execution_count": 56,
   "id": "a67aae58-0464-42c3-a06f-eaa8eed96f4c",
   "metadata": {},
   "outputs": [
    {
     "name": "stdout",
     "output_type": "stream",
     "text": [
      "신장을 입력하세요 : 165\n",
      "체중을 입력하세요 : 54\n"
     ]
    },
    {
     "name": "stdout",
     "output_type": "stream",
     "text": [
      "정상체중\n"
     ]
    }
   ],
   "source": [
    "\"\"\"\n",
    "1. 키 입력 후 cm -> m으로 변환\n",
    "2. 체중 입력\n",
    "3. BMI 지수 계산\n",
    "\"\"\"\n",
    "hight=int(input('신장을 입력하세요 :'))\n",
    "weight=int(input('체중을 입력하세요 :'))\n",
    "\n",
    "# cm 을 m으로 변환\n",
    "x=hight/100\n",
    "# BMI 지수 계산\n",
    "bmiCal=(weight)/(x*x)\n",
    "\n",
    "if bmiCal <=18.5 :\n",
    "    print ('저체중')\n",
    "#elif bmiCal >18.5 and bmiCal <=23 :\n",
    "elif 18.5< bmiCal <23 : \n",
    "    print ('정상체중')\n",
    "#elif 25< bmiCal >23 :\n",
    "    #print ('과체중')\n",
    "#elif bmiCal <25 :\n",
    "    #print('비만')\n",
    "\n"
   ]
  },
  {
   "cell_type": "code",
   "execution_count": 58,
   "id": "fd894fc5-962b-46b0-82e3-1423917ec7bc",
   "metadata": {},
   "outputs": [
    {
     "name": "stdout",
     "output_type": "stream",
     "text": [
      " 3\n"
     ]
    },
    {
     "name": "stdout",
     "output_type": "stream",
     "text": [
      "num=양수 아님\n"
     ]
    }
   ],
   "source": [
    "# 중첩 조건문\n",
    "num =int(input())\n",
    "\n",
    "if num > 0 :\n",
    "    if num %2 == 0:\n",
    "        print('num=짝수')\n",
    "    else:\n",
    "        print('num=양수 아님')"
   ]
  },
  {
   "cell_type": "code",
   "execution_count": 84,
   "id": "a3744ab3-0dd6-4200-8863-5441c43bffaf",
   "metadata": {},
   "outputs": [
    {
     "name": "stdout",
     "output_type": "stream",
     "text": [
      " 10\n"
     ]
    },
    {
     "name": "stdout",
     "output_type": "stream",
     "text": [
      "10는 2와 9 사이의 숫자가 아닙니다.\n"
     ]
    }
   ],
   "source": [
    "\"\"\"\n",
    "구구단 timestable.py에서\n",
    "2단. x가 2~9사이의 숫자인지 확인하고print를 출력.\n",
    "아니면 2~9 사이의 숫자가 아니라고 출력 \n",
    "\n",
    "x=2.0\n",
    "ifPrint=True\n",
    "\n",
    "if (type(x) != int ):\n",
    "    isPrint=False\n",
    "    print('정수를 입력')\n",
    "\"\"\"\n",
    "x=int(input())\n",
    "if(x):\n",
    "    if (2<=x <=9):\n",
    "        print(f'{x}단 :', x*1,x*2,x*3,x*4,x*5,x*6,x*7,x*8,x*9)\n",
    "    else:\n",
    "        print (f'{x}는 2와 9 사이의 숫자가 아닙니다.')\n",
    "              \n",
    "        "
   ]
  },
  {
   "cell_type": "code",
   "execution_count": 92,
   "id": "e49b5ca3-bae6-488e-868b-e8c1ea2ed1ad",
   "metadata": {},
   "outputs": [
    {
     "name": "stdout",
     "output_type": "stream",
     "text": [
      "버스 전용차로에 버스가 아닌 승용차가 주행할 경우 단속합니다.\n",
      "다만, 토요일 및 공휴일은 단속하지 않습니다.\n",
      "1.월~금, 2. 토요일, 3.공휴일\n"
     ]
    },
    {
     "name": "stdout",
     "output_type": "stream",
     "text": [
      "요일 혹은 공휴일을 입력하세요. 토요일\n"
     ]
    },
    {
     "name": "stdout",
     "output_type": "stream",
     "text": [
      "단속하지 않습니다.\n"
     ]
    }
   ],
   "source": [
    "#ch05_sol_05.py\n",
    "\n",
    "print('버스 전용차로에 버스가 아닌 승용차가 주행할 경우 단속합니다.\\n다만, 토요일 및 공휴일은 단속하지 않습니다.')\n",
    "print('1.월~금, 2. 토요일, 3.공휴일')\n",
    "dayWeek=input('요일 혹은 공휴일을 입력하세요.')\n",
    "\n",
    "if dayWeek == '월요일' or dayWeek == '화요일' or dayWeek == '수요일' or dayWeek == '목요일' or dayWeek == '금요일' :\n",
    "    print ( '버스 전용차로 단속 중입니다.')\n",
    "    print ('버스 인가요, 승용차인가요?')\n",
    "    carType=input('')\n",
    "    if carType == '승용차' :\n",
    "        print ('단속대상입니다.')\n",
    "    else:\n",
    "        print ('단속대상이 아닙니다')\n",
    "else:\n",
    "    print ('단속하지 않습니다.')"
   ]
  },
  {
   "cell_type": "code",
   "execution_count": 104,
   "id": "1582c1cf-99dc-4148-a4ea-913367e9d083",
   "metadata": {},
   "outputs": [
    {
     "name": "stdout",
     "output_type": "stream",
     "text": [
      "▪공적마스크 판매 관련해서 출생 연도 끝자리를 이용한 5부제를 다음과 같이 실시한다.\n",
      "▪만 65세 이상 어르신은 언제든지 구매가능하다.\n",
      "\n"
     ]
    },
    {
     "name": "stdout",
     "output_type": "stream",
     "text": [
      "나이를 입력하세요 65\n",
      "출생 연도 끝자리를 입력하세요. 5\n"
     ]
    },
    {
     "name": "stdout",
     "output_type": "stream",
     "text": [
      "언제든지 구매 가능합니다.\n"
     ]
    }
   ],
   "source": [
    "#조건문 확인문제\n",
    "\n",
    "#endBirthday , age 입력시 요구사항에 맞추어 마스크 구매 가능한 요일 출력 프로그램 만들기\n",
    "print('▪공적마스크 판매 관련해서 출생 연도 끝자리를 이용한 5부제를 다음과 같이 실시한다.\\n▪만 65세 이상 어르신은 언제든지 구매가능하다.')\n",
    "print()\n",
    "age=int(input('나이를 입력하세요'))\n",
    "endBirth=int(input('출생 연도 끝자리를 입력하세요.'))\n",
    "if age >= 65:\n",
    "    print('언제든지 구매 가능합니다.')\n",
    "else :\n",
    "    if endBirth == 1 or endBirth == 6:\n",
    "        print('구매 가능 요일은 월요일입니다.')\n",
    "    elif endBirth ==2 or endBirth ==7 :\n",
    "        print('구매 가능 요일은 화요일입니다.')\n",
    "    elif endBirth ==3 or endBirth ==8 :\n",
    "        print('구매 가능 요일은 수요일입니다.')\n",
    "    elif endBirth ==4 or endBirth ==9 :\n",
    "        print('구매 가능 요일은 목요일입니다.')\n",
    "    elif endBirth ==5 or endBirth ==0 :\n",
    "        print('구매 가능 요일은 금요일입니다.')\n",
    "        "
   ]
  },
  {
   "cell_type": "code",
   "execution_count": 108,
   "id": "9040609b-8c24-457f-8201-22a99cb5f5cc",
   "metadata": {},
   "outputs": [
    {
     "name": "stdout",
     "output_type": "stream",
     "text": [
      "▪공적마스크 판매 관련해서 출생 연도 끝자리를 이용한 5부제를 다음과 같이 실시한다.\n",
      "▪만 65세 이상 어르신은 언제든지 구매가능하다.\n",
      "\n"
     ]
    },
    {
     "name": "stdout",
     "output_type": "stream",
     "text": [
      "나이를 입력하세요 64\n",
      "출생 연도 끝자리를 입력하세요. 0\n"
     ]
    },
    {
     "name": "stdout",
     "output_type": "stream",
     "text": [
      "구매 가능 요일은 금요일입니다.\n"
     ]
    }
   ],
   "source": [
    "#조건문 확인문제\n",
    "\n",
    "#endBirthday , age 입력시 요구사항에 맞추어 마스크 구매 가능한 요일 출력 프로그램 만들기\n",
    "print('▪공적마스크 판매 관련해서 출생 연도 끝자리를 이용한 5부제를 다음과 같이 실시한다.\\n▪만 65세 이상 어르신은 언제든지 구매가능하다.')\n",
    "print()\n",
    "age=int(input('나이를 입력하세요'))\n",
    "if age >= 65:\n",
    "    print('언제든지 구매 가능합니다.')\n",
    "else:\n",
    "    endBirth=int(input('출생 연도 끝자리를 입력하세요.'))\n",
    "    if endBirth == 1 or endBirth == 6:\n",
    "        print('구매 가능 요일은 월요일입니다.')\n",
    "    elif endBirth ==2 or endBirth ==7 :\n",
    "        print('구매 가능 요일은 화요일입니다.')\n",
    "    elif endBirth ==3 or endBirth ==8 :\n",
    "        print('구매 가능 요일은 수요일입니다.')\n",
    "    elif endBirth ==4 or endBirth ==9 :\n",
    "        print('구매 가능 요일은 목요일입니다.')\n",
    "    elif endBirth ==5 or endBirth ==0 :\n",
    "        print('구매 가능 요일은 금요일입니다.')\n",
    "        "
   ]
  },
  {
   "cell_type": "code",
   "execution_count": null,
   "id": "013fb685-8662-454d-891e-01f53ffada03",
   "metadata": {},
   "outputs": [],
   "source": [
    "num=1\n",
    "\n",
    "while num <=10:\n",
    "    print('num:',num)\n",
    "    num+=1"
   ]
  }
 ],
 "metadata": {
  "kernelspec": {
   "display_name": "Python 3",
   "language": "python",
   "name": "python3"
  },
  "language_info": {
   "codemirror_mode": {
    "name": "ipython",
    "version": 3
   },
   "file_extension": ".py",
   "mimetype": "text/x-python",
   "name": "python",
   "nbconvert_exporter": "python",
   "pygments_lexer": "ipython3",
   "version": "3.12.7"
  }
 },
 "nbformat": 4,
 "nbformat_minor": 5
}
