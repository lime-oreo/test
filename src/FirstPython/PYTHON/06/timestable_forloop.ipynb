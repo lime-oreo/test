{
 "cells": [
  {
   "cell_type": "code",
   "execution_count": 9,
   "metadata": {},
   "outputs": [
    {
     "name": "stdout",
     "output_type": "stream",
     "text": [
      "구구단 행열로 출력하기\n",
      "\n",
      "2단 시작\n",
      "2\n",
      "\n",
      "3단 시작\n",
      "3\n",
      "\n",
      "4단 시작\n",
      "4\n",
      "\n",
      "5단 시작\n",
      "5\n",
      "\n",
      "6단 시작\n",
      "6\n",
      "\n",
      "7단 시작\n",
      "7\n",
      "\n",
      "8단 시작\n",
      "8\n",
      "\n",
      "9단 시작\n",
      "9\n"
     ]
    }
   ],
   "source": [
    "'''\n",
    "출력방식 \n",
    "2*1   3*1   4*1   ... \n",
    "2*2   3*2   4*2   ...\n",
    "'''\n",
    "print('구구단 행열로 출력하기')\n",
    "for x in range (2,10,1):\n",
    "    print(f'\\n{x}단 시작')\n",
    "    for i in range (1,10,1):\n",
    "        print(x*i)\n",
    "        break # 1에서 break걸려서 첫번째 for 문으로 나가버림."
   ]
  },
  {
   "cell_type": "code",
   "execution_count": 28,
   "metadata": {},
   "outputs": [
    {
     "name": "stdout",
     "output_type": "stream",
     "text": [
      "구구단 행열로 출력하기\n",
      "====2단 시작====\n",
      "2X1.=2 \t2X2.=4 \t2X3.=6 \t2X4.=8 \t2X5.=10 \t2X6.=12 \t2X7.=14 \t2X8.=16 \t2X9.=18 \t====3단 시작====\n",
      "3X1.=3 \t3X2.=6 \t3X3.=9 \t3X4.=12 \t3X5.=15 \t3X6.=18 \t3X7.=21 \t3X8.=24 \t3X9.=27 \t====4단 시작====\n",
      "4X1.=4 \t4X2.=8 \t4X3.=12 \t4X4.=16 \t4X5.=20 \t4X6.=24 \t4X7.=28 \t4X8.=32 \t4X9.=36 \t====5단 시작====\n",
      "5X1.=5 \t5X2.=10 \t5X3.=15 \t5X4.=20 \t5X5.=25 \t5X6.=30 \t5X7.=35 \t5X8.=40 \t5X9.=45 \t====6단 시작====\n",
      "6X1.=6 \t6X2.=12 \t6X3.=18 \t6X4.=24 \t6X5.=30 \t6X6.=36 \t6X7.=42 \t6X8.=48 \t6X9.=54 \t====7단 시작====\n",
      "7X1.=7 \t7X2.=14 \t7X3.=21 \t7X4.=28 \t7X5.=35 \t7X6.=42 \t7X7.=49 \t7X8.=56 \t7X9.=63 \t====8단 시작====\n",
      "8X1.=8 \t8X2.=16 \t8X3.=24 \t8X4.=32 \t8X5.=40 \t8X6.=48 \t8X7.=56 \t8X8.=64 \t8X9.=72 \t====9단 시작====\n",
      "9X1.=9 \t9X2.=18 \t9X3.=27 \t9X4.=36 \t9X5.=45 \t9X6.=54 \t9X7.=63 \t9X8.=72 \t9X9.=81 \t"
     ]
    }
   ],
   "source": [
    "print('구구단 행열로 출력하기')\n",
    "for x in range (2,10,1):\n",
    "    print(f'===={x}단 시작====')\n",
    "    for i in range (1,10,1):\n",
    "        print(x,end='')\n",
    "        print('X',end='')\n",
    "        print(i,end='')\n",
    "        print(f'.={x*i}','\\t', end='')\n"
   ]
  },
  {
   "cell_type": "code",
   "execution_count": null,
   "metadata": {},
   "outputs": [],
   "source": []
  }
 ],
 "metadata": {
  "kernelspec": {
   "display_name": "Python 3",
   "language": "python",
   "name": "python3"
  },
  "language_info": {
   "codemirror_mode": {
    "name": "ipython",
    "version": 3
   },
   "file_extension": ".py",
   "mimetype": "text/x-python",
   "name": "python",
   "nbconvert_exporter": "python",
   "pygments_lexer": "ipython3",
   "version": "3.12.7"
  }
 },
 "nbformat": 4,
 "nbformat_minor": 2
}
