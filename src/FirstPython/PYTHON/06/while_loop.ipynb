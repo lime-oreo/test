{
 "cells": [
  {
   "cell_type": "code",
   "execution_count": 1,
   "metadata": {},
   "outputs": [
    {
     "name": "stdout",
     "output_type": "stream",
     "text": [
      "2\n",
      "4\n",
      "6\n",
      "8\n",
      "10\n",
      "---\n",
      "10\n",
      "9\n",
      "8\n",
      "7\n",
      "6\n",
      "5\n",
      "4\n",
      "3\n",
      "2\n",
      "1\n"
     ]
    }
   ],
   "source": [
    "#1부터 10까지 짝수만 출력하기\n",
    "\n",
    "num = 1\n",
    "while num <=10:\n",
    "    num += 1\n",
    "    if num %2 == 0 :\n",
    "        print (num)\n",
    "\n",
    "print ('---')\n",
    "# 10에서 1까지 역순으로 출력\n",
    "num = 10\n",
    "while 1<= num <=10:\n",
    "    print (num) # print을 뒷쪽으로 하면 -1을 먼저 한 후 출력을 하기 때문에 num 뒤로 빠지면 결과가 달라짐\n",
    "    num -=1\n"
   ]
  },
  {
   "cell_type": "code",
   "execution_count": 2,
   "metadata": {},
   "outputs": [
    {
     "name": "stdout",
     "output_type": "stream",
     "text": [
      "5050\n"
     ]
    }
   ],
   "source": [
    "# 1부터 100까지의 합\n",
    "\n",
    "total = 0 #0으로 초기화하기\n",
    "num =1 #증가하는 변수\n",
    "while num <= 100 :\n",
    "    total +=num  #total = total + num\n",
    "    num += 1 # 증가변수 100까지 증가시키기\n",
    "\n",
    "print (total)\n",
    "\n"
   ]
  },
  {
   "cell_type": "code",
   "execution_count": 24,
   "metadata": {},
   "outputs": [
    {
     "name": "stdout",
     "output_type": "stream",
     "text": [
      "while loop사용해서 1-10까지 출력\n",
      "1\n",
      "2\n",
      "3\n",
      "4\n",
      "5\n",
      "6\n",
      "7\n",
      "8\n",
      "9\n",
      "10\n",
      "---\n",
      "for loop사용해서 1-10까지 출력\n",
      "1\n",
      "2\n",
      "3\n",
      "4\n",
      "5\n",
      "6\n",
      "7\n",
      "8\n",
      "9\n",
      "10\n",
      "---\n"
     ]
    }
   ],
   "source": [
    "print('while loop사용해서 1-10까지 출력')\n",
    "num = 1\n",
    "while num <=10 :\n",
    "    print (num)\n",
    "    num += 1\n",
    "print ('---')\n",
    "print('for loop사용해서 1-10까지 출력')\n",
    "for i in range (1,11):\n",
    "    print (i)\n",
    "print ('---')\n",
    "#1부터 10까지 짝수만 출력\n",
    "for i in range (10,2):\n",
    "    print(i)"
   ]
  },
  {
   "cell_type": "code",
   "execution_count": 4,
   "metadata": {},
   "outputs": [
    {
     "name": "stdout",
     "output_type": "stream",
     "text": [
      "공배수 : 24\n",
      "공배수 : 48\n",
      "공배수 : 72\n",
      "공배수 : 96\n",
      "최소공배수 :24\n"
     ]
    }
   ],
   "source": [
    "# 0 과 100 사이 3과 8의 공배수와 최소 공배수 구하기\n",
    "num=1\n",
    "minNum = 0\n",
    "while num <= 100 :\n",
    "    if num % 3==0 and num % 8==0:\n",
    "        print (f'공배수 : {num}')\n",
    "        if minNum ==0 : minNum = num\n",
    "    num +=1\n",
    "print (f'최소공배수 :{minNum}')"
   ]
  },
  {
   "cell_type": "code",
   "execution_count": null,
   "metadata": {},
   "outputs": [],
   "source": [
    "# 구구단 3단 출력하기\n",
    "\n",
    "\n",
    "x= 3\n",
    "num = 1 \n",
    "while num < 10 :\n",
    "\n",
    "    print (f'{x}*{num}={x*num}')\n",
    "    num += 1"
   ]
  },
  {
   "cell_type": "code",
   "execution_count": 5,
   "metadata": {},
   "outputs": [
    {
     "name": "stdout",
     "output_type": "stream",
     "text": [
      "홀수 : 1\n",
      "짝수 : 2\n",
      "홀수 : 3\n",
      "짝수 : 4\n",
      "홀수 : 5\n",
      "짝수 : 6\n",
      "홀수 : 7\n",
      "짝수 : 8\n",
      "홀수 : 9\n",
      "짝수 : 10\n",
      "홀수 : 11\n",
      "짝수 : 12\n",
      "홀수 : 13\n",
      "짝수 : 14\n",
      "홀수 : 15\n",
      "짝수 : 16\n",
      "홀수 : 17\n",
      "짝수 : 18\n",
      "홀수 : 19\n",
      "짝수 : 20\n",
      "홀수 : 21\n",
      "짝수 : 22\n",
      "홀수 : 23\n",
      "짝수 : 24\n",
      "홀수 : 25\n",
      "짝수 : 26\n",
      "홀수 : 27\n",
      "짝수 : 28\n",
      "홀수 : 29\n",
      "짝수 : 30\n"
     ]
    }
   ],
   "source": [
    "num = 1\n",
    "while num <=30 :\n",
    "    if num % 2 == 0 :\n",
    "        print (f'짝수 : {num}')\n",
    "    else:\n",
    "        print (f'홀수 : {num}')\n",
    "    num +=1"
   ]
  },
  {
   "cell_type": "code",
   "execution_count": 22,
   "metadata": {},
   "outputs": [
    {
     "name": "stdout",
     "output_type": "stream",
     "text": [
      "오답입니다.\n",
      "오답입니다.\n",
      "오답입니다.\n",
      "오답입니다.\n",
      "오답입니다.\n",
      "오답입니다.\n",
      "오답입니다.\n"
     ]
    },
    {
     "ename": "ValueError",
     "evalue": "invalid literal for int() with base 10: ''",
     "output_type": "error",
     "traceback": [
      "\u001b[1;31m---------------------------------------------------------------------------\u001b[0m",
      "\u001b[1;31mValueError\u001b[0m                                Traceback (most recent call last)",
      "Cell \u001b[1;32mIn[22], line 12\u001b[0m\n\u001b[0;32m      6\u001b[0m \u001b[38;5;124;03m\"\"\"\u001b[39;00m\n\u001b[0;32m      7\u001b[0m \u001b[38;5;124;03mwhile loop안에서 숫자를 random 입력하게 만든 후 맞추기\u001b[39;00m\n\u001b[0;32m      8\u001b[0m \u001b[38;5;124;03m조건 : 맞출때 까지 진행\u001b[39;00m\n\u001b[0;32m      9\u001b[0m \u001b[38;5;124;03m\"\"\"\u001b[39;00m\n\u001b[0;32m     11\u001b[0m \u001b[38;5;28;01mwhile\u001b[39;00m \u001b[38;5;28;01mTrue\u001b[39;00m : \u001b[38;5;66;03m#처음부터 조건이 없을 경우에도 가능하다.\u001b[39;00m\n\u001b[1;32m---> 12\u001b[0m     k\u001b[38;5;241m=\u001b[39m\u001b[38;5;28;43mint\u001b[39;49m\u001b[43m(\u001b[49m\u001b[38;5;28;43minput\u001b[39;49m\u001b[43m(\u001b[49m\u001b[38;5;124;43m'\u001b[39;49m\u001b[38;5;124;43muser int input : \u001b[39;49m\u001b[38;5;124;43m'\u001b[39;49m\u001b[43m)\u001b[49m\u001b[43m)\u001b[49m\n\u001b[0;32m     13\u001b[0m     \u001b[38;5;28;01mif\u001b[39;00m k \u001b[38;5;241m==\u001b[39m correct_number :\n\u001b[0;32m     15\u001b[0m         \u001b[38;5;28mprint\u001b[39m ( \u001b[38;5;124m'\u001b[39m\u001b[38;5;124m정답입니다.~\u001b[39m\u001b[38;5;124m'\u001b[39m)\n",
      "\u001b[1;31mValueError\u001b[0m: invalid literal for int() with base 10: ''"
     ]
    }
   ],
   "source": [
    "import random\n",
    "\n",
    "correct_number = random.randint(1,10) \n",
    "#1부터 10까지의 random int값을 random module에서 불러온다.\n",
    "\n",
    "\"\"\"\n",
    "while loop안에서 숫자를 random 입력하게 만든 후 맞추기\n",
    "조건 : 맞출때 까지 진행\n",
    "\"\"\"\n",
    "\n",
    "while True : #처음부터 조건이 없을 경우에도 가능하다.\n",
    "    k=int(input('user int input : '))\n",
    "    if k == correct_number :\n",
    "        \n",
    "        print ( '정답입니다.~')\n",
    "\n",
    "        break #반복문에 대한 BREAK\n",
    "\n",
    "    else :\n",
    "        print  ('오답입니다.')\n",
    "        # if 문에 대한 else이기 때문에, 들여써야함.\n",
    "        # while에 대한 else는 무조건 False이기 때문에, 일어날 수 없음. \n",
    "\"\"\"\n",
    "x=int(input('user int input : '))\n",
    "while x == correct_number :\n",
    "    print('정답입니다.')\n",
    "else :\n",
    "    print('오답입니다.')\n",
    "# 이렇게 하면 False이기 때문에 바로 끝나버림.\n",
    "\"\"\""
   ]
  },
  {
   "cell_type": "code",
   "execution_count": null,
   "metadata": {},
   "outputs": [],
   "source": []
  }
 ],
 "metadata": {
  "kernelspec": {
   "display_name": "Python 3",
   "language": "python",
   "name": "python3"
  },
  "language_info": {
   "codemirror_mode": {
    "name": "ipython",
    "version": 3
   },
   "file_extension": ".py",
   "mimetype": "text/x-python",
   "name": "python",
   "nbconvert_exporter": "python",
   "pygments_lexer": "ipython3",
   "version": "3.12.7"
  }
 },
 "nbformat": 4,
 "nbformat_minor": 2
}
