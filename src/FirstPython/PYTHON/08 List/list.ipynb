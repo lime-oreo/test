{
 "cells": [
  {
   "cell_type": "code",
   "execution_count": 7,
   "metadata": {},
   "outputs": [
    {
     "name": "stdout",
     "output_type": "stream",
     "text": [
      "['자두', '수박', '귤']\n",
      "귤\n",
      "자두\n",
      "수박\n",
      "귤\n"
     ]
    }
   ],
   "source": [
    "fruit = ['자두','수박','귤']\n",
    "tools = ['줄자','드릴','니피ㅓ']\n",
    "\n",
    "print (fruit)\n",
    "print (fruit[2])\n",
    "#print( tools)\n",
    "#print (type(fruit))\n",
    "#print(type(tools))\n",
    "\n",
    "for f in fruit : #f는 공백, fruit의 list으로 들어가서 0 index의 자두를 받음\n",
    "    # f = 자두\n",
    "    print (f)\n",
    "    # f는 fruit list의  1 index으로 들어가서 f=수박으로 초기화됨.\n",
    "    # f= 수박\n",
    "    # ... repeat"
   ]
  },
  {
   "cell_type": "code",
   "execution_count": 2,
   "metadata": {},
   "outputs": [
    {
     "name": "stdout",
     "output_type": "stream",
     "text": [
      "[]\n",
      "<class 'list'>\n"
     ]
    }
   ],
   "source": [
    "emptyList=[]\n",
    "print(emptyList)\n",
    "print(type(emptyList))"
   ]
  },
  {
   "cell_type": "code",
   "execution_count": 9,
   "metadata": {},
   "outputs": [
    {
     "name": "stdout",
     "output_type": "stream",
     "text": [
      "H\n",
      "H\n",
      "e\n",
      "l\n",
      "l\n",
      "o\n",
      "No Python documentation found for 'o'.\n",
      "Use help() to get the interactive help utility.\n",
      "Use help(str) for help on the str class.\n",
      "\n"
     ]
    }
   ],
   "source": [
    "str='Hello'\n",
    "print(str[0])\n",
    "\n",
    "for i in str :\n",
    "    print (i)\n",
    "\n",
    "help(i)"
   ]
  },
  {
   "cell_type": "code",
   "execution_count": 26,
   "metadata": {},
   "outputs": [
    {
     "name": "stdout",
     "output_type": "stream",
     "text": [
      "['welcome', 'to', 'the', 'jungle']\n"
     ]
    }
   ],
   "source": [
    "txt='welcome to the jungle'\n",
    "x=txt.split()\n",
    "print(x)\n"
   ]
  },
  {
   "cell_type": "code",
   "execution_count": 34,
   "metadata": {},
   "outputs": [
    {
     "name": "stdout",
     "output_type": "stream",
     "text": [
      "1 step --> total:1\n",
      "2 step --> total:3\n",
      "3 step --> total:6\n",
      "4 step --> total:10\n",
      "5 step --> total:15\n",
      "total: 15\n"
     ]
    }
   ],
   "source": [
    "'''리스트에 들어있는 숫자들의 합을 구하시오.\n",
    "numbers = [1, 2, 3, 4, 5]\n",
    "for문 이용해서 합을 구하세요.'''\n",
    "\n",
    "numbers= [1,2,3,4,5]\n",
    "x=0\n",
    "\n",
    "for i in numbers : #1\n",
    "   # y=i+x #1+0 = 1 # i in numbers 1이 아니라, 2\n",
    "    x += i # x + i = 0+1  x=1, i는 number의 1 index으로 들어가서 i=2, x= 1+2 = 3\n",
    "    print(f'{i} step --> total:{x}')\n",
    "print('total:',x)\n"
   ]
  },
  {
   "cell_type": "code",
   "execution_count": 74,
   "metadata": {},
   "outputs": [
    {
     "name": "stdout",
     "output_type": "stream",
     "text": [
      "[10, 20, 40, 40, 50]\n",
      "50\n"
     ]
    }
   ],
   "source": [
    "numbers = [10,20,40,50,40]\n",
    "numbers.sort()\n",
    "print(numbers)\n",
    "max_number=numbers[-1]\n",
    "print(max_number)\n",
    "\n"
   ]
  },
  {
   "cell_type": "code",
   "execution_count": 19,
   "metadata": {},
   "outputs": [
    {
     "name": "stdout",
     "output_type": "stream",
     "text": [
      "비교대상 숫자 확인  | 10, 10\n",
      "비교대상 숫자 확인  | 20, 20\n",
      "비교대상 숫자 확인  | 30, 30\n",
      "비교대상 숫자 확인  | 50, 50\n",
      "---구분선---\n",
      "비교대상 최댓값은 ? | 비교대상숫자 1 \"50\"과 비교 대상 숫자2 : \"40\"\n",
      "50\n"
     ]
    }
   ],
   "source": [
    "numbers = [10,20,30,50,40]\n",
    "# sorting을 하지 않고, 최댓값 찾기\n",
    "\n",
    "max_number =0\n",
    "for i in numbers :\n",
    "   if max_number < i: \n",
    "      max_number = i \n",
    "      print (f'비교대상 숫자 확인  | {max_number}, {i}')\n",
    "\n",
    "   else : # max_number > i일 경우에는 if 조건문을 나오기\n",
    "      print ('---구분선---')\n",
    "      print (f'비교대상 최댓값은 ? | 비교대상숫자 1 \\\"{max_number}\\\"과 비교 대상 숫자2 : \\\"{i}\\\"')\n",
    "      print (max_number) \n",
    "\n",
    "   "
   ]
  },
  {
   "cell_type": "code",
   "execution_count": 2,
   "metadata": {},
   "outputs": [
    {
     "name": "stdout",
     "output_type": "stream",
     "text": [
      "비교대상 숫자 확인  | 10, 10\n",
      "비교대상 숫자 확인  | 20, 20\n",
      "비교대상 숫자 확인  | 30, 30\n",
      "비교대상 숫자 확인  | 50, 50\n",
      "50\n",
      "2\n"
     ]
    }
   ],
   "source": [
    "numbers = [10,20,30,50,40]\n",
    "# sorting을 하지 않고, 최댓값 찾기\n",
    "\n",
    "max_number =0\n",
    "for i in numbers :\n",
    "   if max_number < i: \n",
    "      max_number = i \n",
    "      print (f'비교대상 숫자 확인  | {max_number}, {i}')\n",
    "print(max_number)\n",
    "\n",
    "'''\n",
    "   else : # max_number > i일 경우에는 if 조건문을 나오기\n",
    "      print ('---구분선---')\n",
    "      print (f'비교대상 최댓값은 ? | 비교대상숫자 1 \\\"{max_number}\\\"과 비교 대상 숫자2 : \\\"{i}\\\"')\n",
    "      print (max_number) \n",
    "'''\n",
    "   \n",
    "print(numbers.index (30))"
   ]
  },
  {
   "cell_type": "code",
   "execution_count": 12,
   "metadata": {},
   "outputs": [
    {
     "name": "stdout",
     "output_type": "stream",
     "text": [
      "2\n",
      "3\n",
      "1\n",
      "[10, 20, 30, 50, 40, 100]\n",
      "[10, 20, 100, 30, 50, 40]\n"
     ]
    }
   ],
   "source": [
    "str = 'python'\n",
    "#index 조회\n",
    "print(str. index('th'))\n",
    "print(str. index('h'))\n",
    "print(str. index('yth'))\n",
    "\n",
    "#list 마지막에 삽입하기.\n",
    "numbers = [10,20,30,50,40]\n",
    "numbers.append(100) \n",
    "print(numbers)\n",
    "# insert 특정 위치 삽입\n",
    "numbers = [10,20,30,50,40]\n",
    "numbers.insert(2,100) \n",
    "print(numbers)\n"
   ]
  },
  {
   "cell_type": "code",
   "execution_count": 26,
   "metadata": {},
   "outputs": [
    {
     "name": "stdout",
     "output_type": "stream",
     "text": [
      "[1, 2, 3, 4, 5, 6]\n",
      "[1, 2, 3, 4, 5]\n",
      "[2, 3, 4, 5]\n"
     ]
    }
   ],
   "source": [
    "list_1= [1,2,3]\n",
    "list_2 = [4,5,6]\n",
    "#list_3=list_1+list_2\n",
    "#print(list_3)\n",
    "list_1.extend(list_2)\n",
    "print(list_1)\n",
    "\n",
    "list_1.pop(-1) #.pop()도 마지막 item이 삭제됨.\n",
    "print(list_1)\n",
    "\n",
    "list_1.remove(1) #.remove안의 삭제 값이 value인지index인지 확인하기.\n",
    "print(list_1)"
   ]
  },
  {
   "cell_type": "code",
   "execution_count": 32,
   "metadata": {},
   "outputs": [
    {
     "name": "stdout",
     "output_type": "stream",
     "text": [
      "오늘의 할 일 : ['cleaning', 'shopping', 'TOEIC study', 'exercise']\n",
      "4\n",
      "끝난 일 : cleaning\n",
      "---구분선---\n",
      "남은 일: ['shopping', 'TOEIC study', 'exercise']\n",
      "끝난 일 : shopping\n",
      "---구분선---\n",
      "남은 일: ['TOEIC study', 'exercise']\n",
      "끝난 일 : TOEIC study\n",
      "---구분선---\n",
      "남은 일: ['exercise']\n",
      "끝난 일 : exercise\n",
      "---구분선---\n",
      "할일 끝~\n",
      "[]\n"
     ]
    }
   ],
   "source": [
    "todoList = ['cleaning','shopping','TOEIC study','exercise']\n",
    "print('오늘의 할 일 :', todoList)\n",
    "print(len(todoList))\n",
    "for i in range(len(todoList)) : #range(len(todoList))와 동일함. = (0,4,1)\n",
    "    # i는 아랫줄에서 사용하지 않음. 결국 range을 돌기 위한 사전작업일 뿐임.\n",
    "\n",
    "    print('끝난 일 :',todoList.pop(0))\n",
    "    print('---구분선---')\n",
    "    \n",
    "    if len(todoList)!=0:\n",
    "        print ('남은 일:',todoList)\n",
    "    else:\n",
    "        print ('할일 끝~')\n",
    "print(todoList)"
   ]
  },
  {
   "cell_type": "code",
   "execution_count": 6,
   "metadata": {},
   "outputs": [
    {
     "name": "stdout",
     "output_type": "stream",
     "text": [
      "['lion', 'bear', 'fox', 'wolf']\n",
      "['tiger', 'lion', 'bear', 'fox']\n",
      "['lion', 'bear', 'fox']\n",
      "['tiger', 'bear', 'wolf']\n"
     ]
    }
   ],
   "source": [
    "animals =['tiger','lion','bear','fox','wolf']\n",
    "\n",
    "print(animals[1:])\n",
    "print(animals[:4])\n",
    "print(animals[1:4])\n",
    "print(animals[::2])\n"
   ]
  },
  {
   "cell_type": "code",
   "execution_count": null,
   "metadata": {},
   "outputs": [],
   "source": []
  }
 ],
 "metadata": {
  "kernelspec": {
   "display_name": "Python 3",
   "language": "python",
   "name": "python3"
  },
  "language_info": {
   "codemirror_mode": {
    "name": "ipython",
    "version": 3
   },
   "file_extension": ".py",
   "mimetype": "text/x-python",
   "name": "python",
   "nbconvert_exporter": "python",
   "pygments_lexer": "ipython3",
   "version": "3.12.7"
  }
 },
 "nbformat": 4,
 "nbformat_minor": 2
}
