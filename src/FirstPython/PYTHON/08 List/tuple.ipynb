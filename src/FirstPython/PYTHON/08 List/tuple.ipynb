{
 "cells": [
  {
   "cell_type": "code",
   "execution_count": 11,
   "metadata": {},
   "outputs": [
    {
     "name": "stdout",
     "output_type": "stream",
     "text": [
      "1\n",
      "<built-in method count of tuple object at 0x000001A7557444A0>\n"
     ]
    }
   ],
   "source": [
    "my_list = [1,2,3,4,5]\n",
    "my_tuple = (1,2,3,4,5) #변하지 않는 리스트라고 생각하기\n",
    "my_dictionary = {1,2,3,4,5}\n",
    "\n",
    "#print(1 in my_tuple)\n",
    "if 1 in my_tuple :\n",
    "    print('1')\n",
    "\n",
    "print(my_tuple.count)"
   ]
  },
  {
   "cell_type": "code",
   "execution_count": 15,
   "metadata": {},
   "outputs": [
    {
     "name": "stdout",
     "output_type": "stream",
     "text": [
      "(1, 2, 3, 4, 5, 10, 20, 30, 40, 50)\n"
     ]
    },
    {
     "data": {
      "text/plain": [
       "(1, 2, 3, 4, 5)"
      ]
     },
     "execution_count": 15,
     "metadata": {},
     "output_type": "execute_result"
    }
   ],
   "source": [
    "my_tuple = (1,2,3,4,5)\n",
    "my_tuple2 = (10, 20, 30, 40, 50)\n",
    "\n",
    "# 튜플 자체는 수저 불가능 하지만, 연산으로 재선언하면 쓸 수 있다.\n",
    "tuplesum= my_tuple+my_tuple2\n",
    "print(tuplesum)\n",
    "my_tuple[:5]\n"
   ]
  },
  {
   "cell_type": "code",
   "execution_count": 18,
   "metadata": {},
   "outputs": [
    {
     "name": "stdout",
     "output_type": "stream",
     "text": [
      "(1, 2, 3, 4, 5)\n",
      "<class 'list'>\n",
      "[1, 2, 3, 4, 5]\n"
     ]
    }
   ],
   "source": [
    "my_tuple = (1,2,3,4,5)\n",
    "print(my_tuple)\n",
    "my_tuple = list(my_tuple)\n",
    "print(type(my_tuple))\n",
    "print(my_tuple)"
   ]
  },
  {
   "cell_type": "code",
   "execution_count": 24,
   "metadata": {},
   "outputs": [
    {
     "name": "stdout",
     "output_type": "stream",
     "text": [
      "[1, 2, 3, 4, 5]\n",
      "<class 'list'>\n",
      "(1, 3, 2, 4, 5)\n"
     ]
    }
   ],
   "source": [
    "my_tuple = (1,3,2,4,5)\n",
    "#my_tuple.sort()\n",
    "cs= sorted(my_tuple) \n",
    "#sorted function은 list으로 반환한 후 sorting함.\n",
    "print(cs)\n",
    "print(type(cs))\n",
    "my_tuple=tuple(my_tuple)\n",
    "print(my_tuple)"
   ]
  },
  {
   "cell_type": "code",
   "execution_count": 25,
   "metadata": {},
   "outputs": [
    {
     "name": "stdout",
     "output_type": "stream",
     "text": [
      "15\n"
     ]
    }
   ],
   "source": [
    "numbers = [1, 2, 3, 4, 5]\n",
    "cs=tuple(numbers)\n",
    "total = 0\n",
    "for num in numbers:\n",
    "    total += num\n",
    "print(total)  # 출력: 15"
   ]
  },
  {
   "cell_type": "code",
   "execution_count": 32,
   "metadata": {},
   "outputs": [
    {
     "name": "stdout",
     "output_type": "stream",
     "text": [
      "[10, 20, 30, 40, 50]\n",
      "50\n"
     ]
    }
   ],
   "source": [
    "#2. 리스트에서 최대값 찾기 ?? tuple로 변환?\n",
    "\n",
    "numbers = [10, 20, 30, 50, 40]\n",
    "#numbers.sort()  # 리스트를 오름차순으로 정렬\n",
    "cs=sorted(numbers) #sorting function, method가 아님.\n",
    "print(cs)\n",
    "cs = cs[-1]  # 정렬된 리스트에서 마지막 값이 최대값\n",
    "print(cs)  # 출력: 50\n"
   ]
  },
  {
   "cell_type": "code",
   "execution_count": 17,
   "metadata": {},
   "outputs": [
    {
     "name": "stdout",
     "output_type": "stream",
     "text": [
      "<class 'dict'>\n",
      "{'이름': '지훈', '나이': 44, '주소': '서울시 동대문구 11길 45로', '취미': ['낚시', '요리', '넷플릭스'], '몸무게': 77}\n",
      "['낚시', '요리', '넷플릭스']\n",
      "{'이름': '지훈', '나이': 44, '주소': '서울시 동대문구 11길 45로', '취미': ['낚시', '요리', '넷플릭스'], '몸무게': 77, '혈액형': 'O'}\n",
      "{'이름': '지훈', '나이': 65, '주소': '서울시 동대문구 11길 45로', '취미': ['낚시', '요리', '넷플릭스'], '몸무게': 80, '혈액형': 'O'}\n",
      "{'이름': '지훈', '나이': 65, '주소': '서울시 동대문구 11길 45로', '취미': ['낚시', '요리', '넷플릭스'], '혈액형': 'O'}\n",
      "5\n",
      "4\n"
     ]
    },
    {
     "data": {
      "text/plain": [
       "dict_values(['지훈', '서울시 동대문구 11길 45로', ['낚시', '요리', '넷플릭스'], 'O'])"
      ]
     },
     "execution_count": 17,
     "metadata": {},
     "output_type": "execute_result"
    }
   ],
   "source": [
    "#dictionary\n",
    "\n",
    "personInfo = {\n",
    "    '이름':'지훈',\n",
    "    '나이':44,\n",
    "    '주소':'서울시 동대문구 11길 45로',\n",
    "    '취미':['낚시','요리','넷플릭스'],\n",
    "    '몸무게': 77}\n",
    "\n",
    "\n",
    "print(type(personInfo))\n",
    "print(personInfo)\n",
    "print(personInfo['취미'])\n",
    "personInfo['혈액형']='O'\n",
    "print(personInfo)\n",
    "personInfo['나이']=65\n",
    "personInfo['몸무게']=80\n",
    "print(personInfo)\n",
    "del personInfo['몸무게']\n",
    "print(personInfo)\n",
    "print(len(personInfo))\n",
    "del personInfo['나이']\n",
    "print(len(personInfo))\n",
    "personInfo.keys()\n",
    "personInfo.values()\n"
   ]
  },
  {
   "cell_type": "code",
   "execution_count": 5,
   "metadata": {},
   "outputs": [],
   "source": [
    "#score\n",
    "\n",
    "major_score  = {\n",
    "    'C/C++':'A',\n",
    "    'Java':'B+',\n",
    "    'networking':'C',\n",
    "    'security':'A+',\n",
    "    'hacking':'F',\n",
    "    'system':'C+'}"
   ]
  },
  {
   "cell_type": "code",
   "execution_count": 7,
   "metadata": {},
   "outputs": [
    {
     "name": "stdout",
     "output_type": "stream",
     "text": [
      "{'C/C++': 'A', 'Java': 'B+', 'networking': 'C', 'security': 'A+', 'hacking': 'F', 'system': 'C+'}\n",
      "A\n"
     ]
    }
   ],
   "source": [
    "print (major_score)\n",
    "print(major_score['C/C++'])"
   ]
  },
  {
   "cell_type": "code",
   "execution_count": 22,
   "metadata": {},
   "outputs": [
    {
     "name": "stdout",
     "output_type": "stream",
     "text": [
      "{'이름': '지훈', '주소': '서울시 동대문구 11길 45로', '취미': ['낚시', '요리', '넷플릭스'], '혈액형': 'O'}\n",
      "이름 \t 지훈\n",
      "주소 \t 서울시 동대문구 11길 45로\n",
      "취미 \t ['낚시', '요리', '넷플릭스']\n",
      "혈액형 \t O\n",
      "{'이름': '지훈', '주소': '서울시 동대문구 11길 45로', '취미': ['낚시', '요리', '넷플릭스']}\n"
     ]
    }
   ],
   "source": [
    "print(personInfo)\n",
    "for key in personInfo.keys():\n",
    "    print(key,'\\t',personInfo[key])\n",
    "\n",
    "personInfo.popitem() #최근에 isert한 key-value을 제거하는 함수\n",
    "print(personInfo)"
   ]
  },
  {
   "cell_type": "code",
   "execution_count": 24,
   "metadata": {},
   "outputs": [
    {
     "name": "stdout",
     "output_type": "stream",
     "text": [
      "('banana', 'plum', 'watermelon')\n"
     ]
    }
   ],
   "source": [
    "fruits=('apple','banana','plum','watermelon','peach')\n",
    "print(fruits[1:4])"
   ]
  },
  {
   "cell_type": "code",
   "execution_count": 85,
   "metadata": {},
   "outputs": [
    {
     "name": "stdout",
     "output_type": "stream",
     "text": [
      "math 30\n",
      "english 22\n",
      "85\n"
     ]
    }
   ],
   "source": [
    "#1. 딕셔너리 student에서 값이 20 이상인 항목만 출력\n",
    "student = {\"math\": 30, \"science\": 18, \"english\": 22, \"history\": 15}\n",
    "\n",
    "for key,value in student.items() :\n",
    "    if (value >20) :\n",
    "          print (key,value)\n",
    "\n",
    "#2. student 모든 값의 합 sum 함수 사용 \n",
    "student = {\"math\": 30, \"science\": 18, \"english\": 22, \"history\": 15}\n",
    "\"\"\"student.values() 사용\n",
    "sum함수 사용\"\"\"\n",
    "\n",
    "     \n",
    "\"\"\"for key, value in student.items():\n",
    "    print((student.values()))\n",
    "    print(sum(student.values()))\"\"\"\n",
    "\n",
    "total=sum(student.values())\n",
    "print(total)\n",
    "\n",
    "\n",
    "\n"
   ]
  },
  {
   "cell_type": "code",
   "execution_count": 70,
   "metadata": {},
   "outputs": [
    {
     "data": {
      "text/plain": [
       "['a', 'b', 'c', 'd']"
      ]
     },
     "execution_count": 70,
     "metadata": {},
     "output_type": "execute_result"
    }
   ],
   "source": [
    "\"\"\"3. 딕셔너리 data에 있는 키를 알파벳 순으로 정렬하고 출력\n",
    "data = {\"b\": 2, \"a\": 1, \"d\": 4, \"c\": 3}\n",
    "sorted 사용\"\"\"\n",
    "\n",
    "data = {\"b\": 2, \"a\": 1, \"d\": 4, \"c\": 3}\n",
    "\n",
    "list=sorted(data.keys())\n",
    "\n",
    "list\n"
   ]
  },
  {
   "cell_type": "code",
   "execution_count": null,
   "metadata": {},
   "outputs": [],
   "source": []
  }
 ],
 "metadata": {
  "kernelspec": {
   "display_name": "Python 3",
   "language": "python",
   "name": "python3"
  },
  "language_info": {
   "codemirror_mode": {
    "name": "ipython",
    "version": 3
   },
   "file_extension": ".py",
   "mimetype": "text/x-python",
   "name": "python",
   "nbconvert_exporter": "python",
   "pygments_lexer": "ipython3",
   "version": "3.12.7"
  }
 },
 "nbformat": 4,
 "nbformat_minor": 2
}
