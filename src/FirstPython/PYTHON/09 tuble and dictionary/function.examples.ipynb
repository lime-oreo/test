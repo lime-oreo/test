{
 "cells": [
  {
   "cell_type": "code",
   "execution_count": 3,
   "metadata": {},
   "outputs": [
    {
     "name": "stdout",
     "output_type": "stream",
     "text": [
      "base: 2 degree: 2 result: 4\n"
     ]
    }
   ],
   "source": [
    "def makeSquare(base, degree):\n",
    "    return base * degree\n",
    "\n",
    "\n",
    "\n",
    "baseNum = int (input('밑(base)을 입력하세요.'))\n",
    "degNum = int (input('차수 (degree)을 입력하세요.'))\n",
    "resultNum = makeSquare(baseNum, degNum)\n",
    "print('base:',baseNum, 'degree:',degNum,'result:',resultNum)"
   ]
  },
  {
   "cell_type": "code",
   "execution_count": 16,
   "metadata": {},
   "outputs": [
    {
     "name": "stdout",
     "output_type": "stream",
     "text": [
      "1 mm--> 0.1 cm\n",
      "1 mm--> 0.01 m\n",
      "1 mm--> 0.3937 inch\n",
      "1 mm--> 0.003281 ft\n",
      "<class 'dict'>\n"
     ]
    }
   ],
   "source": [
    "#실전예제 1 368pg\n",
    "\n",
    "\"\"\"\n",
    "길이  \n",
    "1mm = 0.1cm\n",
    "1mm = 0.001m\n",
    "1mm = 0.03937 inchj\n",
    "1mm = 0.003281 ft\n",
    "\n",
    "\"\"\"\n",
    "\n",
    "def convert_units(lenMm):\n",
    "    unitDic={}\n",
    "    unitDic['cm'] =lenMm * 0.1\n",
    "    unitDic['m'] =lenMm * 0.01\n",
    "    unitDic['inch'] =lenMm * 0.3937\n",
    "    unitDic['ft'] =lenMm * 0.003281\n",
    "    \n",
    "    return unitDic\n",
    "    # 바로 unitDic의 dict을 넣으면 안되나?\n",
    "\n",
    "def print_length (legnths):\n",
    "    for len in legnths.keys():\n",
    "        print(inputData, 'mm-->',legnths[len],len)\n",
    "    \n",
    "\n",
    "inputData= int(input('길이(mm)을 입력하세요.')) #1\n",
    "result = convert_units(inputData) #2\n",
    "\n",
    "print_length(result) #2의 function을 받아서 3으로 이동\n",
    "\n",
    "\n",
    "\n",
    "\n",
    "\n"
   ]
  },
  {
   "cell_type": "code",
   "execution_count": null,
   "metadata": {},
   "outputs": [],
   "source": [
    "\n"
   ]
  }
 ],
 "metadata": {
  "kernelspec": {
   "display_name": "Python 3",
   "language": "python",
   "name": "python3"
  },
  "language_info": {
   "codemirror_mode": {
    "name": "ipython",
    "version": 3
   },
   "file_extension": ".py",
   "mimetype": "text/x-python",
   "name": "python",
   "nbconvert_exporter": "python",
   "pygments_lexer": "ipython3",
   "version": "3.12.7"
  }
 },
 "nbformat": 4,
 "nbformat_minor": 2
}
