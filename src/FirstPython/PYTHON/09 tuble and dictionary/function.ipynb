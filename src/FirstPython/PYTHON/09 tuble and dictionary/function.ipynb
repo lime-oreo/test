{
 "cells": [
  {
   "cell_type": "code",
   "execution_count": 22,
   "metadata": {},
   "outputs": [
    {
     "name": "stdout",
     "output_type": "stream",
     "text": [
      "hello\n",
      "\n",
      "반갑습니다.\n",
      "hello\n"
     ]
    }
   ],
   "source": [
    "def greetings():\n",
    "    print('hello')\n",
    "\n",
    "def greeting2(): #함수 안 함수 호출하기\n",
    "    print('반갑습니다.')\n",
    "    greetings()\n",
    "\n",
    "\n",
    "\n",
    "greetings()\n",
    "print()\n",
    "greeting2()\n"
   ]
  },
  {
   "cell_type": "code",
   "execution_count": null,
   "metadata": {},
   "outputs": [],
   "source": [
    "greetings():\n",
    "    print('hello')\n",
    "\n",
    "def greeting2(): #함수 안 함수 호출하기\n",
    "    print('반갑습니다.')\n",
    "    greetings()\n",
    "\n",
    "\n",
    "\n",
    "greetings()\n",
    "print()\n",
    "greeting2()\n"
   ]
  },
  {
   "cell_type": "code",
   "execution_count": 7,
   "metadata": {},
   "outputs": [
    {
     "name": "stdout",
     "output_type": "stream",
     "text": [
      "23.0 cm= 9.055123 inch\n"
     ]
    }
   ],
   "source": [
    "def convertUnits():\n",
    "    print(lengthCm,'cm=',lengthCm * 0.393701,'inch')\n",
    "\n",
    "\n",
    "lengthCm = float (input('길이를 입력하세요.(cm)')) #함수 안 변수 입력 이건 함수 앞으로 가든 뒤로 가든 똑같이 결과가 나옴.\n",
    "convertUnits() #함수 호출 "
   ]
  },
  {
   "cell_type": "code",
   "execution_count": 21,
   "metadata": {},
   "outputs": [
    {
     "name": "stdout",
     "output_type": "stream",
     "text": [
      "이동거리는 2(km/h) * 3(h)입니다.\n"
     ]
    }
   ],
   "source": [
    "#이동거리 계산 함수\n",
    "\n",
    "\"\"\"이동 거리 = 속도 km/h * 시간 h\"\"\"\n",
    "\n",
    "\n",
    "def moving_con ():\n",
    "    print(f'이동거리는 {speed}(km/h) * {hour}(h)입니다.')\n",
    "\n",
    "speed = (int(input('속도를 입력하세요.(km/h)')))\n",
    "hour = (int(input('시간를 입력하세요.h)')))\n",
    "moving_con()\n",
    "\n"
   ]
  },
  {
   "cell_type": "code",
   "execution_count": 4,
   "metadata": {},
   "outputs": [
    {
     "name": "stdout",
     "output_type": "stream",
     "text": [
      "Hello World\n",
      "안녕하세요\n",
      "Hello World\n",
      "안녕하세요\n",
      "Hello World\n",
      "안녕하세요\n"
     ]
    }
   ],
   "source": [
    "def hello():\n",
    "    pass\n",
    "    print('Hello World')\n",
    "    print('안녕하세요')\n",
    "\n",
    "hello()\n",
    "hello()\n",
    "hello()\n",
    "\n",
    "\n"
   ]
  },
  {
   "cell_type": "code",
   "execution_count": 10,
   "metadata": {},
   "outputs": [
    {
     "name": "stdout",
     "output_type": "stream",
     "text": [
      "hello worldworld"
     ]
    }
   ],
   "source": [
    "# C 언어 printf 기능 만들어쓰기\n",
    "def printf(str): #매개변수 선언\n",
    "#    pass\n",
    "    print(str,end='')\n",
    "\n",
    "printf('hello world')\n",
    "printf('world')\n"
   ]
  },
  {
   "cell_type": "code",
   "execution_count": 16,
   "metadata": {},
   "outputs": [],
   "source": [
    "\"\"\"1. 두 수의 합\n",
    "설명: 두 개의 숫자를 인자로 받아 그 합을 출력하는 함수\"\"\"\n",
    "#아래는 인자를 받지 않음.\n",
    "def add_nums() :\n",
    "\n",
    "    print (f'{number_1} + {number_2} = {number_1+number_2}')\n",
    "\n",
    "\n",
    "number_1=int(input(''))\n",
    "number_2=int(input('')) \n",
    "\n",
    "add_nums()\n"
   ]
  },
  {
   "cell_type": "code",
   "execution_count": 14,
   "metadata": {},
   "outputs": [
    {
     "name": "stdout",
     "output_type": "stream",
     "text": [
      "3 + 2 = 5\n"
     ]
    }
   ],
   "source": []
  },
  {
   "cell_type": "code",
   "execution_count": 17,
   "metadata": {},
   "outputs": [],
   "source": [
    "# 숫자를 인자로 받아서 작성\n",
    "def mysum(a,b):\n",
    "    print(a+b)\n",
    "mysum(1,2)  \n",
    "mysum('hello','world')"
   ]
  },
  {
   "cell_type": "code",
   "execution_count": 39,
   "metadata": {},
   "outputs": [
    {
     "name": "stdout",
     "output_type": "stream",
     "text": [
      "15\n"
     ]
    }
   ],
   "source": [
    "# 숫자 리스트를 받아 그 합을 출력하는 함수 작성\n",
    "\n",
    "def mysum_list(list) :\n",
    "    total=sum(list)\n",
    "    print(total)\n",
    "    \n",
    "mysum_list([1,2,3,4,5]) #15출력\n",
    "\n",
    "\n",
    "\n"
   ]
  },
  {
   "cell_type": "code",
   "execution_count": 33,
   "metadata": {},
   "outputs": [],
   "source": [
    "#짝수인지 출력 \n",
    "# 숫자를 받아 짝수인지 여부를 출력하는 함수 작성, 인자 1\n",
    "\n",
    "def jjack (a):\n",
    "    if a %2 == 0:\n",
    "        print('짝수입니다.')\n",
    "    else:\n",
    "        print('홀수입니다.')\n"
   ]
  },
  {
   "cell_type": "code",
   "execution_count": 36,
   "metadata": {},
   "outputs": [
    {
     "name": "stdout",
     "output_type": "stream",
     "text": [
      "15\n"
     ]
    }
   ],
   "source": [
    "\n",
    "def mysum_list(a) :\n",
    "    \n",
    "    total=sum(a)\n",
    "    print(total)\n",
    "\n",
    "mysum_list([1,2,3,4,5]) #15출력\n",
    "\n"
   ]
  },
  {
   "cell_type": "code",
   "execution_count": 64,
   "metadata": {},
   "outputs": [],
   "source": [
    "\"\"\"snack_1= int(input('새우깡 구매개수:'))\n",
    "snack_2= int(input('비비빅 구매개수:'))\n",
    "snack_3= int(input('초코파이 구매개수:'))\n",
    "snack_4= int(input('맛동산 구매개수:'))\n",
    "\"\"\" \n",
    "\"\"\"\n",
    "새우깡 구매 금액 = snack_1 * 1200\n",
    "비비빅 구매 금액 = snack_2* 400\n",
    "초코파이 구매 금액 = snack_3 * 500\n",
    "맛동산 구매 금액 = snack_1 * 1500\n",
    "\"\"\"\n",
    "\n",
    "def snack_calculator(snack_1,snack_2,snack_3,snack_4) :\n",
    "    snack_1_total=snack_1 * 1200\n",
    "    snack_2_total=snack_2 * 400\n",
    "    snack_3_total=snack_3 * 500\n",
    "    snack_4_total=snack_4 * 1500\n",
    "    #total=(snack_1_total,snack_2_total,snack_3_total,snack_4_total) #튜플\n",
    "    total=[snack_1_total,snack_2_total,snack_3_total,snack_4_total]\n",
    "    total=sum(total)\n",
    "    print('===============')\n",
    "    print (f'새우깡 구매금액 \\t: {snack_1_total}')    \n",
    "    print (f'비비빅 구매금액 \\t: {snack_2_total}')    \n",
    "    print (f'초코파이 구매금액 : {snack_3_total}')    \n",
    "    print (f'맛동산 구매금액 \\t: {snack_4_total}')\n",
    "    print('===============')\n",
    "    print(f'총 구매 금액\\t:{total}')\n"
   ]
  },
  {
   "cell_type": "code",
   "execution_count": 65,
   "metadata": {},
   "outputs": [
    {
     "name": "stdout",
     "output_type": "stream",
     "text": [
      "===============\n",
      "새우깡 구매금액 \t: 1200\n",
      "비비빅 구매금액 \t: 800\n",
      "초코파이 구매금액 : 1500\n",
      "맛동산 구매금액 \t: 6000\n",
      "===============\n",
      "총 구매 금액\t:9500\n"
     ]
    }
   ],
   "source": [
    "snack_calculator(1,2,3,4)"
   ]
  },
  {
   "cell_type": "code",
   "execution_count": null,
   "metadata": {},
   "outputs": [],
   "source": [
    "def printMemberInfo():\n",
    "    getMemberInDB()\n",
    "    print('회원정보를 출력한다.')\n",
    "\n",
    "def getMemberInDB():\n",
    "    connectDB()\n",
    "    selectMemberInDB()\n",
    "    print('데이터베이스에서 회원정보를 가져온다.')"
   ]
  },
  {
   "cell_type": "code",
   "execution_count": 1,
   "metadata": {},
   "outputs": [
    {
     "name": "stdout",
     "output_type": "stream",
     "text": [
      "welcomee world\n",
      "welcomee world\n",
      "welcomee world\n",
      "welcomee world\n",
      "welcomee world\n"
     ]
    }
   ],
   "source": [
    "for _ in range(5):\n",
    "    print('welcomee world')"
   ]
  },
  {
   "cell_type": "code",
   "execution_count": 1,
   "metadata": {},
   "outputs": [
    {
     "data": {
      "text/plain": [
       "30"
      ]
     },
     "execution_count": 1,
     "metadata": {},
     "output_type": "execute_result"
    }
   ],
   "source": [
    "from operator import add #operator module 안에 add 함수 호출\n",
    "\n",
    "add(10,20)"
   ]
  },
  {
   "cell_type": "code",
   "execution_count": 4,
   "metadata": {},
   "outputs": [
    {
     "data": {
      "text/plain": [
       "30"
      ]
     },
     "execution_count": 4,
     "metadata": {},
     "output_type": "execute_result"
    }
   ],
   "source": [
    "import operator\n",
    "\n",
    "add(10,20)\n"
   ]
  },
  {
   "cell_type": "code",
   "execution_count": null,
   "metadata": {},
   "outputs": [],
   "source": []
  }
 ],
 "metadata": {
  "kernelspec": {
   "display_name": "Python 3",
   "language": "python",
   "name": "python3"
  },
  "language_info": {
   "codemirror_mode": {
    "name": "ipython",
    "version": 3
   },
   "file_extension": ".py",
   "mimetype": "text/x-python",
   "name": "python",
   "nbconvert_exporter": "python",
   "pygments_lexer": "ipython3",
   "version": "3.12.7"
  }
 },
 "nbformat": 4,
 "nbformat_minor": 2
}
