{
 "cells": [
  {
   "cell_type": "code",
   "execution_count": 1,
   "metadata": {},
   "outputs": [
    {
     "name": "stdout",
     "output_type": "stream",
     "text": [
      "hello.\n"
     ]
    }
   ],
   "source": [
    "def introKor():\n",
    "    print('안녕.')\n",
    "def introEng():\n",
    "    print('hello.')\n",
    "def introJap():\n",
    "    print('콘니치와')\n",
    "\n",
    "selectNum= int(input('where are you from? 1. 한국 2. USA 3. Japan'))\n",
    "\n",
    "if selectNum == 1 :\n",
    "    introKor()\n",
    "\n",
    "elif selectNum ==2 :\n",
    "    introEng()\n",
    "elif selectNum ==3 :\n",
    "    introJap()\n",
    "else :\n",
    "    introEng()"
   ]
  },
  {
   "cell_type": "code",
   "execution_count": 4,
   "metadata": {},
   "outputs": [
    {
     "name": "stdout",
     "output_type": "stream",
     "text": [
      "112233445566==========\n",
      "11 22 33 44 55 66 ==========\n",
      "11\n",
      "22\n",
      "33\n",
      "44\n",
      "55\n",
      "66\n"
     ]
    }
   ],
   "source": [
    "numbers = [11,22,33,44,55,66]\n",
    "for i in numbers :\n",
    "    print(i, end='')\n",
    "print('==========')\n",
    "\n",
    "for i in numbers :\n",
    "    print(i, end=' ')\n",
    "\n",
    "print('==========')\n",
    "for i in numbers :\n",
    "    print(i)"
   ]
  },
  {
   "cell_type": "code",
   "execution_count": 5,
   "metadata": {},
   "outputs": [
    {
     "name": "stdout",
     "output_type": "stream",
     "text": [
      "5050\n"
     ]
    }
   ],
   "source": [
    "print(sum(range(1,101)))"
   ]
  },
  {
   "cell_type": "code",
   "execution_count": 26,
   "metadata": {},
   "outputs": [
    {
     "name": "stdout",
     "output_type": "stream",
     "text": [
      "2 x 1 =  2   2 x 2 =  4   2 x 3 =  6   2 x 4 =  8   2 x 5 = 10   2 x 6 = 12   2 x 7 = 14   2 x 8 = 16   2 x 9 = 18   \n",
      "3 x 1 =  3   3 x 2 =  6   3 x 3 =  9   3 x 4 = 12   3 x 5 = 15   3 x 6 = 18   3 x 7 = 21   3 x 8 = 24   3 x 9 = 27   \n",
      "4 x 1 =  4   4 x 2 =  8   4 x 3 = 12   4 x 4 = 16   4 x 5 = 20   4 x 6 = 24   4 x 7 = 28   4 x 8 = 32   4 x 9 = 36   \n",
      "5 x 1 =  5   5 x 2 = 10   5 x 3 = 15   5 x 4 = 20   5 x 5 = 25   5 x 6 = 30   5 x 7 = 35   5 x 8 = 40   5 x 9 = 45   \n",
      "6 x 1 =  6   6 x 2 = 12   6 x 3 = 18   6 x 4 = 24   6 x 5 = 30   6 x 6 = 36   6 x 7 = 42   6 x 8 = 48   6 x 9 = 54   \n",
      "7 x 1 =  7   7 x 2 = 14   7 x 3 = 21   7 x 4 = 28   7 x 5 = 35   7 x 6 = 42   7 x 7 = 49   7 x 8 = 56   7 x 9 = 63   \n",
      "8 x 1 =  8   8 x 2 = 16   8 x 3 = 24   8 x 4 = 32   8 x 5 = 40   8 x 6 = 48   8 x 7 = 56   8 x 8 = 64   8 x 9 = 72   \n",
      "9 x 1 =  9   9 x 2 = 18   9 x 3 = 27   9 x 4 = 36   9 x 5 = 45   9 x 6 = 54   9 x 7 = 63   9 x 8 = 72   9 x 9 = 81   \n"
     ]
    }
   ],
   "source": [
    "for i in range (2,10,1):\n",
    "    for j in range(1,10):\n",
    "        print(f'{i} x {j} = {i*j:2d}',sep='|',end='   ')\n",
    "    print()"
   ]
  },
  {
   "cell_type": "code",
   "execution_count": 2,
   "metadata": {},
   "outputs": [
    {
     "name": "stdout",
     "output_type": "stream",
     "text": [
      "0 1 2 3 4 01234"
     ]
    }
   ],
   "source": [
    "for i in range (5):\n",
    "    print(i,end=' ')\n",
    "for i in range (5):\n",
    "    print(i,end='')"
   ]
  },
  {
   "cell_type": "code",
   "execution_count": 5,
   "metadata": {},
   "outputs": [
    {
     "name": "stdout",
     "output_type": "stream",
     "text": [
      "s=1 , i = 1\n",
      "1\n",
      "s=3 , i = 2\n",
      "3\n",
      "s=6 , i = 3\n",
      "6\n",
      "s=10 , i = 4\n",
      "10\n",
      "s=15 , i = 5\n",
      "15\n",
      "s=21 , i = 6\n",
      "21\n",
      "s=28 , i = 7\n",
      "28\n",
      "s=36 , i = 8\n",
      "36\n",
      "s=45 , i = 9\n",
      "45\n",
      "s=55 , i = 10\n",
      "55\n"
     ]
    }
   ],
   "source": [
    "s=0\n",
    "for i in range(1,11):\n",
    "    s+=i\n",
    "    print (f's={s} , i = {i}')\n",
    "    print(s)"
   ]
  },
  {
   "cell_type": "code",
   "execution_count": 8,
   "metadata": {},
   "outputs": [
    {
     "name": "stdout",
     "output_type": "stream",
     "text": [
      "4950\n"
     ]
    }
   ],
   "source": [
    "s= 0\n",
    "for i in range (1,100):\n",
    "    s+=i\n",
    "print(s)"
   ]
  },
  {
   "cell_type": "code",
   "execution_count": 12,
   "metadata": {},
   "outputs": [
    {
     "name": "stdout",
     "output_type": "stream",
     "text": [
      "2500\n",
      "2450\n"
     ]
    }
   ],
   "source": [
    "# 1~ 100 중 짝수의 합\n",
    "\n",
    "\n",
    "s_odd=0\n",
    "s_even=0\n",
    "\n",
    "for i in range (1,100):\n",
    "    if i % 2 == 1 :\n",
    "        s_odd+=i\n",
    "    elif i % 2 == 0 :\n",
    "        s_even+=i\n",
    "print(s_odd)\n",
    "print(s_even)\n"
   ]
  },
  {
   "cell_type": "code",
   "execution_count": 63,
   "metadata": {},
   "outputs": [
    {
     "name": "stdout",
     "output_type": "stream",
     "text": [
      "1번 반복\n",
      "********************\n",
      "++++++++++++++++++++\n",
      "--------------------\n",
      "2번 반복\n",
      "********************\n",
      "++++++++++++++++++++\n",
      "--------------------\n",
      "3번 반복\n",
      "********************\n",
      "++++++++++++++++++++\n",
      "--------------------\n",
      "\n",
      "구분선===\n",
      "\n",
      "++++++++++++++++++++\n",
      "--------------------\n",
      "********************\n"
     ]
    },
    {
     "data": {
      "text/plain": [
       "\"\\n원하는 결과 출력\\nprint('******************')\\nprint('------------------')\\nprint('++++++++++++++++++')\\nprint('******************')\\nprint('------------------')\\nprint('++++++++++++++++++')\\nprint('******************')\\nprint('------------------')\\nprint('++++++++++++++++++')\\n\""
      ]
     },
     "execution_count": 63,
     "metadata": {},
     "output_type": "execute_result"
    }
   ],
   "source": [
    "#내가 짠 코드 아래 모양과 같이 20개를 그리고(함수 이용), 3번 반복하기/\n",
    "\"\"\"def printStar(a):\n",
    "    print(a*20)\n",
    "\n",
    "for i in range (1,4):\n",
    "    printStar('*') \n",
    "    printStar('-')\n",
    "    printStar('+')\"\"\"\n",
    "\n",
    "#추가로 수정한 ver. :\n",
    "def printStar(a,b,c,range_num):\n",
    "    for i in range (1,range_num+1):\n",
    "        print(f'{i}번 반복')\n",
    "        print(a*20)\n",
    "        print(b*20)\n",
    "        print(c*20)\n",
    "        \n",
    "#최종 수정\n",
    "def printSymbol(symbol,number_count):\n",
    "    for i in range (number_count):\n",
    "        print(symbol,end='')\n",
    "    print()\n",
    "\n",
    "\"\"\"\n",
    "#수정 전 version\n",
    "def printstar2(a):\n",
    "    for i in range(20+1):\n",
    "        print(a,end='')\n",
    "    print() #20 개를 넣은 후 공백이니깐 return value가 없으므로, print 마무리됨.\n",
    "            #\\n을 넣으면 공백아 아니라, 줄바꿈이니깐 결과가 한 줄 띄워짐.\n",
    "\n",
    "#range 숫자를 매개변수로 치환하기\n",
    "def printstar3(b):\n",
    "    for i in range(b):\n",
    "        print('+',end='')\n",
    "    print() #20 개를 넣은 후 공백이니깐 return value가 없으므로, print 마무리됨.\n",
    "            #\\n을 넣으면 공백아 아니라, 줄바꿈이니깐 결과가 한 줄 띄워짐.\n",
    "\"\"\"\n",
    "#test 결과\n",
    "printStar('*','+','-',3)\n",
    "print()\n",
    "print('구분선===')\n",
    "print()\n",
    "\n",
    "printSymbol('+',20)\n",
    "printSymbol('-',20)\n",
    "printSymbol('*',20)\n",
    "\n",
    "\n",
    "\"\"\"\n",
    "원하는 결과 출력\n",
    "print('******************')\n",
    "print('------------------')\n",
    "print('++++++++++++++++++')\n",
    "print('******************')\n",
    "print('------------------')\n",
    "print('++++++++++++++++++')\n",
    "print('******************')\n",
    "print('------------------')\n",
    "print('++++++++++++++++++')\n",
    "\"\"\"\n"
   ]
  },
  {
   "cell_type": "code",
   "execution_count": 35,
   "metadata": {},
   "outputs": [
    {
     "name": "stdout",
     "output_type": "stream",
     "text": [
      "#\n",
      " #\n",
      "  #\n",
      "   #\n",
      "    #\n",
      "     #\n",
      "      #\n"
     ]
    }
   ],
   "source": [
    "\n",
    "for i in range(7):\n",
    "    st=''\n",
    "    for j in range (i):\n",
    "        st =st+' '\n",
    "    print(st + '#')"
   ]
  },
  {
   "cell_type": "code",
   "execution_count": 83,
   "metadata": {},
   "outputs": [
    {
     "name": "stdout",
     "output_type": "stream",
     "text": [
      "[2, 4, 6, 8, 10]\n"
     ]
    },
    {
     "data": {
      "text/plain": [
       "'z=0\\nfor i in range (1,10):\\n    if i % 2 == 0 :\\n        z+=i\\n        print(z)'"
      ]
     },
     "execution_count": 83,
     "metadata": {},
     "output_type": "execute_result"
    }
   ],
   "source": [
    "#even_list = [2,4,6,8,10]\n",
    "a=2,4,6,8,10\n",
    "even_list=list(a)\n",
    "print(even_list)\n",
    "\n",
    "\"\"\"z=0\n",
    "for i in range (1,10):\n",
    "    if i % 2 == 0 :\n",
    "        z+=i\n",
    "        print(z)\"\"\""
   ]
  },
  {
   "cell_type": "code",
   "execution_count": 97,
   "metadata": {},
   "outputs": [
    {
     "name": "stdout",
     "output_type": "stream",
     "text": [
      "1.count 1\n",
      "2.count 2\n",
      "3.count 2\n",
      "\n",
      "1.count 1\n",
      "2.count 2\n",
      "3.count 1\n"
     ]
    }
   ],
   "source": [
    "count = 1\n",
    "def addcount():\n",
    "    global count\n",
    "    count=2\n",
    "    print('2.count',count)\n",
    "\n",
    "print('1.count',count)\n",
    "addcount()\n",
    "print('3.count',count)\n",
    "print()\n",
    "\n",
    "# 위 아래 결과 다른 것 차이 확인하기\n",
    "count = 1\n",
    "def addcount():\n",
    "    #global count\n",
    "    count=2\n",
    "    print('2.count',count)\n",
    "\n",
    "print('1.count',count)\n",
    "addcount()\n",
    "print('3.count',count)\n"
   ]
  },
  {
   "cell_type": "code",
   "execution_count": 102,
   "metadata": {},
   "outputs": [
    {
     "name": "stdout",
     "output_type": "stream",
     "text": [
      "----------------printRecipt-----------\n",
      "totalPrice = 30500\n"
     ]
    }
   ],
   "source": [
    "totalPrice=0\n",
    "goodsCount=[5,2,10,3]\n",
    "\n",
    "def printReceeipt():\n",
    "    goods0Count=1000\n",
    "    goods1Count=500\n",
    "    goods2Count=2000\n",
    "    goods3Count=1500\n",
    "\n",
    "    global totalPrice\n",
    "\n",
    "    totalPrice += goods0Count * goodsCount[0]\n",
    "    totalPrice += goods1Count * goodsCount[1]\n",
    "    totalPrice += goods2Count * goodsCount[2]\n",
    "    totalPrice += goods3Count * goodsCount[3]\n",
    "\n",
    "    print('----------------printRecipt-----------')\n",
    "    print('totalPrice =',totalPrice)\n",
    "\n",
    "printReceeipt()"
   ]
  },
  {
   "cell_type": "code",
   "execution_count": 113,
   "metadata": {},
   "outputs": [
    {
     "name": "stdout",
     "output_type": "stream",
     "text": [
      "1 2 안녕\n",
      "<class 'str'>\n",
      "1 2 3\n",
      "<class 'int'>\n",
      "<class 'function'>\n"
     ]
    }
   ],
   "source": [
    "def a(n1,n2,n3):\n",
    "    print(n1,n2,n3)\n",
    "    print(type(n3))\n",
    "\n",
    "    \n",
    "a(1,2,'안녕')\n",
    "a(1,2,3)\n",
    "\n",
    "print(type(a))"
   ]
  },
  {
   "cell_type": "code",
   "execution_count": 106,
   "metadata": {},
   "outputs": [
    {
     "name": "stdout",
     "output_type": "stream",
     "text": [
      "<class 'tuple'>\n",
      "(10, 20, 30)\n",
      "max: 30\n",
      "<class 'tuple'>\n",
      "(10, 20, 30, 40)\n",
      "max: 40\n",
      "<class 'tuple'>\n",
      "(10, 20, 30, 50)\n",
      "max: 50\n",
      "<class 'tuple'>\n",
      "(10, 20, 30, 60)\n",
      "max: 60\n",
      "<class 'tuple'>\n",
      "(10, 20, 30, 70, 50, 40)\n",
      "max: 70\n"
     ]
    }
   ],
   "source": [
    "def findMax(*nums):\n",
    "    print(type(nums))\n",
    "    print(nums) \n",
    "    max = 0\n",
    "    for n in nums :\n",
    "        if n > max :\n",
    "            max = n\n",
    "    print('max:',max)\n",
    "\n",
    "findMax(10,20,30)\n",
    "findMax(10,20,30,40)\n",
    "findMax(10,20,30,50)\n",
    "findMax(10,20,30,60)\n",
    "findMax(10,20,30,70,50,40)\n",
    "\n",
    "# tuple argument가 변하면 안되므로, list는 값이 변하는 것\n",
    "\n"
   ]
  },
  {
   "cell_type": "code",
   "execution_count": 117,
   "metadata": {},
   "outputs": [
    {
     "name": "stdout",
     "output_type": "stream",
     "text": [
      "('안녕', '하세요', '반갑흡니다')\n",
      "<class 'function'>\n",
      "<class 'type'>\n"
     ]
    }
   ],
   "source": [
    "def printf(*str):\n",
    "    print(str)\n",
    "\n",
    "printf('안녕','하세요','반갑흡니다')\n",
    "print(type (printf))\n",
    "print(type (str))\n"
   ]
  },
  {
   "cell_type": "code",
   "execution_count": 122,
   "metadata": {},
   "outputs": [
    {
     "name": "stdout",
     "output_type": "stream",
     "text": [
      "안녕하세요 저는 박성래 이고, 서울은평구 살 이며, 사는 곳은 22 입니다.\n",
      "안녕하세요 저는 이지훈 이고, 43 살 이며, 사는 곳은 서울 동대문구 입니다.\n",
      "안녕하세요 저는 구성순 이고, 23 살 이며, 사는 곳은 서울시 입니다.\n",
      "\n",
      "안녕하세요 저는 박나래 이고, 20 살 이며, 사는 곳은 서울시 동작구 입니다.\n"
     ]
    }
   ],
   "source": [
    "def introduction(name, age, addr):\n",
    "    print('안녕하세요 저는',name,'이고,',age,'살 이며, 사는 곳은', addr, '입니다.')\n",
    "\n",
    "introduction ('박성래','서울은평구',22)\n",
    "introduction (name='이지훈',age=43, addr='서울 동대문구')\n",
    "introduction(name='구성순',addr='서울시',age=23)\n",
    "\n",
    "print()\n",
    "\n",
    "def introduction(name, age=20, addr='서울시 동작구'):\n",
    "    print('안녕하세요 저는',name,'이고,',age,'살 이며, 사는 곳은', addr, '입니다.')\n",
    "\n",
    "\n",
    "introduction('박나래')"
   ]
  },
  {
   "cell_type": "code",
   "execution_count": 3,
   "metadata": {},
   "outputs": [
    {
     "name": "stdout",
     "output_type": "stream",
     "text": [
      "3\n"
     ]
    }
   ],
   "source": [
    "def add (n1,n2,n3):\n",
    "    sum = n1 + n2 + n3\n",
    "    return n1+n2\n",
    "\n",
    "result = add (1,2,3)\n",
    "print(result)"
   ]
  },
  {
   "cell_type": "code",
   "execution_count": 11,
   "metadata": {},
   "outputs": [
    {
     "name": "stdout",
     "output_type": "stream",
     "text": [
      "30 -10 200 0.5\n",
      "None\n"
     ]
    }
   ],
   "source": [
    "def calculator (num1, num2) :\n",
    "    result1 = num1 + num2\n",
    "    result2 = num1 - num2\n",
    "    result3 = num1 * num2\n",
    "    result4 = num1 / num2\n",
    "\n",
    "    print(result1,result2,result3,result4)\n",
    "\n",
    "inputNumber1=int(input('정수 입력'))\n",
    "inputNumber2=int(input('정수 입력'))\n",
    "\n",
    "result = calculator(inputNumber1,inputNumber2)\n",
    "print(result)\n"
   ]
  },
  {
   "cell_type": "code",
   "execution_count": 6,
   "metadata": {},
   "outputs": [
    {
     "name": "stdout",
     "output_type": "stream",
     "text": [
      "(30, -10, 200, 0.5)\n"
     ]
    }
   ],
   "source": [
    "def calculator (num1, num2) :\n",
    "    result1 = num1 + num2\n",
    "    result2 = num1 - num2\n",
    "    result3 = num1 * num2\n",
    "    result4 = num1 / num2\n",
    "\n",
    "    return(result1,result2,result3,result4)\n",
    "\n",
    "inputNumber1=int(input('정수 입력'))\n",
    "inputNumber2=int(input('정수 입력'))\n",
    "\n",
    "result = calculator(inputNumber1,inputNumber2)\n",
    "print(result)\n"
   ]
  },
  {
   "cell_type": "code",
   "execution_count": 10,
   "metadata": {},
   "outputs": [
    {
     "name": "stdout",
     "output_type": "stream",
     "text": [
      "a\n",
      "a\n",
      "a\n"
     ]
    }
   ],
   "source": [
    "def star () :\n",
    "    print('a')\n",
    "    print('a')\n",
    "    print('a')\n",
    "    return\n",
    "    print('a')\n",
    "    print('a')\n",
    "    print('a')\n",
    "\n",
    "star()\n",
    "\n"
   ]
  },
  {
   "cell_type": "code",
   "execution_count": null,
   "metadata": {},
   "outputs": [],
   "source": []
  }
 ],
 "metadata": {
  "kernelspec": {
   "display_name": "Python 3",
   "language": "python",
   "name": "python3"
  },
  "language_info": {
   "codemirror_mode": {
    "name": "ipython",
    "version": 3
   },
   "file_extension": ".py",
   "mimetype": "text/x-python",
   "name": "python",
   "nbconvert_exporter": "python",
   "pygments_lexer": "ipython3",
   "version": "3.12.7"
  }
 },
 "nbformat": 4,
 "nbformat_minor": 2
}
