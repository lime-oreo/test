{
 "cells": [
  {
   "cell_type": "code",
   "execution_count": 19,
   "metadata": {},
   "outputs": [
    {
     "name": "stdout",
     "output_type": "stream",
     "text": [
      "\n",
      "===__init()__START()===\n"
     ]
    },
    {
     "ename": "TypeError",
     "evalue": "Calculator.add() missing 1 required positional argument: 'n2'",
     "output_type": "error",
     "traceback": [
      "\u001b[1;31m---------------------------------------------------------------------------\u001b[0m",
      "\u001b[1;31mTypeError\u001b[0m                                 Traceback (most recent call last)",
      "Cell \u001b[1;32mIn[19], line 25\u001b[0m\n\u001b[0;32m     21\u001b[0m         \u001b[38;5;28;01mreturn\u001b[39;00m \u001b[38;5;28mself\u001b[39m\u001b[38;5;241m.\u001b[39mnum1 \u001b[38;5;241m+\u001b[39m \u001b[38;5;28mself\u001b[39m\u001b[38;5;241m.\u001b[39mnum2\n\u001b[0;32m     23\u001b[0m calc \u001b[38;5;241m=\u001b[39m Calculator(\u001b[38;5;241m10\u001b[39m,\u001b[38;5;241m20\u001b[39m) \u001b[38;5;66;03m#변수선언 calc = calculator으로 선언 \u001b[39;00m\n\u001b[1;32m---> 25\u001b[0m \u001b[43mcalc\u001b[49m\u001b[38;5;241;43m.\u001b[39;49m\u001b[43madd\u001b[49m\u001b[43m(\u001b[49m\u001b[38;5;28;43;01mTrue\u001b[39;49;00m\u001b[43m)\u001b[49m\n",
      "\u001b[1;31mTypeError\u001b[0m: Calculator.add() missing 1 required positional argument: 'n2'"
     ]
    }
   ],
   "source": [
    "#class 선언 \n",
    "# #class에서 함수를 method라고 함.\n",
    "\n",
    "class Calculator : #클래스 선언\n",
    "    # num 1 = 0 파이썬이 자동으로 메모리에 클래스 속성을 생성해줌.\n",
    "    # num 2 = 0\n",
    "\n",
    "    def __init__(self,n1,n2) : #클래스 생성자 #클래스 선언시 self가 붙어야한다.\n",
    "        print('\\n===__init()__START()===')\n",
    "        self.num1 =n1 #self의 속성에 접근하기 위해서는 .을 넣어서 num1을 넣으면된다.\n",
    "        self.num2= n2\n",
    "\n",
    "    #def add(self) : #method 기능정의\n",
    "        #print('add')\n",
    "        #return self.num1+self.num2\n",
    "    \n",
    "    def add(self,isPrint = False):\n",
    "        if isPrint == True:\n",
    "            print('덧셈 연산 결과: ', self.num1 + self.num2)\n",
    "        isPrint = isPrint\n",
    "        return self.num1 + self.num2\n",
    "\n",
    "calc = Calculator(10,20) #변수선언 calc = calculator으로 선언 \n",
    "\n",
    "calc.add(True)"
   ]
  },
  {
   "cell_type": "code",
   "execution_count": 10,
   "metadata": {},
   "outputs": [],
   "source": [
    "class MyClass:\n",
    "    def __init__(self, name):\n",
    "        self.name = name\n",
    "        print(f\"{self.name} 객체가 생성되었습니다.\")\n",
    "\n",
    "    def __del__(self):\n",
    "        print(f\"{self.name} 객체가 소멸되었습니다.\")\n",
    "\n",
    "\"\"\"--------------\"\"\"\n",
    "obj = MyClass(\"Example\")\n",
    "del obj  # obj가 소멸될 때 __del__ 메서드가 호출됩니다."
   ]
  },
  {
   "cell_type": "code",
   "execution_count": null,
   "metadata": {},
   "outputs": [],
   "source": []
  }
 ],
 "metadata": {
  "kernelspec": {
   "display_name": "Python 3",
   "language": "python",
   "name": "python3"
  },
  "language_info": {
   "codemirror_mode": {
    "name": "ipython",
    "version": 3
   },
   "file_extension": ".py",
   "mimetype": "text/x-python",
   "name": "python",
   "nbconvert_exporter": "python",
   "pygments_lexer": "ipython3",
   "version": "3.12.7"
  }
 },
 "nbformat": 4,
 "nbformat_minor": 2
}
