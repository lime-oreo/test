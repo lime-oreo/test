{
 "cells": [
  {
   "cell_type": "code",
   "execution_count": 20,
   "metadata": {},
   "outputs": [
    {
     "name": "stdout",
     "output_type": "stream",
     "text": [
      "9\n"
     ]
    },
    {
     "data": {
      "text/plain": [
       "'print(calculator.divide(4,5))\\nprint(calculator.multiply(4,5))\\nprint(calculator.rest(4,5))\\nprint(calculator.substract(4,5))'"
      ]
     },
     "execution_count": 20,
     "metadata": {},
     "output_type": "execute_result"
    }
   ],
   "source": [
    "import calculator as cal # chapter12.calculator을 calcula\n",
    "\n",
    "\n",
    "print(cal.add(4,5))\n",
    "\"\"\"print(calculator.divide(4,5))\n",
    "print(calculator.multiply(4,5))\n",
    "print(calculator.rest(4,5))\n",
    "print(calculator.substract(4,5))\"\"\"\n",
    "\n",
    "\n",
    "#test"
   ]
  },
  {
   "cell_type": "code",
   "execution_count": 18,
   "metadata": {},
   "outputs": [
    {
     "ename": "ModuleNotFoundError",
     "evalue": "No module named 'cal'",
     "output_type": "error",
     "traceback": [
      "\u001b[1;31m---------------------------------------------------------------------------\u001b[0m",
      "\u001b[1;31mModuleNotFoundError\u001b[0m                       Traceback (most recent call last)",
      "Cell \u001b[1;32mIn[18], line 1\u001b[0m\n\u001b[1;32m----> 1\u001b[0m \u001b[38;5;28;01mimport\u001b[39;00m \u001b[38;5;21;01mcal\u001b[39;00m\n\u001b[0;32m      3\u001b[0m \u001b[38;5;28mprint\u001b[39m(cal\u001b[38;5;241m.\u001b[39madd(\u001b[38;5;241m4\u001b[39m,\u001b[38;5;241m5\u001b[39m))\n\u001b[0;32m      4\u001b[0m \u001b[38;5;124;03m\"\"\"print(calculator.divide(4,5))\u001b[39;00m\n\u001b[0;32m      5\u001b[0m \u001b[38;5;124;03mprint(calculator.multiply(4,5))\u001b[39;00m\n\u001b[0;32m      6\u001b[0m \u001b[38;5;124;03mprint(calculator.rest(4,5))\u001b[39;00m\n\u001b[0;32m      7\u001b[0m \u001b[38;5;124;03mprint(calculator.substract(4,5))\"\"\"\u001b[39;00m\n",
      "\u001b[1;31mModuleNotFoundError\u001b[0m: No module named 'cal'"
     ]
    }
   ],
   "source": [
    "import calculator\n",
    "\n",
    "print(calculator.add(4,5))\n",
    "print(calculator.divide(4,5))\n",
    "print(calculator.multiply(4,5))\n",
    "print(calculator.rest(4,5))\n",
    "print(calculator.substract(4,5))\n"
   ]
  },
  {
   "cell_type": "code",
   "execution_count": 2,
   "metadata": {},
   "outputs": [
    {
     "data": {
      "text/plain": [
       "3"
      ]
     },
     "execution_count": 2,
     "metadata": {},
     "output_type": "execute_result"
    }
   ],
   "source": [
    "import calculator as cal\n",
    "\n",
    "cal.add(1,2)"
   ]
  },
  {
   "cell_type": "code",
   "execution_count": 3,
   "metadata": {},
   "outputs": [
    {
     "data": {
      "text/plain": [
       "'k'"
      ]
     },
     "execution_count": 3,
     "metadata": {},
     "output_type": "execute_result"
    }
   ],
   "source": [
    "import random\n",
    "\n",
    "random.choice('helloworkd')"
   ]
  },
  {
   "cell_type": "code",
   "execution_count": null,
   "metadata": {},
   "outputs": [],
   "source": []
  }
 ],
 "metadata": {
  "kernelspec": {
   "display_name": "Python 3",
   "language": "python",
   "name": "python3"
  },
  "language_info": {
   "codemirror_mode": {
    "name": "ipython",
    "version": 3
   },
   "file_extension": ".py",
   "mimetype": "text/x-python",
   "name": "python",
   "nbconvert_exporter": "python",
   "pygments_lexer": "ipython3",
   "version": "3.12.7"
  }
 },
 "nbformat": 4,
 "nbformat_minor": 2
}
