{
 "cells": [
  {
   "cell_type": "code",
   "execution_count": 10,
   "metadata": {},
   "outputs": [
    {
     "name": "stdout",
     "output_type": "stream",
     "text": [
      "scpufreq(current=1800.0, min=0.0, max=1800.0)\n",
      "10\n",
      "svmem(total=16847933440, available=3196207104, percent=81.0, used=13651726336, free=3196207104)\n",
      "[sdiskpart(device='C:\\\\', mountpoint='C:\\\\', fstype='NTFS', opts='rw,fixed')]\n",
      "snetio(bytes_sent=3094901348, bytes_recv=8392640048, packets_sent=1564445, packets_recv=3785538, errin=0, errout=20, dropin=0, dropout=0)\n"
     ]
    }
   ],
   "source": [
    "import psutil \n",
    "#cpu 속도 출력 \n",
    "cpu= psutil.cpu_freq()\n",
    "print(cpu)\n",
    "# cpu 물리 코어 수 \n",
    "cpu_core=psutil.cpu_count(logical=False)\n",
    "print(cpu_core)\n",
    "# 메모리 정보 출력\n",
    "memory = psutil.virtual_memory()\n",
    "print(memory)\n",
    "# 디스크 정보 출력\n",
    "disk = psutil.disk_partitions()\n",
    "print(disk)\n",
    "#네트워크 통해 보내고 받은 데이터량 출력\n",
    "net = psutil.net_io_counters()\n",
    "print(net)\n"
   ]
  },
  {
   "cell_type": "code",
   "execution_count": 23,
   "metadata": {},
   "outputs": [
    {
     "name": "stdout",
     "output_type": "stream",
     "text": [
      "cpu속도:1.8\n",
      "코어:10개\n",
      "메모리 총량:16Gb\n",
      "\n",
      "C:\\ // NTFS/디스크크기:458GB\n",
      "[sdiskpart(device='C:\\\\', mountpoint='C:\\\\', fstype='NTFS', opts='rw,fixed')]\n",
      "snetio(bytes_sent=3120763383, bytes_recv=8466298982, packets_sent=1577683, packets_recv=3845630, errin=0, errout=20, dropin=0, dropout=0)\n",
      "2976.2\n",
      "8074.1\n"
     ]
    }
   ],
   "source": [
    "import psutil \n",
    "#cpu 속도 출력 \n",
    "cpu= psutil.cpu_freq()\n",
    "cpu_current_ghz= round(cpu.current/1000,2)\n",
    "#print(cpu)\n",
    "print(f'cpu속도:{cpu_current_ghz}')\n",
    "# cpu 물리 코어 수 \n",
    "cpu_core=psutil.cpu_count(logical=False)\n",
    "#print(cpu_core)\n",
    "print(f'코어:{cpu_core}개')\n",
    "\n",
    "# 메모리 정보 출력\n",
    "memory = psutil.virtual_memory()\n",
    "memory_total=round(memory.total/1024**3)\n",
    "#print(memory)\n",
    "print(f'메모리 총량:{memory_total}Gb')\n",
    "print()\n",
    "# 디스크 정보 출력\n",
    "disk = psutil.disk_partitions()\n",
    "for i in disk:\n",
    "    print(i.mountpoint,i.fstype,sep=' // ',end='/')\n",
    "    du=psutil.disk_usage(i.mountpoint)\n",
    "    disk_total= round(du.total / 1024**3)\n",
    "    print(f'디스크크기:{disk_total}GB')\n",
    "print(disk)\n",
    "#네트워크 통해 보내고 받은 데이터량 출력\n",
    "net = psutil.net_io_counters()\n",
    "sent=round(net.bytes_sent/1024**2,1)\n",
    "recv=round(net.bytes_recv/1024**2,1)\n",
    "print(net)\n",
    "print(sent)\n",
    "print(recv)\n"
   ]
  },
  {
   "cell_type": "code",
   "execution_count": 29,
   "metadata": {},
   "outputs": [
    {
     "name": "stdout",
     "output_type": "stream",
     "text": [
      "{'SIT', 'RON', 'CNY', 'ILS', 'SGD', 'THB', 'HUF', 'CAD', 'HRK', 'MYR', 'LVL', 'CZK', 'ISK', 'NZD', 'EEK', 'SKK', 'CYP', 'MTL', 'BRL', 'ZAR', 'CHF', 'ROL', 'JPY', 'IDR', 'BGN', 'AUD', 'HKD', 'NOK', 'MXN', 'DKK', 'KRW', 'EUR', 'SEK', 'TRY', 'INR', 'PHP', 'TRL', 'USD', 'LTL', 'GBP', 'PLN', 'RUB'}\n"
     ]
    }
   ],
   "source": [
    "from  currency_converter import CurrencyConverter\n",
    "\n",
    "cc = CurrencyConverter()\n",
    "print(cc.currencies)"
   ]
  },
  {
   "cell_type": "code",
   "execution_count": 35,
   "metadata": {},
   "outputs": [
    {
     "name": "stdout",
     "output_type": "stream",
     "text": [
      "환율 계산 1 USD = 1400.5431157694138 KRW\n"
     ]
    }
   ],
   "source": [
    "from currency_converter import CurrencyConverter\n",
    "\n",
    "cc= CurrencyConverter('http://www.ecb.europa.eu/stats/eurofxref/eurofxref.zip')\n",
    "amount = 1\n",
    "convert_currency= 'USD'\n",
    "final_currency = 'KRW'\n",
    "krw_conveert=cc.convert(amount,convert_currency,final_currency)\n",
    "print(f'환율 계산 {amount} {convert_currency} = {krw_conveert} {final_currency}')"
   ]
  },
  {
   "cell_type": "code",
   "execution_count": null,
   "metadata": {},
   "outputs": [
    {
     "ename": "HTTPError",
     "evalue": "HTTP Error 403: Forbidden",
     "output_type": "error",
     "traceback": [
      "\u001b[1;31m---------------------------------------------------------------------------\u001b[0m",
      "\u001b[1;31mHTTPError\u001b[0m                                 Traceback (most recent call last)",
      "Cell \u001b[1;32mIn[8], line 3\u001b[0m\n\u001b[0;32m      1\u001b[0m \u001b[38;5;28;01mfrom\u001b[39;00m \u001b[38;5;21;01mcurrency_converter\u001b[39;00m \u001b[38;5;28;01mimport\u001b[39;00m CurrencyConverter\n\u001b[1;32m----> 3\u001b[0m cc\u001b[38;5;241m=\u001b[39m \u001b[43mCurrencyConverter\u001b[49m\u001b[43m(\u001b[49m\u001b[38;5;124;43m'\u001b[39;49m\u001b[38;5;124;43mhttps://kr.investing.com/\u001b[39;49m\u001b[38;5;124;43m'\u001b[39;49m\u001b[43m)\u001b[49m\n\u001b[0;32m      4\u001b[0m amount \u001b[38;5;241m=\u001b[39m \u001b[38;5;28mint\u001b[39m(\u001b[38;5;28minput\u001b[39m(\u001b[38;5;124m'\u001b[39m\u001b[38;5;124mamount 입력\u001b[39m\u001b[38;5;124m'\u001b[39m))\n\u001b[0;32m      5\u001b[0m convert_currency \u001b[38;5;241m=\u001b[39m \u001b[38;5;28minput\u001b[39m(\u001b[38;5;124m'\u001b[39m\u001b[38;5;124m확인 하고자 하는 currency\u001b[39m\u001b[38;5;124m'\u001b[39m)\n",
      "File \u001b[1;32mc:\\Users\\user\\anaconda3\\Lib\\site-packages\\currency_converter\\currency_converter.py:144\u001b[0m, in \u001b[0;36mCurrencyConverter.__init__\u001b[1;34m(self, currency_file, fallback_on_wrong_date, fallback_on_missing_rate, fallback_on_missing_rate_method, ref_currency, na_values, decimal, verbose)\u001b[0m\n\u001b[0;32m    141\u001b[0m \u001b[38;5;28mself\u001b[39m\u001b[38;5;241m.\u001b[39mcurrencies \u001b[38;5;241m=\u001b[39m \u001b[38;5;28;01mNone\u001b[39;00m\n\u001b[0;32m    143\u001b[0m \u001b[38;5;28;01mif\u001b[39;00m currency_file \u001b[38;5;129;01mis\u001b[39;00m \u001b[38;5;129;01mnot\u001b[39;00m \u001b[38;5;28;01mNone\u001b[39;00m:\n\u001b[1;32m--> 144\u001b[0m     \u001b[38;5;28;43mself\u001b[39;49m\u001b[38;5;241;43m.\u001b[39;49m\u001b[43mload_file\u001b[49m\u001b[43m(\u001b[49m\u001b[43mcurrency_file\u001b[49m\u001b[43m)\u001b[49m\n",
      "File \u001b[1;32mc:\\Users\\user\\anaconda3\\Lib\\site-packages\\currency_converter\\currency_converter.py:149\u001b[0m, in \u001b[0;36mCurrencyConverter.load_file\u001b[1;34m(self, currency_file)\u001b[0m\n\u001b[0;32m    147\u001b[0m \u001b[38;5;250m\u001b[39m\u001b[38;5;124;03m\"\"\"To be subclassed if alternate methods of loading data.\"\"\"\u001b[39;00m\n\u001b[0;32m    148\u001b[0m \u001b[38;5;28;01mif\u001b[39;00m currency_file\u001b[38;5;241m.\u001b[39mstartswith((\u001b[38;5;124m\"\u001b[39m\u001b[38;5;124mhttp://\u001b[39m\u001b[38;5;124m\"\u001b[39m, \u001b[38;5;124m\"\u001b[39m\u001b[38;5;124mhttps://\u001b[39m\u001b[38;5;124m\"\u001b[39m)):\n\u001b[1;32m--> 149\u001b[0m     content \u001b[38;5;241m=\u001b[39m \u001b[43murlopen\u001b[49m\u001b[43m(\u001b[49m\u001b[43mcurrency_file\u001b[49m\u001b[43m)\u001b[49m\u001b[38;5;241m.\u001b[39mread()\n\u001b[0;32m    150\u001b[0m \u001b[38;5;28;01melse\u001b[39;00m:\n\u001b[0;32m    151\u001b[0m     \u001b[38;5;28;01mwith\u001b[39;00m \u001b[38;5;28mopen\u001b[39m(currency_file, \u001b[38;5;124m\"\u001b[39m\u001b[38;5;124mrb\u001b[39m\u001b[38;5;124m\"\u001b[39m) \u001b[38;5;28;01mas\u001b[39;00m f:\n",
      "File \u001b[1;32mc:\\Users\\user\\anaconda3\\Lib\\urllib\\request.py:215\u001b[0m, in \u001b[0;36murlopen\u001b[1;34m(url, data, timeout, cafile, capath, cadefault, context)\u001b[0m\n\u001b[0;32m    213\u001b[0m \u001b[38;5;28;01melse\u001b[39;00m:\n\u001b[0;32m    214\u001b[0m     opener \u001b[38;5;241m=\u001b[39m _opener\n\u001b[1;32m--> 215\u001b[0m \u001b[38;5;28;01mreturn\u001b[39;00m \u001b[43mopener\u001b[49m\u001b[38;5;241;43m.\u001b[39;49m\u001b[43mopen\u001b[49m\u001b[43m(\u001b[49m\u001b[43murl\u001b[49m\u001b[43m,\u001b[49m\u001b[43m \u001b[49m\u001b[43mdata\u001b[49m\u001b[43m,\u001b[49m\u001b[43m \u001b[49m\u001b[43mtimeout\u001b[49m\u001b[43m)\u001b[49m\n",
      "File \u001b[1;32mc:\\Users\\user\\anaconda3\\Lib\\urllib\\request.py:521\u001b[0m, in \u001b[0;36mOpenerDirector.open\u001b[1;34m(self, fullurl, data, timeout)\u001b[0m\n\u001b[0;32m    519\u001b[0m \u001b[38;5;28;01mfor\u001b[39;00m processor \u001b[38;5;129;01min\u001b[39;00m \u001b[38;5;28mself\u001b[39m\u001b[38;5;241m.\u001b[39mprocess_response\u001b[38;5;241m.\u001b[39mget(protocol, []):\n\u001b[0;32m    520\u001b[0m     meth \u001b[38;5;241m=\u001b[39m \u001b[38;5;28mgetattr\u001b[39m(processor, meth_name)\n\u001b[1;32m--> 521\u001b[0m     response \u001b[38;5;241m=\u001b[39m \u001b[43mmeth\u001b[49m\u001b[43m(\u001b[49m\u001b[43mreq\u001b[49m\u001b[43m,\u001b[49m\u001b[43m \u001b[49m\u001b[43mresponse\u001b[49m\u001b[43m)\u001b[49m\n\u001b[0;32m    523\u001b[0m \u001b[38;5;28;01mreturn\u001b[39;00m response\n",
      "File \u001b[1;32mc:\\Users\\user\\anaconda3\\Lib\\urllib\\request.py:630\u001b[0m, in \u001b[0;36mHTTPErrorProcessor.http_response\u001b[1;34m(self, request, response)\u001b[0m\n\u001b[0;32m    627\u001b[0m \u001b[38;5;66;03m# According to RFC 2616, \"2xx\" code indicates that the client's\u001b[39;00m\n\u001b[0;32m    628\u001b[0m \u001b[38;5;66;03m# request was successfully received, understood, and accepted.\u001b[39;00m\n\u001b[0;32m    629\u001b[0m \u001b[38;5;28;01mif\u001b[39;00m \u001b[38;5;129;01mnot\u001b[39;00m (\u001b[38;5;241m200\u001b[39m \u001b[38;5;241m<\u001b[39m\u001b[38;5;241m=\u001b[39m code \u001b[38;5;241m<\u001b[39m \u001b[38;5;241m300\u001b[39m):\n\u001b[1;32m--> 630\u001b[0m     response \u001b[38;5;241m=\u001b[39m \u001b[38;5;28;43mself\u001b[39;49m\u001b[38;5;241;43m.\u001b[39;49m\u001b[43mparent\u001b[49m\u001b[38;5;241;43m.\u001b[39;49m\u001b[43merror\u001b[49m\u001b[43m(\u001b[49m\n\u001b[0;32m    631\u001b[0m \u001b[43m        \u001b[49m\u001b[38;5;124;43m'\u001b[39;49m\u001b[38;5;124;43mhttp\u001b[39;49m\u001b[38;5;124;43m'\u001b[39;49m\u001b[43m,\u001b[49m\u001b[43m \u001b[49m\u001b[43mrequest\u001b[49m\u001b[43m,\u001b[49m\u001b[43m \u001b[49m\u001b[43mresponse\u001b[49m\u001b[43m,\u001b[49m\u001b[43m \u001b[49m\u001b[43mcode\u001b[49m\u001b[43m,\u001b[49m\u001b[43m \u001b[49m\u001b[43mmsg\u001b[49m\u001b[43m,\u001b[49m\u001b[43m \u001b[49m\u001b[43mhdrs\u001b[49m\u001b[43m)\u001b[49m\n\u001b[0;32m    633\u001b[0m \u001b[38;5;28;01mreturn\u001b[39;00m response\n",
      "File \u001b[1;32mc:\\Users\\user\\anaconda3\\Lib\\urllib\\request.py:559\u001b[0m, in \u001b[0;36mOpenerDirector.error\u001b[1;34m(self, proto, *args)\u001b[0m\n\u001b[0;32m    557\u001b[0m \u001b[38;5;28;01mif\u001b[39;00m http_err:\n\u001b[0;32m    558\u001b[0m     args \u001b[38;5;241m=\u001b[39m (\u001b[38;5;28mdict\u001b[39m, \u001b[38;5;124m'\u001b[39m\u001b[38;5;124mdefault\u001b[39m\u001b[38;5;124m'\u001b[39m, \u001b[38;5;124m'\u001b[39m\u001b[38;5;124mhttp_error_default\u001b[39m\u001b[38;5;124m'\u001b[39m) \u001b[38;5;241m+\u001b[39m orig_args\n\u001b[1;32m--> 559\u001b[0m     \u001b[38;5;28;01mreturn\u001b[39;00m \u001b[38;5;28;43mself\u001b[39;49m\u001b[38;5;241;43m.\u001b[39;49m\u001b[43m_call_chain\u001b[49m\u001b[43m(\u001b[49m\u001b[38;5;241;43m*\u001b[39;49m\u001b[43margs\u001b[49m\u001b[43m)\u001b[49m\n",
      "File \u001b[1;32mc:\\Users\\user\\anaconda3\\Lib\\urllib\\request.py:492\u001b[0m, in \u001b[0;36mOpenerDirector._call_chain\u001b[1;34m(self, chain, kind, meth_name, *args)\u001b[0m\n\u001b[0;32m    490\u001b[0m \u001b[38;5;28;01mfor\u001b[39;00m handler \u001b[38;5;129;01min\u001b[39;00m handlers:\n\u001b[0;32m    491\u001b[0m     func \u001b[38;5;241m=\u001b[39m \u001b[38;5;28mgetattr\u001b[39m(handler, meth_name)\n\u001b[1;32m--> 492\u001b[0m     result \u001b[38;5;241m=\u001b[39m \u001b[43mfunc\u001b[49m\u001b[43m(\u001b[49m\u001b[38;5;241;43m*\u001b[39;49m\u001b[43margs\u001b[49m\u001b[43m)\u001b[49m\n\u001b[0;32m    493\u001b[0m     \u001b[38;5;28;01mif\u001b[39;00m result \u001b[38;5;129;01mis\u001b[39;00m \u001b[38;5;129;01mnot\u001b[39;00m \u001b[38;5;28;01mNone\u001b[39;00m:\n\u001b[0;32m    494\u001b[0m         \u001b[38;5;28;01mreturn\u001b[39;00m result\n",
      "File \u001b[1;32mc:\\Users\\user\\anaconda3\\Lib\\urllib\\request.py:639\u001b[0m, in \u001b[0;36mHTTPDefaultErrorHandler.http_error_default\u001b[1;34m(self, req, fp, code, msg, hdrs)\u001b[0m\n\u001b[0;32m    638\u001b[0m \u001b[38;5;28;01mdef\u001b[39;00m \u001b[38;5;21mhttp_error_default\u001b[39m(\u001b[38;5;28mself\u001b[39m, req, fp, code, msg, hdrs):\n\u001b[1;32m--> 639\u001b[0m     \u001b[38;5;28;01mraise\u001b[39;00m HTTPError(req\u001b[38;5;241m.\u001b[39mfull_url, code, msg, hdrs, fp)\n",
      "\u001b[1;31mHTTPError\u001b[0m: HTTP Error 403: Forbidden"
     ]
    }
   ],
   "source": [
    "from currency_converter import CurrencyConverter\n",
    "\n",
    "cc= CurrencyConverter('http://www.ecb.europa.eu/stats/eurofxref/eurofxref.zip')\n",
    "amount = int(input('amount 입력'))\n",
    "convert_currency = input('확인 하고자 하는 currency')\n",
    "final_currency = input ('환율 확인하고자 하는 curreyncy')\n",
    "#amount = 1\n",
    "#convert_currency= 'USD'\n",
    "#final_currency = 'KRW'\n",
    "krw_conveert=cc.convert(amount,convert_currency,final_currency)\n",
    "krw_round=round(krw_conveert,3)\n",
    "print(f'환율 계산 {amount} {convert_currency} = {krw_round} {final_currency}')"
   ]
  },
  {
   "cell_type": "code",
   "execution_count": 7,
   "metadata": {},
   "outputs": [
    {
     "name": "stdout",
     "output_type": "stream",
     "text": [
      "{'THB', 'USD', 'ZAR', 'CNY', 'PLN', 'AUD', 'KRW', 'PHP', 'DKK', 'NZD', 'CAD', 'IDR', 'RON', 'CHF', 'MYR', 'CZK', 'SEK', 'MXN', 'BGN', 'NOK', 'SGD', 'ISK', 'ILS', 'EUR', 'HUF', 'JPY', 'HKD', 'GBP', 'INR', 'TRY', 'BRL'}\n"
     ]
    }
   ],
   "source": [
    "print(cc.currencies)"
   ]
  },
  {
   "cell_type": "code",
   "execution_count": null,
   "metadata": {},
   "outputs": [],
   "source": []
  }
 ],
 "metadata": {
  "kernelspec": {
   "display_name": "base",
   "language": "python",
   "name": "python3"
  },
  "language_info": {
   "codemirror_mode": {
    "name": "ipython",
    "version": 3
   },
   "file_extension": ".py",
   "mimetype": "text/x-python",
   "name": "python",
   "nbconvert_exporter": "python",
   "pygments_lexer": "ipython3",
   "version": "3.12.7"
  }
 },
 "nbformat": 4,
 "nbformat_minor": 2
}
