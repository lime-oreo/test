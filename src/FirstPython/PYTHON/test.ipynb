{
 "cells": [
  {
   "cell_type": "code",
   "execution_count": null,
   "metadata": {},
   "outputs": [],
   "source": [
    "shared_data=['hello, my name']\n",
    "\n",
    "class ModuleA:\n",
    "    def add_data(self, data):\n",
    "        global shared_data\n",
    "        shared_data.append(data)\n",
    "\n",
    "class ModuleB:\n",
    "    def print_data(self):\n",
    "        global shared_data\n",
    "        print(shared_data)\n",
    "\n",
    "module_a=ModuleA()\n",
    "module_a.add_data(data=\"Hello\")\n",
    "\n",
    "module_b=ModuleB()\n",
    "module_b.print_data()"
   ]
  },
  {
   "cell_type": "code",
   "execution_count": null,
   "metadata": {},
   "outputs": [],
   "source": [
    "class DataBase:\n",
    "    def __init__ (self):\n",
    "        self._connection = \"DB connection\"\n",
    "\n",
    "class UserManager:\n",
    "    def __init__(self, db):\n",
    "        self.db=db\n",
    "    \n",
    "    def manipulate_db(self):\n",
    "        self.db._connection = \"Hacked connection\"\n",
    "\n",
    "db= DataBase()\n",
    "print(db._connection)\n",
    "\n",
    "manager = UserManager(db)\n",
    "print(manager.db._connection)\n",
    "\n",
    "manager.manipulate_db()\n",
    "print(manager.db._connection)\n",
    "print(db._connection)\n"
   ]
  },
  {
   "cell_type": "code",
   "execution_count": null,
   "metadata": {},
   "outputs": [],
   "source": [
    "class DataBase:\n",
    "    def __init__ (self):\n",
    "        self.__connection = \"DB connection\"\n",
    "\n",
    "    def get_connection(self):\n",
    "        return self.__connection\n",
    "\n",
    "    def set_connection(self,new_connection):\n",
    "        if new_connection == \"new connection\":\n",
    "             self.__connection = new_connection\n",
    "        else:\n",
    "            print(\"Invalid\")\n",
    "\n",
    "    \n",
    "class UserManager:\n",
    "    def __init__(self, db):\n",
    "        self.db=db\n",
    "    \n",
    "    def manipulate_db(self):\n",
    "        self.db.__connection = \"Hacked connection\"\n",
    "\n",
    "\n",
    "db= DataBase()\n",
    "#print(db._connection)\n",
    "print(db.get_connection())\n",
    "print(db.set_connection(\"new connection\"))\n",
    "\n",
    "\n",
    "manager = UserManager(db)\n",
    "print(manager.db.get_connection())\n",
    "\n",
    "manager.manipulate_db()\n",
    "print(manager.db.get_connection())\n",
    "print(db.get_connection())\n",
    "\n",
    "\n"
   ]
  },
  {
   "cell_type": "code",
   "execution_count": null,
   "metadata": {},
   "outputs": [],
   "source": [
    "class Example:\n",
    "    def __init__(self, value):\n",
    "        self.value = value\n",
    "\n",
    "    def show_value(self):\n",
    "        return self.value\n",
    "\n",
    "obj = Example(10)\n",
    "method = obj.show_value\n",
    "print(method())  # 10 출력\n"
   ]
  },
  {
   "cell_type": "code",
   "execution_count": null,
   "metadata": {},
   "outputs": [],
   "source": [
    "class Person:\n",
    "    def __init__(self, name, age):\n",
    "        self.name = name\n",
    "        self.age = age\n",
    "\n",
    "# 인스턴스 생성\n",
    "person1 = Person(\"Alice\", 30)\n",
    "\n",
    "# 속성 값 출력\n",
    "print(person1.name)  # 출력: Alice\n",
    "print(person1.age)   # 출력: 30\n"
   ]
  },
  {
   "cell_type": "code",
   "execution_count": null,
   "metadata": {},
   "outputs": [],
   "source": [
    "class Person:\n",
    "    def __init__(self, name, age):\n",
    "        self.name = name\n",
    "        self.age = age\n",
    "    \n",
    "    def greet(self):\n",
    "        return f\"Hello, my name is {self.name} and I am {self.age} years old.\"\n",
    "\n",
    "# 인스턴스 생성\n",
    "person1 = Person(\"Alice\", 30)\n",
    "\n",
    "# 바운드 메서드 출력\n",
    "print(person1.greet)  # 바운드 메서드 객체 출력\n",
    "print(person1.greet())  # 메서드 호출 후 결과 출력\n"
   ]
  },
  {
   "cell_type": "code",
   "execution_count": null,
   "metadata": {},
   "outputs": [],
   "source": [
    "class Student:\n",
    "    def __init__(self,name):\n",
    "        self.name=name\n",
    "        self.professor=None\n",
    "\n",
    "class Professor :\n",
    "    def __init__(self,name):\n",
    "        self.name=name\n",
    "        self.student = None\n",
    "\n",
    "    def assign_student(self,student):\n",
    "        self.student = student\n",
    "        student.professor = self\n",
    "\n",
    "\n",
    "student = Student(\"Alice\") #student 객체생성\n",
    "print(student.professor)\n",
    "print(student.name)\n",
    "print('--------------------------')\n",
    "professor = Professor(\"Dr.Smith\")\n",
    "print(professor.name)\n",
    "print(professor.student)\n",
    "print('--------------------------')\n",
    "professor.assign_student(student)\n",
    "print('--------------------------')\n",
    "print(student.professor.name) #<__main__.Professor object at 0x000001A59F9B2510>\n",
    "print(student.name) #Alice\n",
    "print('--------------------------')\n",
    "print(professor.name) #Dr.Smith\n",
    "print(professor.student) #<__main__.Student object at 0x000001A59F9B2CC0>\n",
    "\n",
    "print('-------------------------')\n",
    "\n",
    "\n",
    "#왜 student.professor에 assign_student을 하면 결과값 출력이 아니라 <__main__.Professor object at 0x000001A59F9B2510>으로 뜨는 거야?"
   ]
  },
  {
   "cell_type": "code",
   "execution_count": null,
   "metadata": {},
   "outputs": [],
   "source": [
    "id(professor.student)"
   ]
  },
  {
   "cell_type": "code",
   "execution_count": null,
   "metadata": {},
   "outputs": [],
   "source": [
    "\"\"\"\n",
    "professor = Professor(\"Dr.Smith\")\n",
    "\n",
    "\n",
    "professor.assign_student(student)\n",
    "\n",
    "print(f'{student.name}\\'s professor is {student.professor.name}.')\n",
    "print(f'{professor.name}\\'s student is {professor.student.name}.')\n",
    "\"\"\""
   ]
  },
  {
   "cell_type": "code",
   "execution_count": null,
   "metadata": {},
   "outputs": [],
   "source": [
    "raise Exception('예외 발생')"
   ]
  },
  {
   "cell_type": "code",
   "execution_count": null,
   "metadata": {},
   "outputs": [],
   "source": [
    "def get_ans(ans):\n",
    "    if ans in ['yes','no']:\n",
    "        print ('정상적인 입력입니다.')\n",
    "        if ans =='yes':\n",
    "            return (ans)\n",
    "        else :\n",
    "            return (ans)\n",
    "    else:\n",
    "        raise NotImplementedError"
   ]
  },
  {
   "cell_type": "code",
   "execution_count": null,
   "metadata": {},
   "outputs": [],
   "source": [
    "user_input='예'\n",
    "print(get_ans(user_input))\n"
   ]
  },
  {
   "cell_type": "code",
   "execution_count": null,
   "metadata": {},
   "outputs": [],
   "source": [
    "while True:\n",
    "    try :\n",
    "        ans = input('yes/no 중 하나 입력:>')\n",
    "        get_ans(ans)\n",
    "        break\n",
    "    except Exception as e:\n",
    "        print('error:',e)    "
   ]
  },
  {
   "cell_type": "code",
   "execution_count": null,
   "metadata": {},
   "outputs": [],
   "source": [
    "f= open('hello.txt','w')\n",
    "f.write('Hello world!')\n",
    "f.close()"
   ]
  },
  {
   "cell_type": "code",
   "execution_count": null,
   "metadata": {},
   "outputs": [],
   "source": [
    "f=open('hello.txt','r')\n",
    "f.read()"
   ]
  },
  {
   "cell_type": "code",
   "execution_count": null,
   "metadata": {},
   "outputs": [],
   "source": [
    "f.close()"
   ]
  },
  {
   "cell_type": "code",
   "execution_count": null,
   "metadata": {},
   "outputs": [],
   "source": [
    "f= open('hello.txt','w')\n",
    "for _ in range(5):\n",
    "    n = input('정수:>')\n",
    "    f.write(n)\n",
    "    f.write('\\n')\n",
    "f.close()\n",
    "\n",
    "\n",
    "\n"
   ]
  },
  {
   "cell_type": "code",
   "execution_count": null,
   "metadata": {},
   "outputs": [],
   "source": [
    "with open ('hello.txt','w') as f :\n",
    "    f.write('hello world~')"
   ]
  },
  {
   "cell_type": "code",
   "execution_count": null,
   "metadata": {},
   "outputs": [],
   "source": [
    "import urllib.request\n",
    "with urllib.request.urlopen('https://python.org/') as r:\n",
    "    html = r.read()\n",
    "    print(html)"
   ]
  },
  {
   "cell_type": "code",
   "execution_count": null,
   "metadata": {},
   "outputs": [],
   "source": [
    "class Cat:\n",
    "    def __init__(self, name, color):\n",
    "        self.name= name\n",
    "        self.color= color\n",
    "\n",
    "    def meow (self):\n",
    "        print(f'내 이름은 {self.name}, 색깔은 {self.color}')\n",
    "\n",
    "nabi=Cat(\"nabi\",\"black\")\n",
    "nabi.meow()"
   ]
  },
  {
   "cell_type": "code",
   "execution_count": null,
   "metadata": {},
   "outputs": [],
   "source": []
  },
  {
   "cell_type": "code",
   "execution_count": null,
   "metadata": {},
   "outputs": [],
   "source": [
    "class Cat:\n",
    "    def __init__(self, name, color):\n",
    "        self.name= name\n",
    "        self.color= color\n",
    "\n",
    "    def meow (self):\n",
    "        print(f'내 이름은 {self.name}, 색깔은 {self.color}')\n",
    "\n",
    "nabi=Cat(\"nabi\",\"black\")\n",
    "nabi.meow()"
   ]
  },
  {
   "cell_type": "code",
   "execution_count": null,
   "metadata": {},
   "outputs": [],
   "source": []
  },
  {
   "cell_type": "code",
   "execution_count": null,
   "metadata": {},
   "outputs": [],
   "source": [
    "class Cat:\n",
    "    def __init__(self, name, color):\n",
    "        self.name = name\n",
    "        self.color = color\n",
    "\n",
    "    def __str__(self):  # self 생략 -> 오류 발생\n",
    "        return f'내 이름은 {self.name}, 색깔은 {self.color}'\n",
    "\n",
    "nabi = Cat(\"nabi\", \"black\")\n",
    "\n",
    "print(nabi) # 출력문 : 내 이름은 nabi, 색깔은 black\n"
   ]
  },
  {
   "cell_type": "markdown",
   "metadata": {},
   "source": []
  },
  {
   "cell_type": "code",
   "execution_count": null,
   "metadata": {},
   "outputs": [],
   "source": [
    "class Case:\n",
    "    def __init__(self, brand, model):\n",
    "        self.brand=brand\n",
    "        self.model=model\n",
    "        \n",
    "    def __str__(self):\n",
    "        return f'Case(Brand:{self.brand}, Model: {self.model})'\n",
    "    \n",
    "\n",
    "class Monitor:\n",
    "    def __init__(self,brand, size):\n",
    "        self. brand = brand\n",
    "        self. size = size\n",
    "\n",
    "    def __str__(self):\n",
    "        return f'Monitor(Brand:{self.brand}, Size: {self.size} inches)'\n",
    "    \n",
    "class Keyboard:\n",
    "    def __init__(self, brand, is_mechanical):\n",
    "        self.brand= brand\n",
    "        self.is_mechanical=is_mechanical\n",
    "\n",
    "    def __str__(self):\n",
    "        return f'Keyboard(Brand:{self.brand}, Mechanical: {self.is_mechanical})'\n",
    "    \n",
    "class Computer:\n",
    "    def __init__(self, case, monitor, keyboard,graphiccard):\n",
    "        self.case = case\n",
    "        self.monitor = monitor\n",
    "        self.keyboard= keyboard\n",
    "        self.graphiccard = graphiccard\n",
    "\n",
    "    def __str__(self):\n",
    "        return (f'Computer\\n'\n",
    "                f'{self.case}\\n'\n",
    "                f'{self.monitor}\\n'\n",
    "                f'{self.keyboard}\\n'\n",
    "                f'{self.graphiccard}')\n",
    "\n",
    "class GraphicCard:\n",
    "    def __init__ (self, brand, model):\n",
    "        self.brand = brand\n",
    "        self.model = model\n",
    "\n",
    "    def __str__(self):\n",
    "        return f'Graphic Card (Brand:{self.brand}, Model : {self.model})'\n",
    "\n",
    "case = Case(\"Cooler Master\",\"H50\")\n",
    "monitor = Monitor(\"Dell\",27)\n",
    "keyboard = Keyboard(\"Logitech\",True)\n",
    "keyboard1= Keyboard(\"Happy Hakcing\",True)\n",
    "graphiccard=GraphicCard(\"NVDEIA\",\"BI2233\")\n",
    "\n",
    "computer = Computer(case,monitor,keyboard,graphiccard)\n",
    "\n",
    "print(computer)\n",
    "print(Computer.__str__)\n"
   ]
  },
  {
   "cell_type": "code",
   "execution_count": null,
   "metadata": {},
   "outputs": [],
   "source": [
    "class Case:\n",
    "    def __init__(self, brand, model):\n",
    "        self.brand=brand\n",
    "        self.model=model\n",
    "        \n",
    "    def __str__(self):\n",
    "        return f'Case(Brand:{self.brand}, Model: {self.model})'\n",
    "    \n",
    "\n",
    "class Monitor:\n",
    "    def __init__(self,brand, size):\n",
    "        self. brand = brand\n",
    "        self. size = size\n",
    "\n",
    "    def __str__(self):\n",
    "        return f'Monitor(Brand:{self.brand}, Size: {self.size} inches)'\n",
    "    \n",
    "class Keyboard:\n",
    "    def __init__(self, brand, is_mechanical):\n",
    "        self.brand= brand\n",
    "        self.is_mechanical=is_mechanical\n",
    "\n",
    "    def __str__(self):\n",
    "        return f'Keyboard(Brand:{self.brand}, Mechanical: {self.is_mechanical})'\n",
    "    \n",
    "class Labtop:\n",
    "    def __init__(self, brand):\n",
    "        self.case = Case(brand,\"Zenbook Pro\")\n",
    "        self.monitor = Monitor (brand, 15.6)\n",
    "        self.keyboard= Keyboard(brand, True)\n",
    "\n",
    "\n",
    "    def __str__(self):\n",
    "        return (f'Computer\\n'\n",
    "                f'{self.case}\\n'\n",
    "                f'{self.monitor}\\n'\n",
    "                f'{self.keyboard}\\n')\n",
    "\n",
    "\n",
    "#case = Case(\"Cooler Master\",\"H50\")\n",
    "#monitor = Monitor(\"Dell\",27)\n",
    "#keyboard = Keyboard(\"Logitech\",True)\n",
    "\n",
    "laptop = Labtop(\"AUS\")\n",
    "\n",
    "case= Case(laptop.case,model='AUS')\n",
    "print(case)\n"
   ]
  },
  {
   "cell_type": "code",
   "execution_count": null,
   "metadata": {},
   "outputs": [],
   "source": [
    "class Person:\n",
    "    def __init__ (self, name):\n",
    "        self.name = name\n",
    "\n",
    "    def get_name(self):\n",
    "        return self.name\n",
    "    \n",
    "\n",
    "class PI(Person) :\n",
    "    def __init__(self, name, position):\n",
    "        super().__init__(name)\n",
    "        self.position= position\n",
    "\n",
    "    def into(self):\n",
    "        return f'관리직 : {self.get_name()}, 직책 : {self.position}'\n",
    "    \n",
    "class Employee(Person):\n",
    "    def __init__ (self, name, salary=100):\n",
    "        super().__init__( name)\n",
    "        self.salary= salary\n",
    "    def get_salary (self):\n",
    "        return f'종업원 : {self.get_name()}, 급여:{self.salary}'\n"
   ]
  },
  {
   "cell_type": "code",
   "execution_count": null,
   "metadata": {},
   "outputs": [],
   "source": [
    "cto = PI('박동민','최고 기술책임자 (CTO)')\n",
    "worker1= Employee('박동윤',320)\n",
    "worker2 =Employee('구성순')\n",
    "\n",
    "print(cto.into())"
   ]
  },
  {
   "cell_type": "code",
   "execution_count": null,
   "metadata": {},
   "outputs": [],
   "source": [
    "print(worker1.get_salary())\n",
    "print(worker2.get_salary())\n"
   ]
  },
  {
   "cell_type": "code",
   "execution_count": null,
   "metadata": {},
   "outputs": [],
   "source": [
    "class Person:\n",
    "    def __init__(self, name,record,grade):\n",
    "        self.name = name\n",
    "        self.record = record\n",
    "        self.grade = grade\n",
    "\n",
    "    def get_grade (self):\n",
    "        if self.grade >=70 :\n",
    "            return '합격입니다.'\n",
    "        else :\n",
    "            return '불합격' \n",
    "\n",
    "class Student (Person):\n",
    "    def __init__(self,name,record, grade):\n",
    "        super().__init__(name,record, grade)\n",
    "\n",
    "    def info(self):\n",
    "        return (f' 학생이름 : {self.name}\\n'\n",
    "                f' 학번 : {self.record}\\n'\n",
    "                f' 성적 : {self.grade}\\n'\n",
    "                f' 합격 여부 : {self.get_grade()}\\n')\n",
    "    \n",
    "\n",
    "name = input('학생 이름 입력')\n",
    "Student_ID= input('학번입력:')\n",
    "score= int(input('성적입력:'))\n",
    "student1 = Student(name,Student_ID,score)\n",
    "\n",
    "print(student1.info())\n",
    "\n"
   ]
  },
  {
   "cell_type": "code",
   "execution_count": null,
   "metadata": {},
   "outputs": [],
   "source": [
    "isinstance(student1,Person)"
   ]
  },
  {
   "cell_type": "code",
   "execution_count": null,
   "metadata": {},
   "outputs": [],
   "source": [
    "class Car :\n",
    "    def __init__ (self,model):\n",
    "        self.model= model\n",
    "\n",
    "    def get_model(self):\n",
    "        return self.model\n",
    "\n",
    "class Driver :\n",
    "    def drive(self):\n",
    "        car= Car(\"BMW\")\n",
    "        print(f'Driving {car.get_model()}')\n",
    "\n",
    "\n",
    "\n",
    "driver = Driver()\n",
    "driver.drive()"
   ]
  },
  {
   "cell_type": "code",
   "execution_count": 16,
   "metadata": {},
   "outputs": [
    {
     "name": "stdout",
     "output_type": "stream",
     "text": [
      "Driving BMW\n"
     ]
    }
   ],
   "source": [
    "class Car :\n",
    "    def __init__ (self,model):\n",
    "        self.model= model\n",
    "    \n",
    "    def get_model(self):\n",
    "        return self.model\n",
    "    \n",
    "class Driver :\n",
    "    def create_car(self, model):\n",
    "        return Car(model)\n",
    "    \n",
    "driver = Driver()\n",
    "car = driver.create_car(\"BMW\")\n",
    "print(f'Driving {car.get_model()}')"
   ]
  },
  {
   "cell_type": "code",
   "execution_count": null,
   "metadata": {},
   "outputs": [
    {
     "name": "stdout",
     "output_type": "stream",
     "text": [
      "getting on the vehicle\n",
      "getting on the vehicle\n",
      "getting on the vehicle\n",
      "Getting off the vehicle\n",
      "Getting off the vehicle\n",
      "Getting off the vehicle\n",
      "Transfered to another subway or bus\n",
      "Transfered to another subway or bus\n"
     ]
    }
   ],
   "source": [
    "from abc import ABC, abstractmethod\n",
    "\n",
    "class Vehicle (ABC):\n",
    "    def getOn(self):\n",
    "        print (\"getting on the vehicle\")\n",
    "\n",
    "    def getOff(self):\n",
    "        print (\"Getting off the vehicle\")\n",
    "    \n",
    "\n",
    "class Transferable(ABC):\n",
    "    @abstractmethod\n",
    "    def transfer(self):\n",
    "        pass\n",
    "\n",
    "class Bus(Vehicle, Transferable): #Transferable을 상속받음\n",
    "    def transfer (self):\n",
    "        print (\"Transfered to another subway or bus\")\n",
    "\n",
    "class Subway(Vehicle,Transferable):\n",
    "    def transfer (self):\n",
    "        print (\"Transfered to another subway or bus\")\n",
    "    \n",
    "class Taxi (Vehicle):\n",
    "    pass\n",
    "\n",
    "#if __name__==\"__main__\":\n",
    "    bus = Bus()\n",
    "    subway = Subway()\n",
    "    taxi = Taxi()\n",
    "\n",
    "    bus.getOn()\n",
    "    subway.getOn()\n",
    "    taxi.getOn()\n",
    "\n",
    "    bus.getOff()\n",
    "    subway.getOff()\n",
    "    taxi.getOff()\n",
    "\n",
    "    bus.transfer()\n",
    "    subway.transfer()\n",
    "\n",
    "else :\n",
    "    print('다른 모듈에서 호출했음')"
   ]
  },
  {
   "cell_type": "code",
   "execution_count": 26,
   "metadata": {},
   "outputs": [
    {
     "name": "stdout",
     "output_type": "stream",
     "text": [
      "다른 모듈에서 호출했음\n",
      "<module 'main_name_cal' from 'c:\\\\src_green\\\\src\\\\FirstPython\\\\PYTHON\\\\main_name_cal.py'>\n"
     ]
    }
   ],
   "source": [
    "import main_name_cal\n",
    "\n",
    "print(main_name_cal)"
   ]
  },
  {
   "cell_type": "code",
   "execution_count": 32,
   "metadata": {},
   "outputs": [
    {
     "name": "stdout",
     "output_type": "stream",
     "text": [
      " MP4 재생 중 . . . \n",
      " WMV 재생 중 . . . \n",
      " AVI 재생 중 . . . \n",
      " MP21재생 중 . . . \n"
     ]
    }
   ],
   "source": [
    "class VideoPlayer:\n",
    "    def __init__(self, format_type):\n",
    "        self.format_type = format_type\n",
    "\n",
    "    def start(self):\n",
    "        if self.format_type == 'MP4':\n",
    "            self.play_mp4()\n",
    "        elif self.format_type == 'WMV':\n",
    "            self.play_WMV()\n",
    "        elif self.format_type == 'AVI':\n",
    "            self.play_AVI()\n",
    "        elif self.format_type == 'MP21':\n",
    "            self.play_mp21()\n",
    "        else :\n",
    "            print('지원하지 않는 방식')\n",
    "    \n",
    "    def play_mp4 (self):\n",
    "        print(' MP4 재생 중 . . . ')\n",
    "    def play_WMV (self):\n",
    "        print(' WMV 재생 중 . . . ')\n",
    "    def play_AVI (self):\n",
    "        print(' AVI 재생 중 . . . ')\n",
    "    def play_mp21 (self):\n",
    "        print(' MP21재생 중 . . . ')\n",
    "\n",
    "\n",
    "if __name__ == '__main__':\n",
    "    player = VideoPlayer (\"MP4\")\n",
    "    player.start()\n",
    "    player = VideoPlayer (\"WMV\")\n",
    "    player.start()\n",
    "    player = VideoPlayer (\"AVI\")\n",
    "    player.start()\n",
    "    player = VideoPlayer (\"MP21\")\n",
    "    player.start()"
   ]
  },
  {
   "cell_type": "code",
   "execution_count": 1,
   "metadata": {},
   "outputs": [],
   "source": [
    "from abc import ABC , abstractmethod\n",
    "\n",
    "class PlayStart:\n",
    "    @abstractmethod\n",
    "    def start(self):\n",
    "        pass\n",
    "\n",
    "class MP4(PlayStart):\n",
    "    def start (self):\n",
    "        print(' MP4 재생 중 . . . ')\n",
    "\n",
    "class WMV(PlayStart) :\n",
    "    def start(self):\n",
    "        print(' WMV 재생 중 . . . ')\n",
    "\n",
    "class AVI(PlayStart) :\n",
    "    def start(self):\n",
    "        print(' AVI 재생 중 . . . ')\n",
    "\n",
    "class MP21(PlayStart) :\n",
    "    def start(self):\n",
    "        print(' MP21 재생 중 . . . ')\n",
    "\n",
    "\n",
    "\n"
   ]
  },
  {
   "cell_type": "code",
   "execution_count": null,
   "metadata": {},
   "outputs": [
    {
     "name": "stdout",
     "output_type": "stream",
     "text": [
      "일반강사\n",
      "강사료: 9000원\n",
      "\n",
      "대학원 강사\n",
      "강사료 : 18000원\n",
      "\n",
      "야간강사\n",
      "강사료: 9000원\n",
      "\n",
      "직업이 있는 강사\n",
      "일일 주차비 : 4500.0원\n",
      "\n"
     ]
    }
   ],
   "source": [
    "class Lecture :\n",
    "    \n",
    "    def __init__ (self):\n",
    "        self.lecturer = \"일반강사\"\n",
    "        self.charge = 9000\n",
    "        \n",
    "\n",
    "    def display_info(self):\n",
    "        print(self.lecturer)\n",
    "        print(f'강사료: {self.charge}원\\n')\n",
    "\n",
    "class LectureNight(Lecture):\n",
    "    def __init__(self):\n",
    "        super().__init__()\n",
    "        self.lecturer = '야간강사'\n",
    "\n",
    "    def display_info_night(self):\n",
    "        print(self.lecturer)\n",
    "        print(f'강사료 : {self.charge * 1.5}원\\n')\n",
    "\n",
    "\n",
    "class LecturerAtGS(Lecture):\n",
    "    def __init__(self):\n",
    "        super().__init__()\n",
    "        self.lecturer = '대학원 강사'\n",
    "\n",
    "    def display_info(self):\n",
    "        print(self.lecturer)\n",
    "        print(f'강사료 : {self.charge *2}원\\n')\n",
    "\n",
    "\n",
    "class LectureWiithWork(Lecture):\n",
    "    def __init__(self):\n",
    "        super().__init__()\n",
    "        self.lecturer='직업이 있는 강사'\n",
    "\n",
    "    def display_info(self):\n",
    "        print(self.lecturer)\n",
    "        print(f'일일 주차비 : {self.charge *0.5}원\\n')\n",
    "\n",
    "\n",
    "if __name__ == \"__main__\":\n",
    "    lect = Lecture()\n",
    "    lect.display_info()\n",
    "\n",
    "    lect01 = LecturerAtGS()\n",
    "    lect01.display_info()\n",
    "\n",
    "    lect02 = LectureNight()\n",
    "    lect02.display_info()\n",
    "\n",
    "    lect03 = LectureWiithWork()\n",
    "    lect03.display_info()\n"
   ]
  },
  {
   "cell_type": "code",
   "execution_count": 32,
   "metadata": {},
   "outputs": [
    {
     "ename": "TypeError",
     "evalue": "Can't instantiate abstract class Lecturer without an implementation for abstract method 'display_info'",
     "output_type": "error",
     "traceback": [
      "\u001b[1;31m---------------------------------------------------------------------------\u001b[0m",
      "\u001b[1;31mTypeError\u001b[0m                                 Traceback (most recent call last)",
      "Cell \u001b[1;32mIn[32], line 51\u001b[0m\n\u001b[0;32m     47\u001b[0m         \u001b[38;5;28mprint\u001b[39m(\u001b[38;5;124mf\u001b[39m\u001b[38;5;124m'\u001b[39m\u001b[38;5;124m강사료 : \u001b[39m\u001b[38;5;132;01m{\u001b[39;00m\u001b[38;5;28mself\u001b[39m\u001b[38;5;241m.\u001b[39mcharge\u001b[38;5;250m \u001b[39m\u001b[38;5;241m*\u001b[39m\u001b[38;5;250m \u001b[39m\u001b[38;5;241m0.5\u001b[39m\u001b[38;5;132;01m}\u001b[39;00m\u001b[38;5;124m원 \u001b[39m\u001b[38;5;130;01m\\n\u001b[39;00m\u001b[38;5;124m'\u001b[39m)\n\u001b[0;32m     49\u001b[0m \u001b[38;5;28;01mif\u001b[39;00m \u001b[38;5;18m__name__\u001b[39m \u001b[38;5;241m==\u001b[39m \u001b[38;5;124m\"\u001b[39m\u001b[38;5;124m__main__\u001b[39m\u001b[38;5;124m\"\u001b[39m :\n\u001b[1;32m---> 51\u001b[0m     lect_1\u001b[38;5;241m=\u001b[39m\u001b[43mLecturer\u001b[49m\u001b[43m(\u001b[49m\u001b[43m)\u001b[49m\n\u001b[0;32m     52\u001b[0m     lect_1\u001b[38;5;241m.\u001b[39mdisplay_info()\n\u001b[0;32m     53\u001b[0m     lect \u001b[38;5;241m=\u001b[39m GeneralLecturer()\n",
      "\u001b[1;31mTypeError\u001b[0m: Can't instantiate abstract class Lecturer without an implementation for abstract method 'display_info'"
     ]
    }
   ],
   "source": [
    "from abc import ABC, abstractmethod\n",
    "\n",
    "class Lecturer (ABC):\n",
    "\n",
    "    def __init__(self):\n",
    "        self.lecturer = \"\"\n",
    "        self.charge= 9000\n",
    "\n",
    "    @abstractmethod\n",
    "    def display_info(self):\n",
    "        pass\n",
    "\n",
    "class GeneralLecturer(Lecturer):\n",
    "    def __init__(self):\n",
    "        super().__init__()\n",
    "        self.lecturer = '일반 강사'\n",
    "\n",
    "    def display_info(self):\n",
    "        print (self.lecturer)\n",
    "        print(f'강사료 : {self.charge}원 \\n')\n",
    "\n",
    "class LecturerNight(Lecturer):\n",
    "    def __init__(self):\n",
    "        super().__init__()\n",
    "        self.lecturer = '야간 강사'\n",
    "    \n",
    "    def display_info(self):\n",
    "        print (self.lecturer)\n",
    "        print(f'강사료 : {self.charge* 1.5}원 \\n')\n",
    "\n",
    "class LecturerAtGS(Lecturer):\n",
    "    def __init__(self):\n",
    "        super().__init__()\n",
    "        self.lecturer = '대학원 강사'\n",
    "\n",
    "    def  display_info(self):\n",
    "        print(self.lecturer)\n",
    "        print(f'강사료 : {self.charge *2}원 \\n')\n",
    "\n",
    "class LectureWithWork (Lecturer):\n",
    "    def __init__(self):\n",
    "        super().__init__()\n",
    "        self.lecturer ='직업이 있는 강사'\n",
    "\n",
    "    def display_info(self):\n",
    "        print(self.lecturer)\n",
    "        print(f'강사료 : {self.charge * 0.5}원 \\n')\n",
    "\n",
    "if __name__ == \"__main__\" :\n",
    "\n",
    "    lect_1=Lecturer()\n",
    "    lect_1.display_info()\n",
    "    lect = GeneralLecturer()\n",
    "    lect.display_info()\n",
    "\n",
    "    lect01=LecturerAtGS()\n",
    "    lect01.display_info()\n",
    "\n",
    "    lect02 = LectureNight()\n",
    "    lect02.display_info()\n",
    "\n",
    "    lect03 = LectureWiithWork()\n",
    "    lect03.display_info()\n"
   ]
  },
  {
   "cell_type": "code",
   "execution_count": 33,
   "metadata": {},
   "outputs": [
    {
     "ename": "TypeError",
     "evalue": "Can't instantiate abstract class Lecture without an implementation for abstract method 'display_info'",
     "output_type": "error",
     "traceback": [
      "\u001b[1;31m---------------------------------------------------------------------------\u001b[0m",
      "\u001b[1;31mTypeError\u001b[0m                                 Traceback (most recent call last)",
      "Cell \u001b[1;32mIn[33], line 43\u001b[0m\n\u001b[0;32m     40\u001b[0m         \u001b[38;5;28mprint\u001b[39m(\u001b[38;5;124mf\u001b[39m\u001b[38;5;124m'\u001b[39m\u001b[38;5;124m일일 주차비: \u001b[39m\u001b[38;5;132;01m{\u001b[39;00m\u001b[38;5;28mself\u001b[39m\u001b[38;5;241m.\u001b[39mcharge\u001b[38;5;250m \u001b[39m\u001b[38;5;241m*\u001b[39m\u001b[38;5;250m \u001b[39m\u001b[38;5;28mself\u001b[39m\u001b[38;5;241m.\u001b[39mcharge_multiplier\u001b[38;5;132;01m}\u001b[39;00m\u001b[38;5;124m원\u001b[39m\u001b[38;5;130;01m\\n\u001b[39;00m\u001b[38;5;124m'\u001b[39m)\n\u001b[0;32m     42\u001b[0m \u001b[38;5;28;01mif\u001b[39;00m \u001b[38;5;18m__name__\u001b[39m \u001b[38;5;241m==\u001b[39m \u001b[38;5;124m\"\u001b[39m\u001b[38;5;124m__main__\u001b[39m\u001b[38;5;124m\"\u001b[39m:\n\u001b[1;32m---> 43\u001b[0m     lect \u001b[38;5;241m=\u001b[39m \u001b[43mLecture\u001b[49m\u001b[43m(\u001b[49m\u001b[43m)\u001b[49m  \u001b[38;5;66;03m# 이 줄은 오류를 발생시킵니다. 추상 클래스는 객체를 생성할 수 없습니다.\u001b[39;00m\n\u001b[0;32m     44\u001b[0m     lect01 \u001b[38;5;241m=\u001b[39m LectureNight()\n\u001b[0;32m     45\u001b[0m     lect01\u001b[38;5;241m.\u001b[39mdisplay_info()\n",
      "\u001b[1;31mTypeError\u001b[0m: Can't instantiate abstract class Lecture without an implementation for abstract method 'display_info'"
     ]
    }
   ],
   "source": [
    "from abc import ABC, abstractmethod\n",
    "\n",
    "class Lecture(ABC):\n",
    "    def __init__(self):\n",
    "        self.lecturer = \"일반강사\"\n",
    "        self.charge = 9000\n",
    "\n",
    "    @abstractmethod\n",
    "    def display_info(self):\n",
    "        pass\n",
    "\n",
    "class LectureNight(Lecture):\n",
    "    def __init__(self):\n",
    "        super().__init__()\n",
    "        self.lecturer = '야간강사'\n",
    "        self.charge_multiplier = 1.5\n",
    "\n",
    "    def display_info(self):\n",
    "        print(self.lecturer)\n",
    "        print(f'강사료: {self.charge * self.charge_multiplier}원\\n')\n",
    "\n",
    "class LecturerAtGS(Lecture):\n",
    "    def __init__(self):\n",
    "        super().__init__()\n",
    "        self.lecturer = '대학원 강사'\n",
    "        self.charge_multiplier = 2\n",
    "\n",
    "    def display_info(self):\n",
    "        print(self.lecturer)\n",
    "        print(f'강사료: {self.charge * self.charge_multiplier}원\\n')\n",
    "\n",
    "class LectureWithWork(Lecture):\n",
    "    def __init__(self):\n",
    "        super().__init__()\n",
    "        self.lecturer = '직업이 있는 강사'\n",
    "        self.charge_multiplier = 0.5\n",
    "\n",
    "    def display_info(self):\n",
    "        print(self.lecturer)\n",
    "        print(f'일일 주차비: {self.charge * self.charge_multiplier}원\\n')\n",
    "\n",
    "if __name__ == \"__main__\":\n",
    "    lect = Lecture()  # 이 줄은 오류를 발생시킵니다. 추상 클래스는 객체를 생성할 수 없습니다.\n",
    "    lect01 = LectureNight()\n",
    "    lect01.display_info()\n",
    "\n",
    "    lect02 = LecturerAtGS()\n",
    "    lect02.display_info()\n",
    "\n",
    "    lect03 = LectureWithWork()\n",
    "    lect03.display_info()\n"
   ]
  },
  {
   "cell_type": "code",
   "execution_count": 45,
   "metadata": {},
   "outputs": [
    {
     "name": "stdout",
     "output_type": "stream",
     "text": [
      "문서 인쇄 중 ...\n",
      "문서 스캔 중...\n",
      "팩스 전송 중...\n",
      "\n",
      "문서 인쇄 중...\n",
      "스캔기능 미지원\n"
     ]
    },
    {
     "ename": "NotImplementedError",
     "evalue": "팩스기능 미지원",
     "output_type": "error",
     "traceback": [
      "\u001b[1;31m---------------------------------------------------------------------------\u001b[0m",
      "\u001b[1;31mNotImplementedError\u001b[0m                       Traceback (most recent call last)",
      "Cell \u001b[1;32mIn[45], line 43\u001b[0m\n\u001b[0;32m     41\u001b[0m basic_printer\u001b[38;5;241m.\u001b[39mprint()\n\u001b[0;32m     42\u001b[0m basic_printer\u001b[38;5;241m.\u001b[39mscan()\n\u001b[1;32m---> 43\u001b[0m \u001b[43mbasic_printer\u001b[49m\u001b[38;5;241;43m.\u001b[39;49m\u001b[43mfax\u001b[49m\u001b[43m(\u001b[49m\u001b[43m)\u001b[49m\n",
      "Cell \u001b[1;32mIn[45], line 30\u001b[0m, in \u001b[0;36mBasicPrinter.fax\u001b[1;34m(self)\u001b[0m\n\u001b[0;32m     29\u001b[0m \u001b[38;5;28;01mdef\u001b[39;00m \u001b[38;5;21mfax\u001b[39m(\u001b[38;5;28mself\u001b[39m):\n\u001b[1;32m---> 30\u001b[0m     \u001b[38;5;28;01mraise\u001b[39;00m \u001b[38;5;167;01mNotImplementedError\u001b[39;00m(\u001b[38;5;124m'\u001b[39m\u001b[38;5;124m팩스기능 미지원\u001b[39m\u001b[38;5;124m'\u001b[39m)\n",
      "\u001b[1;31mNotImplementedError\u001b[0m: 팩스기능 미지원"
     ]
    }
   ],
   "source": [
    "class MultiFunctionDevice :\n",
    "    def print(self):\n",
    "        pass\n",
    "    \n",
    "    def scan (self):\n",
    "        pass\n",
    "\n",
    "    def fax (self):\n",
    "        pass\n",
    "\n",
    "class SmartPrinter( MultiFunctionDevice):\n",
    "    def print(self):\n",
    "        print('문서 인쇄 중 ...')\n",
    "\n",
    "    def scan(self):\n",
    "        print('문서 스캔 중...')\n",
    "\n",
    "    def fax (self):\n",
    "        print('팩스 전송 중...')\n",
    "\n",
    "\n",
    "class BasicPrinter(MultiFunctionDevice):\n",
    "    def print(self):\n",
    "        print('문서 인쇄 중...')\n",
    "    \n",
    "    def scan(self):\n",
    "        return print(NotImplementedError('스캔기능 미지원'))\n",
    "    \n",
    "    def fax(self):\n",
    "        raise NotImplementedError('팩스기능 미지원')\n",
    "    \n",
    "\n",
    "\n",
    "if __name__ == \"__main__\" :\n",
    "    printer = SmartPrinter()\n",
    "    printer.print()\n",
    "    printer.scan()\n",
    "    printer.fax()\n",
    "    print()\n",
    "    basic_printer = BasicPrinter()\n",
    "    basic_printer.print()\n",
    "    basic_printer.scan()\n",
    "    basic_printer.fax()\n",
    "\n"
   ]
  },
  {
   "cell_type": "code",
   "execution_count": 50,
   "metadata": {},
   "outputs": [
    {
     "name": "stdout",
     "output_type": "stream",
     "text": [
      "문서 인쇄 중 ...\n",
      "문서 스캔 중...\n",
      "팩스 전송 중...\n",
      "\n",
      "문서 인쇄 중...\n"
     ]
    },
    {
     "ename": "AttributeError",
     "evalue": "'BasicPrinter' object has no attribute 'scan'",
     "output_type": "error",
     "traceback": [
      "\u001b[1;31m---------------------------------------------------------------------------\u001b[0m",
      "\u001b[1;31mAttributeError\u001b[0m                            Traceback (most recent call last)",
      "Cell \u001b[1;32mIn[50], line 39\u001b[0m\n\u001b[0;32m     37\u001b[0m basic_printer \u001b[38;5;241m=\u001b[39m BasicPrinter()\n\u001b[0;32m     38\u001b[0m basic_printer\u001b[38;5;241m.\u001b[39mprint()\n\u001b[1;32m---> 39\u001b[0m \u001b[43mbasic_printer\u001b[49m\u001b[38;5;241;43m.\u001b[39;49m\u001b[43mscan\u001b[49m()\n\u001b[0;32m     40\u001b[0m basic_printer\u001b[38;5;241m.\u001b[39mfax()\n",
      "\u001b[1;31mAttributeError\u001b[0m: 'BasicPrinter' object has no attribute 'scan'"
     ]
    }
   ],
   "source": [
    "class Printer:\n",
    "    def print(self):\n",
    "        pass\n",
    "    \n",
    "class Scanner_Fax:\n",
    "    def scan (self):\n",
    "        pass\n",
    "\n",
    "    def fax (self):\n",
    "        pass\n",
    "\n",
    "class SmartPrinter(Printer,Scanner_Fax):\n",
    "    def print(self):\n",
    "        print('문서 인쇄 중 ...')\n",
    "\n",
    "    def scan(self):\n",
    "        print('문서 스캔 중...')\n",
    "\n",
    "    def fax (self):\n",
    "        print('팩스 전송 중...')\n",
    "\n",
    "\n",
    "class BasicPrinter(Printer):\n",
    "    def print(self):\n",
    "        print('문서 인쇄 중...')\n",
    "    \n",
    "\n",
    "    \n",
    "\n",
    "\n",
    "if __name__ == \"__main__\" :\n",
    "    printer = SmartPrinter()\n",
    "    printer.print()\n",
    "    printer.scan()\n",
    "    printer.fax()\n",
    "    print()\n",
    "    basic_printer = BasicPrinter()\n",
    "    basic_printer.print()\n",
    "    basic_printer.scan()\n",
    "    basic_printer.fax()\n",
    "\n"
   ]
  },
  {
   "cell_type": "code",
   "execution_count": 51,
   "metadata": {},
   "outputs": [
    {
     "data": {
      "text/plain": [
       "<list_iterator at 0x2b640386f50>"
      ]
     },
     "execution_count": 51,
     "metadata": {},
     "output_type": "execute_result"
    }
   ],
   "source": [
    "l=[10,20,30]\n",
    "l_iter= iter(l)\n",
    "l_iter"
   ]
  },
  {
   "cell_type": "code",
   "execution_count": 52,
   "metadata": {},
   "outputs": [
    {
     "ename": "TypeError",
     "evalue": "'int' object is not iterable",
     "output_type": "error",
     "traceback": [
      "\u001b[1;31m---------------------------------------------------------------------------\u001b[0m",
      "\u001b[1;31mTypeError\u001b[0m                                 Traceback (most recent call last)",
      "Cell \u001b[1;32mIn[52], line 2\u001b[0m\n\u001b[0;32m      1\u001b[0m n\u001b[38;5;241m=\u001b[39m\u001b[38;5;241m100\u001b[39m\n\u001b[1;32m----> 2\u001b[0m n_iter \u001b[38;5;241m=\u001b[39m \u001b[38;5;28;43miter\u001b[39;49m\u001b[43m(\u001b[49m\u001b[43mn\u001b[49m\u001b[43m)\u001b[49m\n",
      "\u001b[1;31mTypeError\u001b[0m: 'int' object is not iterable"
     ]
    }
   ],
   "source": [
    "n=100\n",
    "n_iter = iter(n)"
   ]
  },
  {
   "cell_type": "code",
   "execution_count": 54,
   "metadata": {},
   "outputs": [
    {
     "name": "stdout",
     "output_type": "stream",
     "text": [
      "list는 iterable한 객체입니다.\n"
     ]
    }
   ],
   "source": [
    "try:\n",
    "    l=[10,20,30]\n",
    "    iterator = iter (l)\n",
    "except TypeError:\n",
    "    print('list는 iterable 객체가 아닙니다.')\n",
    "else:\n",
    "    print('list는 iterable한 객체입니다.')"
   ]
  },
  {
   "cell_type": "code",
   "execution_count": 62,
   "metadata": {},
   "outputs": [
    {
     "data": {
      "text/plain": [
       "20"
      ]
     },
     "execution_count": 62,
     "metadata": {},
     "output_type": "execute_result"
    }
   ],
   "source": [
    "lst =[10,20,30]\n",
    "l_iter= iter(lst)\n",
    "type(l_iter)\n",
    "next(l_iter)\n",
    "l_iter.__next__()\n",
    "\n",
    "\n",
    "\n"
   ]
  },
  {
   "cell_type": "code",
   "execution_count": 64,
   "metadata": {},
   "outputs": [
    {
     "name": "stdout",
     "output_type": "stream",
     "text": [
      "1\n",
      "3\n",
      "5\n",
      "7\n"
     ]
    }
   ],
   "source": [
    "class OddCounter:\n",
    "\n",
    "    def __init__(self, n=1):\n",
    "        self.n=n\n",
    "\n",
    "    def __iter__(self):\n",
    "        return self\n",
    "    \n",
    "    def __next__(self):\n",
    "        t=self.n\n",
    "        self.n +=2\n",
    "        return t\n",
    "    \n",
    "my_counter = OddCounter()\n",
    "print(next(my_counter))\n",
    "print(my_counter.__next__())\n",
    "print(my_counter.__next__())\n",
    "print(my_counter.__next__())\n"
   ]
  },
  {
   "cell_type": "code",
   "execution_count": 66,
   "metadata": {},
   "outputs": [
    {
     "name": "stdout",
     "output_type": "stream",
     "text": [
      "성년리스트: [34, 39, 20, 54]\n",
      "성년리스트: [34, 39, 20, 54]\n"
     ]
    }
   ],
   "source": [
    "ages = [34,39,20,18,13,54]\n",
    "print('성년리스트:',[x for x in ages if x >= 19])\n",
    "\n",
    "adult_ages= list(filter(lambda x :x >=19, ages))\n",
    "print('성년리스트:',adult_ages)"
   ]
  },
  {
   "cell_type": "code",
   "execution_count": 1,
   "metadata": {},
   "outputs": [
    {
     "name": "stdout",
     "output_type": "stream",
     "text": [
      "1\n",
      "2\n",
      "3\n"
     ]
    }
   ],
   "source": [
    "my_generator= (x for x in range(1,4))\n",
    "for n in my_generator:\n",
    "        print(n)"
   ]
  },
  {
   "cell_type": "code",
   "execution_count": 2,
   "metadata": {},
   "outputs": [
    {
     "data": {
      "text/plain": [
       "generator"
      ]
     },
     "execution_count": 2,
     "metadata": {},
     "output_type": "execute_result"
    }
   ],
   "source": [
    "type(my_generator)"
   ]
  },
  {
   "cell_type": "code",
   "execution_count": 3,
   "metadata": {},
   "outputs": [],
   "source": [
    "def create_number():\n",
    "    numbers = []\n",
    "    for i in range(1,11):\n",
    "        numbers.append(i)\n",
    "    return numbers"
   ]
  },
  {
   "cell_type": "code",
   "execution_count": 7,
   "metadata": {},
   "outputs": [
    {
     "name": "stdout",
     "output_type": "stream",
     "text": [
      "1 2 3 4 5 6 7 8 9 10 [1, 2, 3, 4, 5, 6, 7, 8, 9, 10]\n"
     ]
    }
   ],
   "source": [
    "for number in create_number():\n",
    "    print(number, end = ' ')\n",
    "print(create_number())\n"
   ]
  },
  {
   "cell_type": "code",
   "execution_count": 2,
   "metadata": {},
   "outputs": [
    {
     "name": "stdout",
     "output_type": "stream",
     "text": [
      "a [[1 2 3]\n",
      " [4 5 6]\n",
      " [7 8 9]]\n",
      "b [[2 2 2]\n",
      " [2 2 2]\n",
      " [2 2 2]]\n"
     ]
    },
    {
     "data": {
      "text/plain": [
       "8"
      ]
     },
     "execution_count": 2,
     "metadata": {},
     "output_type": "execute_result"
    }
   ],
   "source": [
    "import numpy as np\n",
    "\n",
    "a= np.array ([[1,2,3],[4,5,6],[7,8,9]])\n",
    "b= np.array([[2,2,2],\n",
    "             [2,2,2],\n",
    "             [2,2,2]])\n",
    "print('a',a)\n",
    "print('b',b)\n",
    "\n",
    "a.max()\n",
    "a.itemsize"
   ]
  },
  {
   "cell_type": "code",
   "execution_count": 16,
   "metadata": {},
   "outputs": [
    {
     "name": "stdout",
     "output_type": "stream",
     "text": [
      "90\n",
      "9\n",
      "55.3\n",
      "[56  0 43 81 84 15 78 75 64 60 42 21 93 49 81  4 45 42 46 63]\n"
     ]
    }
   ],
   "source": [
    "import numpy as np\n",
    "c=np.random.randint(0,99,10)\n",
    "\n",
    "print(c.max())\n",
    "print(c.min())\n",
    "print(c.mean())\n",
    "\n",
    "\n",
    "c=np.append(a,b)\n",
    "print(c)"
   ]
  },
  {
   "cell_type": "code",
   "execution_count": 17,
   "metadata": {},
   "outputs": [
    {
     "name": "stdout",
     "output_type": "stream",
     "text": [
      "0으로 초기화된 행렬:\n",
      "[[0. 0. 0.]\n",
      " [0. 0. 0.]\n",
      " [0. 0. 0.]]\n",
      "\n",
      "단위 행렬:\n",
      "[[1. 0. 0.]\n",
      " [0. 1. 0.]\n",
      " [0. 0. 1.]]\n"
     ]
    }
   ],
   "source": [
    "import numpy as np\n",
    "\n",
    "# 3x3 0으로 초기화된 행렬\n",
    "zero_matrix = np.zeros((3, 3))\n",
    "print(\"0으로 초기화된 행렬:\")\n",
    "print(zero_matrix)\n",
    "\n",
    "# 3x3 단위 행렬\n",
    "identity_matrix = np.eye(3)\n",
    "print(\"\\n단위 행렬:\")\n",
    "print(identity_matrix)\n",
    "\n"
   ]
  },
  {
   "cell_type": "code",
   "execution_count": 18,
   "metadata": {},
   "outputs": [
    {
     "data": {
      "text/plain": [
       "array([[0., 0., 0.],\n",
       "       [0., 0., 0.]])"
      ]
     },
     "execution_count": 18,
     "metadata": {},
     "output_type": "execute_result"
    }
   ],
   "source": [
    "np.zeros((2,3))"
   ]
  },
  {
   "cell_type": "code",
   "execution_count": 19,
   "metadata": {},
   "outputs": [
    {
     "data": {
      "text/plain": [
       "array([[1., 1., 1.],\n",
       "       [1., 1., 1.]])"
      ]
     },
     "execution_count": 19,
     "metadata": {},
     "output_type": "execute_result"
    }
   ],
   "source": [
    "np.ones((2,3))"
   ]
  },
  {
   "cell_type": "code",
   "execution_count": 20,
   "metadata": {},
   "outputs": [
    {
     "data": {
      "text/plain": [
       "array([[100, 100, 100],\n",
       "       [100, 100, 100]])"
      ]
     },
     "execution_count": 20,
     "metadata": {},
     "output_type": "execute_result"
    }
   ],
   "source": [
    "np.full((2,3),100)"
   ]
  },
  {
   "cell_type": "code",
   "execution_count": null,
   "metadata": {},
   "outputs": [
    {
     "data": {
      "text/plain": [
       "array([[1., 0., 0.],\n",
       "       [0., 1., 0.],\n",
       "       [0., 0., 1.]])"
      ]
     },
     "execution_count": 21,
     "metadata": {},
     "output_type": "execute_result"
    }
   ],
   "source": [
    "np.eye(3) #단위 행렬"
   ]
  },
  {
   "cell_type": "code",
   "execution_count": 26,
   "metadata": {},
   "outputs": [
    {
     "data": {
      "text/plain": [
       "array([0. , 0.2, 0.4, 0.6, 0.8])"
      ]
     },
     "execution_count": 26,
     "metadata": {},
     "output_type": "execute_result"
    }
   ],
   "source": [
    "np.arange(0,10,2)\n",
    "np.arange(0,10)\n",
    "np.arange(0.0,1.0,0.2)"
   ]
  },
  {
   "cell_type": "code",
   "execution_count": null,
   "metadata": {},
   "outputs": [],
   "source": []
  }
 ],
 "metadata": {
  "kernelspec": {
   "display_name": "Python 3",
   "language": "python",
   "name": "python3"
  },
  "language_info": {
   "codemirror_mode": {
    "name": "ipython",
    "version": 3
   },
   "file_extension": ".py",
   "mimetype": "text/x-python",
   "name": "python",
   "nbconvert_exporter": "python",
   "pygments_lexer": "ipython3",
   "version": "undefined.undefined.undefined"
  }
 },
 "nbformat": 4,
 "nbformat_minor": 2
}
