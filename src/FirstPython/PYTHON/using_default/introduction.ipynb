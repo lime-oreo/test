{
 "cells": [
  {
   "cell_type": "code",
   "execution_count": 3,
   "metadata": {},
   "outputs": [
    {
     "name": "stdout",
     "output_type": "stream",
     "text": [
      "False\n"
     ]
    }
   ],
   "source": [
    "print(1==3)"
   ]
  },
  {
   "cell_type": "code",
   "execution_count": 1,
   "metadata": {},
   "outputs": [
    {
     "ename": "SyntaxError",
     "evalue": "invalid syntax. Maybe you meant '==' or ':=' instead of '='? (979033910.py, line 3)",
     "output_type": "error",
     "traceback": [
      "\u001b[1;36m  Cell \u001b[1;32mIn[1], line 3\u001b[1;36m\u001b[0m\n\u001b[1;33m    while exit_input=input ('입력을 계속 하시겠습니까? : \\n(계속하려면 ENTER ,종료하려면 종료입력.)') :\u001b[0m\n\u001b[1;37m          ^\u001b[0m\n\u001b[1;31mSyntaxError\u001b[0m\u001b[1;31m:\u001b[0m invalid syntax. Maybe you meant '==' or ':=' instead of '='?\n"
     ]
    }
   ],
   "source": [
    "# 추가강의때 엑셀에 추가하기 혹은 DBL에 추가하기 할 예정\n",
    "\n",
    "while True :\n",
    "\n",
    "    exit_input=input ('입력을 계속 하시겠습니까? : \\n(계속하려면 ENTER ,종료하려면 종료입력.)')\n",
    "    if exit_input=='종료':\n",
    "        print('프로그램을 종료합니다.')\n",
    "        break  #while loop을 빠져나옴\n",
    "    my_name=(input(\"본인 이름:\" )) #input 변수선언 필요\n",
    "    my_ad=(input(\"사는 곳:\" ))\n",
    "    my_major=(input(\"전공:\"))\n",
    "    my_goal=(input(\"수강 목적:\"))\n",
    "    my_fv=(input(\"주변맛집:\"))\n",
    "\n",
    "    print ('====입력정보====\\n')\n",
    "    print(f'본인 이름 : {my_name}')\n",
    "    print(f'본인 주소: {my_ad}')\n",
    "    print(f'본인 전공: {my_major}')\n",
    "    print(f'본인 목적: {my_goal}')\n",
    "    print(f'주변 맛집: {my_fv}')\n",
    "    print ('===========\\n')\n"
   ]
  },
  {
   "cell_type": "code",
   "execution_count": 6,
   "metadata": {},
   "outputs": [
    {
     "name": "stdout",
     "output_type": "stream",
     "text": [
      "====입력정보====\n",
      "\n",
      "본인 이름 : 구성순\n",
      "본인 주소: \n",
      "본인 전공: \n",
      "본인 목적: \n",
      "주변 맛집: \n",
      "===========\n",
      "\n",
      "====입력정보====\n",
      "\n",
      "본인 이름 : \n",
      "본인 주소: \n",
      "본인 전공: \n",
      "본인 목적: \n",
      "주변 맛집: \n",
      "===========\n",
      "\n",
      "프로그램을 종료합니다.\n"
     ]
    }
   ],
   "source": [
    "# 추가강의때 엑셀에 추가하기 혹은 DBL에 추가하기 할 예정\n",
    "\n",
    "while True :\n",
    "\n",
    "    exit_input=input ('입력을 계속 하시겠습니까? : \\n(계속하려면 ENTER ,종료하려면 종료입력.)')\n",
    "    if exit_input=='종료':\n",
    "        print('프로그램을 종료합니다.')\n",
    "        break  #while loop을 빠져나옴\n",
    "    my_name=(input(\"본인 이름:\" )) #input 변수선언 필요\n",
    "    my_ad=(input(\"사는 곳:\" ))\n",
    "    my_major=(input(\"전공:\"))\n",
    "    my_goal=(input(\"수강 목적:\"))\n",
    "    my_fv=(input(\"주변맛집:\"))\n",
    "\n",
    "    print ('====입력정보====\\n')\n",
    "    print(f'본인 이름 : {my_name}')\n",
    "    print(f'본인 주소: {my_ad}')\n",
    "    print(f'본인 전공: {my_major}')\n",
    "    print(f'본인 목적: {my_goal}')\n",
    "    print(f'주변 맛집: {my_fv}')\n",
    "    print ('===========\\n')\n"
   ]
  },
  {
   "cell_type": "code",
   "execution_count": 7,
   "metadata": {},
   "outputs": [
    {
     "name": "stdout",
     "output_type": "stream",
     "text": [
      "====입력정보====\n",
      "\n",
      "본인 이름 : 1\n",
      "본인 주소: 1\n",
      "본인 전공: 1\n",
      "본인 목적: 1\n",
      "주변 맛집: 1\n",
      "===========\n",
      "\n",
      "프로그램을 종료합니다.\n"
     ]
    }
   ],
   "source": [
    "# 추가강의때 엑셀에 추가하기 혹은 DBL에 추가하기 할 예정\n",
    "\n",
    "while True :\n",
    "\n",
    "    exit_input=input ('입력을 계속 하시겠습니까? : \\n(계속하려면 '입력' ,종료하려면 종료입력.)')\n",
    "    if exit_input=='종료':\n",
    "        print('프로그램을 종료합니다.')\n",
    "        break  #while loop을 빠져나옴\n",
    "    if exit_input == '입력':\n",
    "        my_name=(input(\"본인 이름:\" )) #input 변수선언 필요\n",
    "        my_ad=(input(\"사는 곳:\" ))\n",
    "        my_major=(input(\"전공:\"))\n",
    "        my_goal=(input(\"수강 목적:\"))\n",
    "        my_fv=(input(\"주변맛집:\"))\n",
    "\n",
    "    print ('====입력정보====\\n')\n",
    "    print(f'본인 이름 : {my_name}')\n",
    "    print(f'본인 주소: {my_ad}')\n",
    "    print(f'본인 전공: {my_major}')\n",
    "    print(f'본인 목적: {my_goal}')\n",
    "    print(f'주변 맛집: {my_fv}')\n",
    "    print ('===========\\n')\n"
   ]
  },
  {
   "cell_type": "code",
   "execution_count": 5,
   "metadata": {},
   "outputs": [
    {
     "name": "stdout",
     "output_type": "stream",
     "text": [
      "====입력정보====\n",
      "본인 이름 : 구성순\n",
      "본인 주소: 구성순\n",
      "본인 전공: 구성순\n",
      "본인 목적: 구성순\n",
      "주변 맛집: 구성순\n",
      "===========\n",
      "['구성순']\n",
      "['구성순']\n",
      "['구성순']\n",
      "['구성순']\n",
      "['구성순']\n",
      "====입력정보====\n",
      "본인 이름 : 구성순\n",
      "본인 주소: 구성순\n",
      "본인 전공: 구성순\n",
      "본인 목적: 구성순\n",
      "주변 맛집: 구성순\n",
      "===========\n",
      "['구성순', '구성순']\n",
      "['구성순', '구성순']\n",
      "['구성순', '구성순']\n",
      "['구성순', '구성순']\n",
      "['구성순', '구성순']\n",
      "프로그램을 종료합니다.\n"
     ]
    }
   ],
   "source": [
    "# 추가강의때 엑셀에 추가하기 혹은 DBL에 추가하기 할 예정\n",
    "# list append 추가하여 list에 이름 list 넣기\n",
    "names_list = []\n",
    "ad_list=[]\n",
    "major_list=[]\n",
    "goal_list=[]\n",
    "fv_list=[]\n",
    "while True :\n",
    "\n",
    "    exit_input=input ('입력을 계속 하시겠습니까? : \\n(계속하려면 \"Enter\" ,종료하려면 종료입력.)')\n",
    "    if exit_input=='종료':\n",
    "        print('프로그램을 종료합니다.')\n",
    "        break  #while loop을 빠져나옴\n",
    "    if exit_input == '':\n",
    "        my_name=(input(\"본인 이름:\" )) #input 변수선언 필요\n",
    "        names_list.append(my_name)\n",
    "        my_ad=(input(\"사는 곳:\" ))\n",
    "        ad_list.append(my_ad)\n",
    "        my_major=(input(\"전공:\"))\n",
    "        major_list.append(my_major)\n",
    "\n",
    "        my_goal=(input(\"수강 목적:\"))\n",
    "        goal_list.append(my_goal)\n",
    "\n",
    "        my_fv=(input(\"주변맛집:\"))\n",
    "        fv_list.append(my_fv)\n",
    "'''\n",
    "    print ('====입력정보====')\n",
    "    print(f'본인 이름 : {my_name}')\n",
    "    print(f'본인 주소: {my_ad}')\n",
    "    print(f'본인 전공: {my_major}')\n",
    "    print(f'본인 목적: {my_goal}')\n",
    "    print(f'주변 맛집: {my_fv}')\n",
    "    print ('===========')\n",
    "    '''\n",
    "    print(names_list)\n",
    "    print(ad_list)\n",
    "    print(major_list)\n",
    "    print(goal_list)\n",
    "    print(fv_list)"
   ]
  },
  {
   "cell_type": "code",
   "execution_count": null,
   "metadata": {},
   "outputs": [],
   "source": []
  }
 ],
 "metadata": {
  "kernelspec": {
   "display_name": "Python 3",
   "language": "python",
   "name": "python3"
  },
  "language_info": {
   "codemirror_mode": {
    "name": "ipython",
    "version": 3
   },
   "file_extension": ".py",
   "mimetype": "text/x-python",
   "name": "python",
   "nbconvert_exporter": "python",
   "pygments_lexer": "ipython3",
   "version": "3.12.7"
  }
 },
 "nbformat": 4,
 "nbformat_minor": 2
}
