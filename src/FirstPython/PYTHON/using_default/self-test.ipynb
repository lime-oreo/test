{
 "cells": [
  {
   "cell_type": "code",
   "execution_count": 2,
   "metadata": {},
   "outputs": [
    {
     "name": "stdout",
     "output_type": "stream",
     "text": [
      "로그인 실패! 로그인을 다시 시도하세요\n",
      "로그인 실패! 로그인을 다시 시도하세요\n",
      "로그인 완료\n"
     ]
    }
   ],
   "source": [
    "#244pg\n",
    "'''시스템 관리자 로그인 기능'''\n",
    "''' 5회 이상 로그인 시도시 로그인 실패로 만들기'''\n",
    "\n",
    "adminPw='hanbitac'\n",
    "count = 0\n",
    "\n",
    "while True:\n",
    "    logIn=input('관리자 암호 입력 :')\n",
    "\n",
    "    if logIn == adminPw :\n",
    "        print('로그인 완료')\n",
    "        break #logIn input의 결과가 같으면 while loop을 멈춰라.\n",
    "    \n",
    "\n",
    "    if logIn != adminPw:\n",
    "        print('로그인 실패! 로그인을 다시 시도하세요')\n",
    "        count +=1 # input의 결과가 다르다면 로그인 실패 문을 띄운 후 count를 늘여라.\n",
    "        if count < 5 : #늘이는 대신, count 가 5회 미만이면, 계속 이 if 문을 반복하고,\n",
    "            continue\n",
    "        elif count == 5 : # count 가 5회가 되면, 로그인 실패에서 멈추고 break을 걸어라.\n",
    "            print('로그인 실패') \n",
    "            break\n",
    "\n",
    "    \n"
   ]
  },
  {
   "cell_type": "code",
   "execution_count": 9,
   "metadata": {},
   "outputs": [
    {
     "name": "stdout",
     "output_type": "stream",
     "text": [
      "*\n",
      "**\n",
      "***\n",
      "\n"
     ]
    }
   ],
   "source": [
    "output = \"\"\n",
    "\n",
    "for i in range(1, 4):\n",
    "    for j in range(0, i):\n",
    "        output += \"*\"\n",
    "    output += \"\\n\" #공백에 줄바꿈 추가하기\n",
    "\n",
    "print(output)"
   ]
  },
  {
   "cell_type": "code",
   "execution_count": 12,
   "metadata": {},
   "outputs": [
    {
     "name": "stdout",
     "output_type": "stream",
     "text": [
      "*\n",
      "***\n",
      "*****\n",
      "*******\n",
      "*********\n",
      "***********\n",
      "*************\n",
      "***************\n",
      "*****************\n",
      "*******************\n",
      "*********************\n",
      "***********************\n",
      "*************************\n",
      "***************************\n",
      "\n"
     ]
    }
   ],
   "source": [
    "output = \"\"\n",
    "\n",
    "for i in range(1, 15):\n",
    "#    for j in range(14, i, -1):\n",
    " #       output += ' '\n",
    "    for j in range(0, 2 * i -1):\n",
    "        output += '*'\n",
    "    output += '\\n'\n",
    "\n",
    "print(output)"
   ]
  },
  {
   "cell_type": "code",
   "execution_count": 3,
   "metadata": {},
   "outputs": [
    {
     "ename": "SyntaxError",
     "evalue": "invalid syntax (1331783875.py, line 9)",
     "output_type": "error",
     "traceback": [
      "\u001b[1;36m  Cell \u001b[1;32mIn[3], line 9\u001b[1;36m\u001b[0m\n\u001b[1;33m    firstRide= 9:\u001b[0m\n\u001b[1;37m                ^\u001b[0m\n\u001b[1;31mSyntaxError\u001b[0m\u001b[1;31m:\u001b[0m invalid syntax\n"
     ]
    }
   ],
   "source": [
    "'''열차 교차 시간 알아내기'''\n",
    "'''한빛역 3개의 노선의 열차가 오전 9시~ 오후 6시까지 교차 운행'''\n",
    "'''3대의 열차가 교차하는 시간을 구해 열차 충돌 사고를 막기.'''\n",
    "'''모든 열차는 매일 오전 9시에 한빛역에서 모든 열차가 출발함.'''\n",
    "\n",
    "TrainA=10\n",
    "TrainB=25\n",
    "TrainC=30\n",
    "firstRide= 9:\n"
   ]
  },
  {
   "cell_type": "code",
   "execution_count": 6,
   "metadata": {},
   "outputs": [
    {
     "name": "stdout",
     "output_type": "stream",
     "text": [
      "1\n",
      "2\n",
      "3 짝!\n",
      "4\n",
      "5\n",
      "6 짝!\n",
      "7\n",
      "8\n",
      "9 짝!\n",
      "10\n",
      "11\n",
      "12 짝!\n",
      "13\n",
      "14\n",
      "15 짝!\n",
      "16\n",
      "17\n",
      "18 짝!\n",
      "19\n",
      "20\n",
      "21 짝!\n",
      "22\n",
      "23\n",
      "24 짝!\n",
      "25\n",
      "26\n",
      "27 짝!\n",
      "28\n",
      "29\n",
      "30 짝!\n",
      "31\n",
      "32\n",
      "33 짝!\n",
      "34\n",
      "35\n",
      "36 짝!\n",
      "37\n",
      "38\n",
      "39 짝!\n",
      "40\n",
      "41\n",
      "42 짝!\n",
      "43\n",
      "44\n",
      "45 짝!\n",
      "46\n",
      "47\n",
      "48 짝!\n",
      "49\n",
      "50\n",
      "51 짝!\n",
      "52\n",
      "53\n",
      "54 짝!\n",
      "55\n",
      "56\n",
      "57 짝!\n",
      "58\n",
      "59\n",
      "60 짝!\n",
      "61\n",
      "62\n",
      "63 짝!\n",
      "64\n",
      "65\n",
      "66 짝!\n",
      "67\n",
      "68\n",
      "69 짝!\n",
      "70\n",
      "71\n",
      "72 짝!\n",
      "73\n",
      "74\n",
      "75 짝!\n",
      "76\n",
      "77\n",
      "78 짝!\n",
      "79\n",
      "80\n",
      "81 짝!\n",
      "82\n",
      "83\n",
      "84 짝!\n",
      "85\n",
      "86\n",
      "87 짝!\n",
      "88\n",
      "89\n",
      "90 짝!\n",
      "91\n",
      "92\n",
      "93 짝!\n",
      "94\n",
      "95\n",
      "96 짝!\n",
      "97\n",
      "98\n",
      "99 짝!\n"
     ]
    }
   ],
   "source": [
    "\n",
    "# 242pg \n",
    "for i in range (1,100,1):\n",
    "    if i %3==0:\n",
    "        print(i,'짝!')\n",
    "    else : \n",
    "        print (i)"
   ]
  },
  {
   "cell_type": "code",
   "execution_count": 10,
   "metadata": {},
   "outputs": [
    {
     "name": "stdout",
     "output_type": "stream",
     "text": [
      "틀렸습니다. 당신이 입력한 숫자는 2이었으며, 난수는 9이었습니다.다시 입력하세요.\n",
      "틀렸습니다. 당신이 입력한 숫자는 3이었으며, 난수는 9이었습니다.다시 입력하세요.\n",
      "틀렸습니다. 당신이 입력한 숫자는 4이었으며, 난수는 9이었습니다.다시 입력하세요.\n",
      "틀렸습니다. 당신이 입력한 숫자는 5이었으며, 난수는 9이었습니다.다시 입력하세요.\n",
      "당신은 게임에서 졌습니다. 당신이 입력한 숫자는 9이었으며, 난수는 9이었습니다.\n"
     ]
    }
   ],
   "source": [
    "#247pg\n",
    "#1부터 100까지의 난수 발생\n",
    "import random\n",
    "correct_number = random.randint(1,100) \n",
    "#1부터 10까지의 random int값을 random module에서 불러온다.\n",
    "\n",
    "#사용자가 입력한 숫자가 난수와 일치시 '정답입니다.' 게임 종료\n",
    "\n",
    "count = 1\n",
    "\n",
    "while True:\n",
    "    randomInput=int(input('random 숫자를 입력하세요. : '))  \n",
    "    if count < 5:\n",
    "        if randomInput != correct_number :\n",
    "            count += 1\n",
    "            print (f'틀렸습니다. 당신이 입력한 숫자는 {randomInput}이었으며, 난수는 {correct_number}이었습니다.다시 입력하세요.')\n",
    "            \n",
    "       # else:\n",
    "          #  print (f'정답입니다. 당신이 입력한 숫자는 {randomInput}이었으며, 난수는 {correct_number}이었습니다.')   \n",
    "          #  break\n",
    "        elif randomInput== correct_number : #이렇게 하면 5번째 기회에 정답을 맞추어도 결과가 안나옴\n",
    "            pass\n",
    "            print (f'정답입니다. 당신이 입력한 숫자는 {randomInput}이었으며, 난수는 {correct_number}이었습니다.')   \n",
    "            break\n",
    "    # 난수 불일치시 ,'틀렸습니다. 다시 입력하세요.' 출력 후 다시 물어보기. []\n",
    "    # count가 5가 되면 게임에서 진다.\n",
    "    elif count ==5 :\n",
    "        print (f'당신은 게임에서 졌습니다. 당신이 입력한 숫자는 {randomInput}이었으며, 난수는 {correct_number}이었습니다.')\n",
    "        break\n"
   ]
  },
  {
   "cell_type": "code",
   "execution_count": null,
   "metadata": {},
   "outputs": [],
   "source": [
    "4490"
   ]
  }
 ],
 "metadata": {
  "kernelspec": {
   "display_name": "Python 3",
   "language": "python",
   "name": "python3"
  },
  "language_info": {
   "codemirror_mode": {
    "name": "ipython",
    "version": 3
   },
   "file_extension": ".py",
   "mimetype": "text/x-python",
   "name": "python",
   "nbconvert_exporter": "python",
   "pygments_lexer": "ipython3",
   "version": "3.12.7"
  }
 },
 "nbformat": 4,
 "nbformat_minor": 2
}
