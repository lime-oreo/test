{
 "cells": [
  {
   "cell_type": "code",
   "execution_count": 1,
   "metadata": {},
   "outputs": [
    {
     "name": "stdout",
     "output_type": "stream",
     "text": [
      "<class 'numpy.ndarray'>\n"
     ]
    }
   ],
   "source": [
    "import cv2\n",
    "#이미지 파일을 읽어온다.\n",
    "\n",
    "img =cv2.imread('image.jpg') #이미지 압축을 풀어서 img 변수로 불러온 것\n",
    "print(type(img))\n",
    "\n",
    "#이미지를 화면에 표시한다\n",
    "cv2.imshow('image',img)\n",
    "# 키 입력을 대기한다\n",
    "cv2.waitKey(0)\n",
    "\n",
    "# 모든 윈도우를 종료한다\n",
    "cv2.destroyAllWindows()\n",
    "\n"
   ]
  },
  {
   "cell_type": "code",
   "execution_count": 6,
   "metadata": {},
   "outputs": [],
   "source": [
    "file = open ('test.txt','w') #파일 open해야함\n",
    "file.write('Hello World\\nHello Hello')\n",
    "print('구성순',file=file)\n",
    "file. close ()"
   ]
  },
  {
   "cell_type": "code",
   "execution_count": 9,
   "metadata": {},
   "outputs": [
    {
     "name": "stdout",
     "output_type": "stream",
     "text": [
      "====입력정보====\n",
      "\n",
      "===========\n",
      "\n",
      "====입력정보====\n",
      "\n",
      "===========\n",
      "\n",
      "====입력정보====\n",
      "\n",
      "===========\n",
      "\n",
      "프로그램을 종료합니다.\n"
     ]
    }
   ],
   "source": [
    "#파일을 text 파일로 작성하기\n",
    "\n",
    "file = open ('test.txt','w',encoding=\"UTF-8\") #파일 open해야함\n",
    "\"\"\"file.write('Hello World\\nHello Hello')\n",
    "print('구성순',file=file)\"\"\"\n",
    "\n",
    "# print( '' , file = file )로 text 파일 작성\n",
    "while True :\n",
    "    exit_input=input ('입력을 계속 하시겠습니까? : \\n(계속하려면 ENTER ,종료하려면 종료입력.)')\n",
    "    if exit_input=='종료':\n",
    "        print('프로그램을 종료합니다.')\n",
    "        break  #while loop을 빠져나옴\n",
    "    my_name=(input(\"본인 이름:\" )) #input 변수선언 필요\n",
    "    my_ad=(input(\"사는 곳:\" ))\n",
    "    my_major=(input(\"전공:\"))\n",
    "    my_goal=(input(\"수강 목적:\"))\n",
    "    my_fv=(input(\"주변맛집:\"))\n",
    "\n",
    "    print ('====입력정보====\\n')\n",
    "    print(f'본인 이름 : {my_name}',file=file)\n",
    "    print(f'본인 주소: {my_ad}',file=file)\n",
    "    print(f'본인 전공: {my_major}',file=file)\n",
    "    print(f'본인 목적: {my_goal}',file=file)\n",
    "    print(f'주변 맛집: {my_fv}',file=file)\n",
    "    print ('===========\\n')\n",
    "\n",
    "\n",
    "file. close ()\n"
   ]
  },
  {
   "cell_type": "code",
   "execution_count": 11,
   "metadata": {},
   "outputs": [
    {
     "name": "stdout",
     "output_type": "stream",
     "text": [
      "프로그램을 종료합니다.\n"
     ]
    }
   ],
   "source": [
    "#파일을 text 파일로 작성하기\n",
    "\n",
    "file = open ('test.txt','w',encoding=\"UTF-8\") #파일 open해야함\n",
    "\n",
    "# file.write으로 text 파일 작성\n",
    "while True :\n",
    "    exit_input=input ('입력을 계속 하시겠습니까? : \\n(계속하려면 ENTER ,종료하려면 종료입력.)')\n",
    "    if exit_input=='종료':\n",
    "        print('프로그램을 종료합니다.')\n",
    "        break  #while loop을 빠져나옴\n",
    "    my_name=(input(\"본인 이름:\" )) #input 변수선언 필요\n",
    "    my_ad=(input(\"사는 곳:\" ))\n",
    "    my_major=(input(\"전공:\"))\n",
    "    my_goal=(input(\"수강 목적:\"))\n",
    "    my_fv=(input(\"주변맛집:\"))\n",
    "\n",
    "    file.write('====입력정보====\\n')\n",
    "    file.write(f'본인 이름 : {my_name}')\n",
    "    file.write(f'본인 주소: {my_ad}')\n",
    "    file.write(f'본인 전공: {my_major}')\n",
    "    file.write(f'본인 목적: {my_goal}')\n",
    "    file.write(f'주변 맛집: {my_fv}')\n",
    "    file.write('===========\\n')\n",
    "\n",
    "\n",
    "file. close () # 꼭 닫아줘야 메모리 차지가 덜 함.\n",
    "\n"
   ]
  },
  {
   "cell_type": "code",
   "execution_count": 13,
   "metadata": {},
   "outputs": [],
   "source": [
    "from openpyxl import Workbook\n",
    "\n",
    "wb =Workbook ()\n",
    "\n",
    "ws = wb.active\n",
    "#셀에 데이터 쓰기\n",
    "ws['A1'] = 'Name'\n",
    "ws['B1'] = \"Age\"\n",
    "ws['A2'] = \"John Doe\"\n",
    "ws['B2'] = 25\n",
    "ws['A3'] = \"Jane Doe\"\n",
    "ws['B3'] = 30\n",
    "wb.save('sample.xlsx')\n"
   ]
  },
  {
   "cell_type": "code",
   "execution_count": 18,
   "metadata": {},
   "outputs": [
    {
     "name": "stdout",
     "output_type": "stream",
     "text": [
      "프로그램을 종료합니다.\n"
     ]
    }
   ],
   "source": [
    "#엑셀파일에 저장하기\n",
    "from openpyxl import Workbook\n",
    "\n",
    "wb =Workbook ()\n",
    "\n",
    "ws = wb.active\n",
    "\n",
    "while True :\n",
    "    exit_input=input ('입력을 계속 하시겠습니까? : \\n(계속하려면 ENTER ,종료하려면 종료입력.)')\n",
    "    if exit_input=='종료':\n",
    "        print('프로그램을 종료합니다.')\n",
    "        break  #while loop을 빠져나옴\n",
    "    my_name=(input(\"본인 이름:\" )) #input 변수선언 필요\n",
    "    my_ad=(input(\"사는 곳:\" ))\n",
    "    my_major=(input(\"전공:\"))\n",
    "    my_goal=(input(\"수강 목적:\"))\n",
    "    my_fv=(input(\"주변맛집:\"))\n",
    "\n",
    "    ws['A1']='Name'\n",
    "    ws['B1']='address'\n",
    "    ws['C1']='major'\n",
    "    ws['D1']='goal'\n",
    "    ws['E1']='favorite'\n",
    "    ws['A2']=my_name\n",
    "    ws['B2']=my_ad\n",
    "    ws['C2']=my_major\n",
    "    ws['D2']=my_goal\n",
    "    ws['E2']=my_fv\n",
    "\n",
    "wb.save('sample_introduction.xlsx')"
   ]
  },
  {
   "cell_type": "code",
   "execution_count": 21,
   "metadata": {},
   "outputs": [
    {
     "name": "stdout",
     "output_type": "stream",
     "text": [
      "None None \n"
     ]
    }
   ],
   "source": [
    "from openpyxl import load_workbook\n",
    "\n",
    "load_workbook('sample_introduction.xlsx')\n",
    "wb =Workbook ()\n",
    "\n",
    "ws = wb.active\n",
    "# 셀 데이터를 읽어서 출력하기\n",
    "for row in ws.iter_rows(min_row=1, max_row=ws.max_row, min_col=1, max_col=2):\n",
    "    for cell in row:\n",
    "        print(cell.value, end=\" \")  # 셀의 값을 출력\n",
    "    print()  # 행 끝에 줄바꿈"
   ]
  },
  {
   "cell_type": "code",
   "execution_count": null,
   "metadata": {},
   "outputs": [],
   "source": []
  }
 ],
 "metadata": {
  "kernelspec": {
   "display_name": "Python 3",
   "language": "python",
   "name": "python3"
  },
  "language_info": {
   "codemirror_mode": {
    "name": "ipython",
    "version": 3
   },
   "file_extension": ".py",
   "mimetype": "text/x-python",
   "name": "python",
   "nbconvert_exporter": "python",
   "pygments_lexer": "ipython3",
   "version": "3.12.7"
  }
 },
 "nbformat": 4,
 "nbformat_minor": 2
}
