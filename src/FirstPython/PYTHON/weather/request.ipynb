{
 "cells": [
  {
   "cell_type": "code",
   "execution_count": 13,
   "metadata": {},
   "outputs": [
    {
     "name": "stdout",
     "output_type": "stream",
     "text": [
      "Category: TMP, Value: 10\n",
      "Category: UUU, Value: 1.7\n",
      "Category: VVV, Value: 3.6\n",
      "Category: VEC, Value: 205\n",
      "Category: WSD, Value: 3.9\n",
      "Category: SKY, Value: 4\n",
      "Category: PTY, Value: 1\n",
      "Category: POP, Value: 67\n",
      "Category: WAV, Value: 0\n",
      "Category: PCP, Value: 4.0mm\n"
     ]
    }
   ],
   "source": [
    "import requests\n",
    "import datetime\n",
    "\n",
    "# 기상청 OpenAPI 인증키\n",
    "API_KEY = \"yJx31CfRrU9M2OWzJIVY5SjwfZzIg1/hMrD45fvVr3ORbv1bm0HyKF6R83CpIeSJTuMZ7vBp7qFiLR43cUEllA==\"  # 발급받은 인증키를 입력하세요\n",
    "\n",
    "# 기상청 단기예보 API URL\n",
    "BASE_URL = \"http://apis.data.go.kr/1360000/VilageFcstInfoService_2.0/getVilageFcst\"\n",
    "\n",
    "# 요청 파라미터 설정\n",
    "params = {\n",
    "    \"serviceKey\": API_KEY,  # 인증키\n",
    "    \"numOfRows\": 10,       # 한 번에 가져올 데이터 수\n",
    "    \"pageNo\": 1,           # 페이지 번호\n",
    "    \"dataType\": \"JSON\",    # 데이터 타입 (JSON, XML)\n",
    "    \"base_date\": datetime.datetime.now().strftime(\"%Y%m%d\"),  # 오늘 날짜\n",
    "    \"base_time\": \"0500\",   # 기준 시간 (예: 0500, 1100, 1700)\n",
    "    \"nx\": 61,              # X 좌표 (서울 예시)\n",
    "    \"ny\": 127              # Y 좌표 (서울 예시)\n",
    "}\n",
    "\n",
    "# 요청 보내기\n",
    "response = requests.get(BASE_URL, params=params)\n",
    "\n",
    "# 응답 처리\n",
    "if response.status_code == 200:\n",
    "    data = response.json()  # JSON 파싱\n",
    "    if \"response\" in data and \"body\" in data[\"response\"]:\n",
    "        items = data[\"response\"][\"body\"][\"items\"][\"item\"]\n",
    "        for item in items:\n",
    "            print(f\"Category: {item['category']}, Value: {item['fcstValue']}\")\n",
    "    else:\n",
    "        print(\"No data found.\")\n",
    "else:\n",
    "    print(f\"Error: {response.status_code}\")"
   ]
  },
  {
   "cell_type": "code",
   "execution_count": 14,
   "metadata": {},
   "outputs": [
    {
     "name": "stdout",
     "output_type": "stream",
     "text": [
      "{\"response\":{\"header\":{\"resultCode\":\"00\",\"resultMsg\":\"NORMAL_SERVICE\"},\"body\":{\"dataType\":\"JSON\",\"items\":{\"item\":[{\"baseDate\":\"20241126\",\"baseTime\":\"0500\",\"category\":\"TMP\",\"fcstDate\":\"20241126\",\"fcstTime\":\"0600\",\"fcstValue\":\"10\",\"nx\":61,\"ny\":127},{\"baseDate\":\"20241126\",\"baseTime\":\"0500\",\"category\":\"UUU\",\"fcstDate\":\"20241126\",\"fcstTime\":\"0600\",\"fcstValue\":\"1.7\",\"nx\":61,\"ny\":127},{\"baseDate\":\"20241126\",\"baseTime\":\"0500\",\"category\":\"VVV\",\"fcstDate\":\"20241126\",\"fcstTime\":\"0600\",\"fcstValue\":\"3.6\",\"nx\":61,\"ny\":127},{\"baseDate\":\"20241126\",\"baseTime\":\"0500\",\"category\":\"VEC\",\"fcstDate\":\"20241126\",\"fcstTime\":\"0600\",\"fcstValue\":\"205\",\"nx\":61,\"ny\":127},{\"baseDate\":\"20241126\",\"baseTime\":\"0500\",\"category\":\"WSD\",\"fcstDate\":\"20241126\",\"fcstTime\":\"0600\",\"fcstValue\":\"3.9\",\"nx\":61,\"ny\":127},{\"baseDate\":\"20241126\",\"baseTime\":\"0500\",\"category\":\"SKY\",\"fcstDate\":\"20241126\",\"fcstTime\":\"0600\",\"fcstValue\":\"4\",\"nx\":61,\"ny\":127},{\"baseDate\":\"20241126\",\"baseTime\":\"0500\",\"category\":\"PTY\",\"fcstDate\":\"20241126\",\"fcstTime\":\"0600\",\"fcstValue\":\"1\",\"nx\":61,\"ny\":127},{\"baseDate\":\"20241126\",\"baseTime\":\"0500\",\"category\":\"POP\",\"fcstDate\":\"20241126\",\"fcstTime\":\"0600\",\"fcstValue\":\"67\",\"nx\":61,\"ny\":127},{\"baseDate\":\"20241126\",\"baseTime\":\"0500\",\"category\":\"WAV\",\"fcstDate\":\"20241126\",\"fcstTime\":\"0600\",\"fcstValue\":\"0\",\"nx\":61,\"ny\":127},{\"baseDate\":\"20241126\",\"baseTime\":\"0500\",\"category\":\"PCP\",\"fcstDate\":\"20241126\",\"fcstTime\":\"0600\",\"fcstValue\":\"4.0mm\",\"nx\":61,\"ny\":127}]},\"pageNo\":1,\"numOfRows\":10,\"totalCount\":809}}}\n"
     ]
    }
   ],
   "source": [
    "response = requests.get(BASE_URL, params=params)\n",
    "print(response.text)\n"
   ]
  },
  {
   "cell_type": "code",
   "execution_count": 15,
   "metadata": {},
   "outputs": [
    {
     "name": "stdout",
     "output_type": "stream",
     "text": [
      "Status Code: 200\n",
      "Response Text: {\"response\":{\"header\":{\"resultCode\":\"00\",\"resultMsg\":\"NORMAL_SERVICE\"},\"body\":{\"dataType\":\"JSON\",\"items\":{\"item\":[{\"baseDate\":\"20241126\",\"baseTime\":\"0500\",\"category\":\"TMP\",\"fcstDate\":\"20241126\",\"fcstTime\":\"0600\",\"fcstValue\":\"10\",\"nx\":61,\"ny\":127},{\"baseDate\":\"20241126\",\"baseTime\":\"0500\",\"category\":\"UUU\",\"fcstDate\":\"20241126\",\"fcstTime\":\"0600\",\"fcstValue\":\"1.7\",\"nx\":61,\"ny\":127},{\"baseDate\":\"20241126\",\"baseTime\":\"0500\",\"category\":\"VVV\",\"fcstDate\":\"20241126\",\"fcstTime\":\"0600\",\"fcstValue\":\"3.6\",\"nx\":61,\"ny\":127},{\"baseDate\":\"20241126\",\"baseTime\":\"0500\",\"category\":\"VEC\",\"fcstDate\":\"20241126\",\"fcstTime\":\"0600\",\"fcstValue\":\"205\",\"nx\":61,\"ny\":127},{\"baseDate\":\"20241126\",\"baseTime\":\"0500\",\"category\":\"WSD\",\"fcstDate\":\"20241126\",\"fcstTime\":\"0600\",\"fcstValue\":\"3.9\",\"nx\":61,\"ny\":127},{\"baseDate\":\"20241126\",\"baseTime\":\"0500\",\"category\":\"SKY\",\"fcstDate\":\"20241126\",\"fcstTime\":\"0600\",\"fcstValue\":\"4\",\"nx\":61,\"ny\":127},{\"baseDate\":\"20241126\",\"baseTime\":\"0500\",\"category\":\"PTY\",\"fcstDate\":\"20241126\",\"fcstTime\":\"0600\",\"fcstValue\":\"1\",\"nx\":61,\"ny\":127},{\"baseDate\":\"20241126\",\"baseTime\":\"0500\",\"category\":\"POP\",\"fcstDate\":\"20241126\",\"fcstTime\":\"0600\",\"fcstValue\":\"67\",\"nx\":61,\"ny\":127},{\"baseDate\":\"20241126\",\"baseTime\":\"0500\",\"category\":\"WAV\",\"fcstDate\":\"20241126\",\"fcstTime\":\"0600\",\"fcstValue\":\"0\",\"nx\":61,\"ny\":127},{\"baseDate\":\"20241126\",\"baseTime\":\"0500\",\"category\":\"PCP\",\"fcstDate\":\"20241126\",\"fcstTime\":\"0600\",\"fcstValue\":\"4.0mm\",\"nx\":61,\"ny\":127}]},\"pageNo\":1,\"numOfRows\":10,\"totalCount\":809}}}\n"
     ]
    }
   ],
   "source": [
    "response = requests.get(BASE_URL, params=params)\n",
    "print(\"Status Code:\", response.status_code)\n",
    "print(\"Response Text:\", response.text)\n"
   ]
  },
  {
   "cell_type": "code",
   "execution_count": null,
   "metadata": {},
   "outputs": [],
   "source": []
  }
 ],
 "metadata": {
  "kernelspec": {
   "display_name": "base",
   "language": "python",
   "name": "python3"
  },
  "language_info": {
   "codemirror_mode": {
    "name": "ipython",
    "version": 3
   },
   "file_extension": ".py",
   "mimetype": "text/x-python",
   "name": "python",
   "nbconvert_exporter": "python",
   "pygments_lexer": "ipython3",
   "version": "3.12.7"
  }
 },
 "nbformat": 4,
 "nbformat_minor": 2
}
