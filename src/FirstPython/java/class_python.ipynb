{
 "cells": [
  {
   "cell_type": "code",
   "execution_count": null,
   "metadata": {},
   "outputs": [
    {
     "name": "stdout",
     "output_type": "stream",
     "text": [
      "*\n",
      "**\n",
      "***\n",
      "****\n",
      "*****\n"
     ]
    }
   ],
   "source": [
    "N= int(input())\n",
    "\n",
    "for i in range(1,N+1):\n",
    "    a= \"*\"*i\n",
    "    print(a)"
   ]
  },
  {
   "cell_type": "code",
   "execution_count": 45,
   "metadata": {},
   "outputs": [
    {
     "name": "stdout",
     "output_type": "stream",
     "text": [
      "    *\n",
      "   **\n",
      "  ***\n",
      " ****\n",
      "*****\n"
     ]
    }
   ],
   "source": [
    "N= int(input())\n",
    "\n",
    "for i in range(1,N+1):\n",
    "    # 공백은 * (N+1-i)만큼 생성, \n",
    "    # *은i만큼 생성\n",
    "    no_a=' ' * (N-i)\n",
    "    a= \"*\"*i\n",
    "    print(no_a+ a)"
   ]
  },
  {
   "cell_type": "code",
   "execution_count": 19,
   "metadata": {},
   "outputs": [],
   "source": [
    "class DataProcessor :\n",
    "    def read_data(self, file_path):\n",
    "        return open (file_path).read()\n",
    "    \n",
    "    def process_data(self, data):\n",
    "        return data.lower()\n",
    "    \n",
    "    def save_data(self, data, file_path,content):\n",
    "        with open(file_path,'a') as f:\n",
    "            f.write(content)\n",
    "\n",
    "\n",
    "#object 생성 및 실행\n",
    "file_path1='C:/src_green/src/FirstPython/PYTHON/foo.txt'\n",
    "processor = DataProcessor()\n",
    "data= processor.read_data(file_path1)\n",
    "processed_data = processor.process_data(data)\n",
    "processor.save_data(processed_data,'foo_output.txt','\\nthis is appenede line')"
   ]
  },
  {
   "cell_type": "code",
   "execution_count": 31,
   "metadata": {},
   "outputs": [
    {
     "name": "stdout",
     "output_type": "stream",
     "text": [
      "Diifference result :0\n",
      "Addition result :50\n"
     ]
    }
   ],
   "source": [
    "class Calculator :\n",
    "    def add( self, a,b ):\n",
    "        return a + b\n",
    "    \n",
    "    def diff (self, a,b):\n",
    "        return a-b\n",
    "\n",
    "class Operation :\n",
    "    def __init__(self,calculator):\n",
    "        self . calculator = calculator\n",
    "\n",
    "    def perform_addition (self, x, y):\n",
    "        return self.calculator.add(x,y)\n",
    "    \n",
    "    def perform_difference (self, x,y):\n",
    "        return self.calculator.diff(x,y)\n",
    "\n",
    "calculator=Calculator()\n",
    "operation = Operation(calculator)\n",
    "result = operation.perform_difference(y=20,x=20)\n",
    "result1 = operation.perform_addition(x=20,y=30)\n",
    "print(f'Diifference result :{result}')\n",
    "print(f'Addition result :{result1}')\n"
   ]
  },
  {
   "cell_type": "code",
   "execution_count": 37,
   "metadata": {},
   "outputs": [
    {
     "name": "stdout",
     "output_type": "stream",
     "text": [
      "Sending email to 2\n"
     ]
    }
   ],
   "source": [
    "class User :\n",
    "    def __init__(self,username,email, phone):\n",
    "        self.username = username\n",
    "        self.email= email\n",
    "        self.phone= phone\n",
    "        \n",
    "class Emailsender :\n",
    "    def send_email(self, user):\n",
    "        print(f'Sending email to {user.email}')\n",
    "\n",
    "class NotificationService:\n",
    "    def __init__(self,email_sender):\n",
    "        self.email_sender = email_sender\n",
    "\n",
    "    def notify (self, user):\n",
    "        self.email_sender.send_email (user)\n",
    "\n",
    "whole_input=list(input('내이름 내메일 내전화번호에 들어갈 항목을 띄워써서 입력').split())\n",
    "#a_input = input('my name :')\n",
    "#b_input = input ('Type my email:')\n",
    "#c_input = input ('Type my phone number :')\n",
    "a= whole_input[0]\n",
    "b= whole_input[1]\n",
    "c= whole_input[2]\n",
    "user= User(a,b,c)\n",
    "email_sender= Emailsender()\n",
    "notification=NotificationService(email_sender)\n",
    "\n",
    "notification.notify(user)"
   ]
  },
  {
   "cell_type": "code",
   "execution_count": 38,
   "metadata": {},
   "outputs": [],
   "source": [
    "while True:\n",
    "# 두 정수 A+B 출력하는 프로그램\n",
    "    try: \n",
    "        a,b=map(int,input().split())\n",
    "        print(a+b)\n",
    "    except:\n",
    "        break"
   ]
  },
  {
   "cell_type": "code",
   "execution_count": null,
   "metadata": {},
   "outputs": [
    {
     "name": "stdout",
     "output_type": "stream",
     "text": [
      "Sorted data:[9, 5, 2, 1]\n"
     ]
    }
   ],
   "source": [
    "class Sorter:\n",
    "    def sort_data (self, data, sort_type):\n",
    "        if sort_type == 'asc': #ascending\n",
    "            return sorted(data)\n",
    "        elif sort_type == 'desc':\n",
    "            return sorted(data, reverse=True) #descending\n",
    "        \n",
    "class DataProcessor:\n",
    "    def __init__(self,sorter):\n",
    "        self.sorter = sorter\n",
    "        \n",
    "    def process (self,data,sort_type):\n",
    "        return self.sorter.sort_data (data,sort_type)\n",
    "    \n",
    "\n",
    "sorter= Sorter()\n",
    "processor = DataProcessor (sorter)\n",
    "sorted_data = processor.process ([5,2,9,1],'desc')\n",
    "print(f'Sorted data:{sorted_data}')"
   ]
  },
  {
   "cell_type": "code",
   "execution_count": 53,
   "metadata": {},
   "outputs": [
    {
     "name": "stdout",
     "output_type": "stream",
     "text": [
      "Processing payment fo 100 through external gateway\n"
     ]
    }
   ],
   "source": [
    "class PaymentGateway:\n",
    "    def process_payment(self, amount):\n",
    "        print(f'Processing payment fo {amount} through external gateway')\n",
    "\n",
    "class OrderProcessor:\n",
    "    def __init__ (self, payment_gateway):\n",
    "        self.payment_gateway=payment_gateway\n",
    "\n",
    "    def checkout(self,amount):\n",
    "        self.payment_gateway.process_payment(amount)\n",
    "\n",
    "\n",
    "gateway=PaymentGateway()\n",
    "processor=OrderProcessor(gateway)\n",
    "processor.checkout(100)"
   ]
  },
  {
   "cell_type": "code",
   "execution_count": 2,
   "metadata": {},
   "outputs": [
    {
     "name": "stdout",
     "output_type": "stream",
     "text": [
      "[1, 4, 9, 16, 25, 36, 49]\n"
     ]
    }
   ],
   "source": [
    "def square (x):\n",
    "    return x **2\n",
    "\n",
    "a = [1,2,3,4,5,6,7]\n",
    "square_a= list(map(lambda x: x**2, a))\n",
    "print(square_a)"
   ]
  },
  {
   "cell_type": "code",
   "execution_count": 3,
   "metadata": {},
   "outputs": [
    {
     "name": "stdout",
     "output_type": "stream",
     "text": [
      "(100과 200의 합:300)\n"
     ]
    }
   ],
   "source": [
    "add = lambda x, y : x+y\n",
    "print(f'(100과 200의 합:{add(100,200)})')"
   ]
  },
  {
   "cell_type": "code",
   "execution_count": 7,
   "metadata": {},
   "outputs": [
    {
     "name": "stdout",
     "output_type": "stream",
     "text": [
      "100과 200의 합: <function <lambda> at 0x000001B67BEA9F80> (100, 200)\n"
     ]
    }
   ],
   "source": [
    "print('100과 200의 합:',lambda x,y : x+y , (100,200))"
   ]
  },
  {
   "cell_type": "code",
   "execution_count": 8,
   "metadata": {},
   "outputs": [
    {
     "name": "stdout",
     "output_type": "stream",
     "text": [
      "100\n"
     ]
    }
   ],
   "source": [
    "sub = lambda x, y: x-y\n",
    "print(sub(200,100))"
   ]
  },
  {
   "cell_type": "code",
   "execution_count": 10,
   "metadata": {},
   "outputs": [
    {
     "name": "stdout",
     "output_type": "stream",
     "text": [
      "20 33 29 30 "
     ]
    }
   ],
   "source": [
    "def adult_func(n):\n",
    "    if n>= 19:\n",
    "        return True\n",
    "    else:\n",
    "        return False\n",
    "    \n",
    "ages = [10,20,33,18,29,30]\n",
    "\n",
    "for age in filter(adult_func,ages):\n",
    "    print(age, end=' ')"
   ]
  },
  {
   "cell_type": "code",
   "execution_count": null,
   "metadata": {},
   "outputs": [
    {
     "ename": "TypeError",
     "evalue": "list() takes no keyword arguments",
     "output_type": "error",
     "traceback": [
      "\u001b[1;31m---------------------------------------------------------------------------\u001b[0m",
      "\u001b[1;31mTypeError\u001b[0m                                 Traceback (most recent call last)",
      "Cell \u001b[1;32mIn[1], line 4\u001b[0m\n\u001b[0;32m      1\u001b[0m ages \u001b[38;5;241m=\u001b[39m [\u001b[38;5;241m10\u001b[39m,\u001b[38;5;241m20\u001b[39m,\u001b[38;5;241m33\u001b[39m,\u001b[38;5;241m18\u001b[39m,\u001b[38;5;241m29\u001b[39m,\u001b[38;5;241m30\u001b[39m]\n\u001b[0;32m      3\u001b[0m \u001b[38;5;28;01mfor\u001b[39;00m age \u001b[38;5;129;01min\u001b[39;00m \u001b[38;5;28mfilter\u001b[39m (\u001b[38;5;28;01mlambda\u001b[39;00m x : x\u001b[38;5;241m>\u001b[39m\u001b[38;5;241m=\u001b[39m\u001b[38;5;241m19\u001b[39m,ages):\n\u001b[1;32m----> 4\u001b[0m     \u001b[38;5;28mprint\u001b[39m(\u001b[38;5;28;43mlist\u001b[39;49m\u001b[43m(\u001b[49m\u001b[43mage\u001b[49m\u001b[43m,\u001b[49m\u001b[43m \u001b[49m\u001b[43mend\u001b[49m\u001b[38;5;241;43m=\u001b[39;49m\u001b[38;5;124;43m'\u001b[39;49m\u001b[38;5;124;43m \u001b[39;49m\u001b[38;5;124;43m'\u001b[39;49m\u001b[43m)\u001b[49m)\n",
      "\u001b[1;31mTypeError\u001b[0m: list() takes no keyword arguments"
     ]
    }
   ],
   "source": [
    "ages = [10,20,33,18,29,30]\n",
    "\n",
    "for age in filter (lambda x : x>=19,ages):\n",
    "    print(age, end=' ')\n"
   ]
  },
  {
   "cell_type": "code",
   "execution_count": 4,
   "metadata": {},
   "outputs": [
    {
     "name": "stdout",
     "output_type": "stream",
     "text": [
      "[20, 33, 29, 30]\n"
     ]
    }
   ],
   "source": [
    "ages = [10,20,33,18,29,30]\n",
    "adult_age = list(filter(lambda x : x>=19,ages))\n",
    "\n",
    "print(adult_age)"
   ]
  },
  {
   "cell_type": "code",
   "execution_count": 6,
   "metadata": {},
   "outputs": [
    {
     "name": "stdout",
     "output_type": "stream",
     "text": [
      "[-30, -5, -90, -46]\n"
     ]
    }
   ],
   "source": [
    "n_list = [-30,45, -5,-90,20,5377,-46]\n",
    "minus_list = []\n",
    "for n in filter(lambda x : x<0,n_list):\n",
    "    minus_list.append(n)\n",
    "print (minus_list)"
   ]
  },
  {
   "cell_type": "code",
   "execution_count": 7,
   "metadata": {},
   "outputs": [
    {
     "name": "stdout",
     "output_type": "stream",
     "text": [
      "[-30, -5, -90, -46]\n"
     ]
    }
   ],
   "source": [
    "n_list = [-30,45, -5,-90,20,5377,-46]\n",
    "minus_list = []\n",
    "append_minus = list ( filter ( lambda x : x<0,n_list))\n",
    "print(append_minus)"
   ]
  },
  {
   "cell_type": "code",
   "execution_count": 4,
   "metadata": {},
   "outputs": [
    {
     "name": "stdout",
     "output_type": "stream",
     "text": [
      "신용카드로 결제했습니다\n",
      "직불카드로 결제했습니다.\n",
      "\n",
      "신용카드로 결제했습니다\n"
     ]
    }
   ],
   "source": [
    "class CreditCard:\n",
    "    def make_payment(self):\n",
    "        print('신용카드로 결제했습니다')\n",
    "\n",
    "class DebitCard :\n",
    "    def make_payment(self):\n",
    "        print('직불카드로 결제했습니다.')\n",
    "\n",
    "class PaymentProcessor:\n",
    "    def __init__(self):\n",
    "        self.credit_card=CreditCard()\n",
    "        self.debit_card=DebitCard()\n",
    "    \n",
    "    def process_payment(self):\n",
    "        self.credit_card.make_payment()\n",
    "        self.debit_card.make_payment()\n",
    "\n",
    "\n",
    "if __name__ ==\"__main__\":\n",
    "    payment_processor = PaymentProcessor()\n",
    "    payment_processor.process_payment()\n",
    "    print()\n",
    "    credit_card_pro=CreditCard()\n",
    "    credit_card_pro.make_payment()"
   ]
  },
  {
   "cell_type": "code",
   "execution_count": 14,
   "metadata": {},
   "outputs": [
    {
     "ename": "TypeError",
     "evalue": "PaymentProcessor.__init__() missing 1 required positional argument: 'type_input'",
     "output_type": "error",
     "traceback": [
      "\u001b[1;31m---------------------------------------------------------------------------\u001b[0m",
      "\u001b[1;31mTypeError\u001b[0m                                 Traceback (most recent call last)",
      "Cell \u001b[1;32mIn[14], line 27\u001b[0m\n\u001b[0;32m     20\u001b[0m         \u001b[38;5;28mprint\u001b[39m(\u001b[38;5;124m'\u001b[39m\u001b[38;5;124m직불카드로 결제했습니다.\u001b[39m\u001b[38;5;124m'\u001b[39m)\n\u001b[0;32m     24\u001b[0m \u001b[38;5;28;01mif\u001b[39;00m \u001b[38;5;18m__name__\u001b[39m \u001b[38;5;241m==\u001b[39m\u001b[38;5;124m\"\u001b[39m\u001b[38;5;124m__main__\u001b[39m\u001b[38;5;124m\"\u001b[39m:\n\u001b[1;32m---> 27\u001b[0m     payment_processor \u001b[38;5;241m=\u001b[39m \u001b[43mPaymentProcessor\u001b[49m\u001b[43m(\u001b[49m\u001b[43m)\u001b[49m\n\u001b[0;32m     28\u001b[0m     payment_processor\u001b[38;5;241m.\u001b[39mprocess_payment(\u001b[38;5;241m1\u001b[39m)\n\u001b[0;32m     29\u001b[0m     \u001b[38;5;28mprint\u001b[39m()\n",
      "\u001b[1;31mTypeError\u001b[0m: PaymentProcessor.__init__() missing 1 required positional argument: 'type_input'"
     ]
    }
   ],
   "source": [
    "\n",
    "class PaymentProcessor():\n",
    "    def __init__(self,type_input):\n",
    "        if type_input == '1':\n",
    "            self.credit_card=CreditCard()\n",
    "        else: \n",
    "            self.debit_card=DebitCard()\n",
    "    \n",
    "    def process_payment(self,type):\n",
    "        if type == '1' :\n",
    "            self.credit_card.make_payment()\n",
    "        else:\n",
    "            self.debit_card.make_payment()\n",
    "\n",
    "class CreditCard:\n",
    "    def make_payment(self):\n",
    "        print('신용카드로 결제했습니다')\n",
    "\n",
    "class DebitCard :\n",
    "    def make_payment(self):\n",
    "        print('직불카드로 결제했습니다.')\n",
    "\n",
    "\n",
    "\n",
    "if __name__ ==\"__main__\":\n",
    "\n",
    "\n",
    "    payment_processor = PaymentProcessor()\n",
    "    payment_processor.process_payment(1)\n",
    "    print()\n",
    "    credit_card_pro=CreditCard()\n",
    "    credit_card_pro.make_payment()"
   ]
  },
  {
   "cell_type": "code",
   "execution_count": 16,
   "metadata": {},
   "outputs": [
    {
     "name": "stdout",
     "output_type": "stream",
     "text": [
      "신용카드로 결제했습니다\n",
      "신용카드로 결제했습니다\n"
     ]
    }
   ],
   "source": [
    "class PaymentProcessor:\n",
    "    def __init__(self, type_input):\n",
    "        if type_input == '1':\n",
    "            self.credit_card = CreditCard()\n",
    "            self.payment_method = self.credit_card\n",
    "        else:\n",
    "            self.debit_card = DebitCard()\n",
    "            self.payment_method = self.debit_card\n",
    "    \n",
    "    def process_payment(self):\n",
    "        self.payment_method.make_payment()\n",
    "\n",
    "class CreditCard:\n",
    "    def make_payment(self):\n",
    "        print('신용카드로 결제했습니다')\n",
    "\n",
    "class DebitCard:\n",
    "    def make_payment(self):\n",
    "        print('직불카드로 결제했습니다.')\n",
    "\n",
    "if __name__ == \"__main__\":\n",
    "    type_input = input('결제방식 선택')\n",
    "    payment_processor = PaymentProcessor(type_input)\n",
    "    payment_processor.process_payment()\n",
    "\n",
    "    # 신용카드 직접 생성 및 결제\n",
    "    credit_card_pro = CreditCard()\n",
    "    credit_card_pro.make_payment()\n",
    "\n"
   ]
  },
  {
   "cell_type": "code",
   "execution_count": 27,
   "metadata": {},
   "outputs": [
    {
     "name": "stdout",
     "output_type": "stream",
     "text": [
      "신용카드로 결제\n",
      "직불카드 사용\n",
      "카카오카드 사용\n"
     ]
    }
   ],
   "source": [
    "from abc import ABC , abstractmethod\n",
    "\n",
    "class PaymentMethod(ABC):\n",
    "    @abstractmethod\n",
    "    def make_payment(self):\n",
    "        pass\n",
    "\n",
    "class CreditCard(PaymentMethod):\n",
    "    def make_payment(self):\n",
    "        print('신용카드로 결제')\n",
    "\n",
    "class DebitCard(PaymentMethod):\n",
    "    def make_payment(self):\n",
    "        print('직불카드 사용')\n",
    "\n",
    "        \n",
    "class KAKAoCard(PaymentMethod):\n",
    "    def make_payment(self):\n",
    "        print('카카오카드 사용')\n",
    "\n",
    "class PaymentProcessor:\n",
    "    def __init__(self, payment_method : PaymentMethod):\n",
    "        self. payment_method = payment_method\n",
    "\n",
    "    def process_payment(self):\n",
    "        self.payment_method.make_payment()\n",
    "\n",
    "\n",
    "if __name__ == \"__main__\":\n",
    "    credit_card= CreditCard()\n",
    "    payment_processor=PaymentProcessor(credit_card)\n",
    "    payment_processor.process_payment()\n",
    "    \n",
    "    devit_card= DebitCard()\n",
    "    payment_processor=PaymentProcessor(devit_card)\n",
    "    payment_processor.process_payment()\n",
    "\n",
    "    kakao_card= KAKAoCard()\n",
    "    payment_processor=PaymentProcessor(kakao_card)\n",
    "    payment_processor.process_payment()"
   ]
  },
  {
   "cell_type": "code",
   "execution_count": null,
   "metadata": {},
   "outputs": [
    {
     "name": "stdout",
     "output_type": "stream",
     "text": [
      "신용카드로 결제\n"
     ]
    }
   ],
   "source": [
    "from abc import ABC , abstractmethod\n",
    "\n",
    "class PaymentMethod(ABC):\n",
    "    @abstractmethod\n",
    "    def make_payment(self):\n",
    "        pass\n",
    "\n",
    "class CreditCard(PaymentMethod):\n",
    "    def make_payment(self):\n",
    "        print('신용카드로 결제')\n",
    "\n",
    "\"\"\"class DebitCard(PaymentMethod):\n",
    "    def make_payment(self):\n",
    "        print('직불카드 사용')\n",
    "\n",
    "        \n",
    "class KAKAoCard(PaymentMethod):\n",
    "    def make_payment(self):\n",
    "        print('카카오카드 사용')\n",
    "\"\"\"\n",
    "class PaymentProcessor:\n",
    "    def __init__(self):\n",
    "        self. payment_method = None\n",
    "\n",
    "    def set_payment_method (self, payment_method : PaymentMethod):\n",
    "        self.payment_method= payment_method\n",
    "\n",
    "    def process_payment(self):\n",
    "        self.payment_method.make_payment()\n",
    "\n",
    "\n",
    "if __name__ == \"__main__\":\n",
    "    credit_card= CreditCard()\n",
    "    payment_processor=PaymentProcessor()\n",
    "    payment_processor.set_payment_method(credit_card) # process_payment가 payment_method을 받아서 실행되기 때문에\n",
    "    \n",
    "    payment_processor.process_payment()\n",
    "    \n",
    "    \"\"\"devit_card= DebitCard()\n",
    "    payment_processor=PaymentProcessor(devit_card)\n",
    "    payment_processor.process_payment()\n",
    "\n",
    "    kakao_card= KAKAoCard()\n",
    "    payment_processor=PaymentProcessor(kakao_card)\n",
    "    payment_processor.process_payment()\"\"\""
   ]
  },
  {
   "cell_type": "code",
   "execution_count": 38,
   "metadata": {},
   "outputs": [
    {
     "name": "stdout",
     "output_type": "stream",
     "text": [
      "Sending email: Hello, User!\n",
      "deleting email deleting\n"
     ]
    }
   ],
   "source": [
    "class EmailService:\n",
    "    def send_email(self, message):\n",
    "        print(f\"Sending email: {message}\")\n",
    "\n",
    "    def delete_email(self,message):\n",
    "        print(f'deleting email {message}')\n",
    "\n",
    "class UserService:\n",
    "    def set_email_service(self, mail_service):\n",
    "        self.mail_service = mail_service  # 외부에서 EmailService를 주입받음\n",
    "\n",
    "    def notify_user(self, message):\n",
    "        self.mail_service.send_email(message)\n",
    "\n",
    "    def delete_notify(self,message):\n",
    "        self.mail_service.delete_email(message)\n",
    "\n",
    "# EmailService 객체 생성\n",
    "email_service = EmailService()\n",
    "\n",
    "# UserService 객체 생성 및 EmailService 주입\n",
    "user_service = UserService()\n",
    "user_service.set_email_service(email_service)\n",
    "user_service.notify_user(\"Hello, User!\")\n",
    "user_service.delete_notify('deleting')"
   ]
  },
  {
   "cell_type": "code",
   "execution_count": null,
   "metadata": {},
   "outputs": [],
   "source": []
  }
 ],
 "metadata": {
  "kernelspec": {
   "display_name": "Python 3",
   "language": "python",
   "name": "python3"
  },
  "language_info": {
   "codemirror_mode": {
    "name": "ipython",
    "version": 3
   },
   "file_extension": ".py",
   "mimetype": "text/x-python",
   "name": "python",
   "nbconvert_exporter": "python",
   "pygments_lexer": "ipython3",
   "version": "3.12.7"
  }
 },
 "nbformat": 4,
 "nbformat_minor": 2
}
